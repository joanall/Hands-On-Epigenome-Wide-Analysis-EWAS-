{
  "nbformat": 4,
  "nbformat_minor": 0,
  "metadata": {
    "colab": {
      "provenance": [],
      "toc_visible": true,
      "authorship_tag": "ABX9TyNVYvFarpGs9CumGKf4xjZj",
      "include_colab_link": true
    },
    "kernelspec": {
      "name": "ir",
      "display_name": "R"
    },
    "language_info": {
      "name": "R"
    }
  },
  "cells": [
    {
      "cell_type": "markdown",
      "metadata": {
        "id": "view-in-github",
        "colab_type": "text"
      },
      "source": [
        "<a href=\"https://colab.research.google.com/github/joanall/Hands-On-Epigenome-Wide-Analysis-EWAS-/blob/main/ewas_tutorial.ipynb\" target=\"_parent\"><img src=\"https://colab.research.google.com/assets/colab-badge.svg\" alt=\"Open In Colab\"/></a>"
      ]
    },
    {
      "cell_type": "markdown",
      "source": [
        "# **Hands-on Data EWAS Analysis Tutorial**  \n",
        "\n",
        "Joana Llauradó, Predoctoral Researcher at the Barcelona Institute for Global Health (ISGlobal).\n",
        "\n",
        "Mariona Bustamante, Senior Research Scientist at the Barcelona Institute for Global Health (ISGlobal).\n",
        "\n",
        "\n",
        "**Objective:** his hands-on exercise focuses on the analysis phase of an Epigenome-Wide Association Study (EWAS). Using preprocessed DNA methylation data, participants will learn how to identify associations between an environmental exposure—such as smoking—and methylation levels across the genome.\n",
        "\n",
        "\n",
        "**Description:** During this practical, we will perform EWAS analysis and basic downstream interpretation to gain biological insight from the results. Participants will learn how to run association models, correct for multiple testing, visualize significant findings (e.g., using Manhattan and QQ plots), and interpret the top CpG sites and enriched pathways related to the exposure of interest.\n",
        "\n",
        "**Based on/adapted from** Previous course Summer School in Global Health 2023-EWAS [https://github.com/isglobal-brge/course_methylation?tab=readme-ov-file]\n",
        "\n",
        "**Considerations**\n",
        "* The data quality control (QC) step will not be assessed in this session. However, participants can explore QC independently using the example code provided [here: insert link], which demonstrates h ow to perform standard preprocessing and QC steps.\n",
        "\n",
        "* Public data from [link] It must be noted that this data is public and has been revied/selcetd to be able tor un this nalaysis in a short period of time. Ewas data usually is upt to XXXX GB and a compute with enough memory or clsuter is nneded to run this nalaysis. Also the time needed is higher than the one for this Hands-on."
      ],
      "metadata": {
        "id": "5Bh7E_PxwTUs"
      }
    },
    {
      "cell_type": "markdown",
      "source": [
        "•\n",
        "Recommendations for the design and analysis of epigenome wide association studies\n",
        "https://clinicalepigeneticsjournal.biomedcentral.com/articles/10.1186/s13148 021 01200 8\n",
        "•\n",
        "\n",
        "•\n",
        "Meffil : efficient normalization and analysis of very large DNA methylation datasets (ADDED\n",
        "https://www.ncbi.nlm.nih.gov/pmc/articles/PMC6247925/\n",
        "•\n",
        "Orchestrating high throughput genomic analysis with Bioconductor\n",
        "https://www.nature.com/articles/nmeth.3252"
      ],
      "metadata": {
        "id": "r7y9sOwSJZen"
      }
    },
    {
      "cell_type": "markdown",
      "source": [
        "**Reminder: Introduction to NoteBook**\n",
        "Within this notebook (NoteBook), you will be guided step by step from loading a dataset to performing analysis of its content.\n",
        "\n",
        "The Jupyter (Python) notebook is an approach that combines text blocks (like this one) together with code blocks or cells. The great advantage of this type of cell is its interactivity, as they can be executed to check the results directly within them. Very important: the order of instructions is fundamental, so each cell in this notebook must be executed sequentially. If any are omitted, the program may throw an error, so you should start from the beginning if in doubt.\n",
        "\n",
        "First of all:\n",
        "\n",
        "It is very very important that at the start you select \"Open in draft mode\" (draft mode), at the top left. Otherwise, it will not allow you to execute any code block, for security reasons. When the first of the blocks is executed, the following message will appear: \"Warning: This notebook was not created by Google.\". Do not worry, you should trust the content of the notebook (NoteBook) and click \"Run anyway\".\n",
        "\n",
        "Let’s go!\n",
        "\n",
        "Click the \"play\" button on the left side of each code cell. Lines of code that begin with a hashtag (#) are comments and do not affect the execution of the program.\n",
        "\n",
        "You can also click on each cell and press \"ctrl+enter\" (cmd+enter on Mac).\n",
        "\n",
        "Each time you run a block, you will see the output just below it. The information is usually always related to the last instruction, along with all the print() commands in the code."
      ],
      "metadata": {
        "id": "ntfkhAdXwgN-"
      }
    },
    {
      "cell_type": "markdown",
      "source": [
        "## **INDEX**\n",
        "1. [Installation of the R environment and required libraries for EWAS](#install-libraries)\n",
        "2. [Load data](#load-data)\n",
        "3. [Descriptive analysis](#descriptive)   \n",
        "4. [Epigenome wide association analysis](#association)\n",
        "3. [Other tutorials for previours-further steps](#tutorials)   \n",
        "4. [Acknowledgement](#acknowledgement)   \n"
      ],
      "metadata": {
        "id": "04w9VvjKwllH"
      }
    },
    {
      "cell_type": "markdown",
      "source": [
        "## **1. Installation of the R Environment and Libraries for EWAS Analysis** <a name=\"install-libraries\"></a>\n",
        "\n",
        "Below, we install/load the libraries necessary for this session. In the context of exposome analysis, R libraries offer us a much more convenient way to process, manipulate, and analyze the data. Some of these libraries: `tidyverse`, `name_library`  \n",
        "  \n",
        "The installation of R in our Google Colab environment will be carried out in the following code block. It should be remembered that all library installations we perform in the Google Colab environment will only remain active for a few hours, after which the installed libraries are removed. Therefore, it will be necessary for you to re-run the library installation code in this section whenever you need to run the notebook again after this time.\n",
        "\n",
        "Before starting, make sure the required R packages are available. We recommend installing the libraries **30 minutes** before the start of the session❗❗❗\n",
        "\n",
        "* **On your local machine (RStudio, etc.)**: you usually install once, then just load them in each new R session.\n",
        "\n",
        "* **In Google Colab:** the runtime is temporary, when it resets or disconnects, previously installed packages can disappear. Therefore we need to install each time at the start of every session."
      ],
      "metadata": {
        "id": "2FJKIHVZw-8p"
      }
    },
    {
      "cell_type": "code",
      "source": [
        "# Estimated execution time:45 minutes approx.\n",
        "t0 <- Sys.time()\n",
        "\n",
        "####################################### INSTALLING ####################################################\n",
        "\n",
        "# Make sure Bioc repos are used (so CRAN doesn't override them)\n",
        "if (!requireNamespace(\"BiocManager\", quietly = TRUE)) {\n",
        "  install.packages(\"BiocManager\")\n",
        "}\n",
        "options(repos = BiocManager::repositories())\n",
        "\n",
        "bioc_pkgs <- c(\"GenomicRanges\", \"GEOquery\",\"Biobase\",\"karyoploteR\")\n",
        "\n",
        "cran_pkgs <- c(\"qqman\", \"ggplot2\", \"ggrepel\", \"tableone\")\n",
        "\n",
        "# other we may need: \"IlluminaHumanMethylation450kanno.ilmn12.hg19\", \"clusterProfiler\",\n",
        "#                       \"org.Hs.eg.db\", \"ReactomePA\", \"enrichplot\", metafor, reshape plyr\n",
        "\n",
        "BiocManager::install(bioc_pkgs, ask = FALSE, update = FALSE)\n",
        "\n",
        "to_install_cran <- setdiff(cran_pkgs, rownames(installed.packages()))\n",
        "if (length(to_install_cran)) {\n",
        "  install.packages(to_install_cran)\n",
        "}\n",
        "\n",
        "\n",
        "\n",
        "# meffil from GitHub (lighter than devtools)\n",
        "if (!requireNamespace(\"remotes\", quietly = TRUE)) install.packages(\"remotes\")\n",
        "remotes::install_github(\"perishky/meffil\", upgrade = \"never\")  # use force = TRUE to reinstall\n",
        "\n",
        "\n",
        "\n",
        "####################################### LOADING ####################################################\n",
        "# Load Biococneductor libraries\n",
        "library(BiocManager)\n",
        "library(GenomicRanges) # prepare db for Manhattan plot\n",
        "library(GEOquery)\n",
        "library(Biobase)# to be able to access and modify data in the ExpressionSet\n",
        "library(karyoploteR) #  Manhattan plot\n",
        "\n",
        "# Load CRAN libraries\n",
        "library(qqman)\n",
        "library(ggplot2)# plots\n",
        "library(ggrepel)\n",
        "library(tableone)\n",
        "\n",
        "# Alternative: invisible(lapply(c(bioc_pkgs, cran_pkgs), require, character.only = TRUE))\n",
        "\n",
        "library(meffil) # to run the EWAS\n",
        "\n",
        "cat(sprintf(\"Execution time: %.1f minutes\\n\", as.numeric(difftime(Sys.time(), t0, units = \"mins\"))))\n"
      ],
      "metadata": {
        "colab": {
          "base_uri": "https://localhost:8080/"
        },
        "collapsed": true,
        "id": "PUcL7UVkTzGK",
        "outputId": "0adec706-980c-4e37-bc22-972725b21c5a"
      },
      "execution_count": 57,
      "outputs": [
        {
          "output_type": "stream",
          "name": "stderr",
          "text": [
            "'getOption(\"repos\")' replaces Bioconductor standard repositories, see\n",
            "'help(\"repositories\", package = \"BiocManager\")' for details.\n",
            "Replacement repositories:\n",
            "    BioCsoft: https://bioconductor.org/packages/3.21/bioc\n",
            "    BioCann: https://bioconductor.org/packages/3.21/data/annotation\n",
            "    BioCexp: https://bioconductor.org/packages/3.21/data/experiment\n",
            "    BioCworkflows: https://bioconductor.org/packages/3.21/workflows\n",
            "    BioCbooks: https://bioconductor.org/packages/3.21/books\n",
            "    CRAN: https://cran.rstudio.com\n",
            "\n",
            "'getOption(\"repos\")' replaces Bioconductor standard repositories, see\n",
            "'help(\"repositories\", package = \"BiocManager\")' for details.\n",
            "Replacement repositories:\n",
            "    BioCsoft: https://bioconductor.org/packages/3.21/bioc\n",
            "    BioCann: https://bioconductor.org/packages/3.21/data/annotation\n",
            "    BioCexp: https://bioconductor.org/packages/3.21/data/experiment\n",
            "    BioCworkflows: https://bioconductor.org/packages/3.21/workflows\n",
            "    BioCbooks: https://bioconductor.org/packages/3.21/books\n",
            "    CRAN: https://cran.rstudio.com\n",
            "\n",
            "Bioconductor version 3.21 (BiocManager 1.30.26), R 4.5.1 (2025-06-13)\n",
            "\n",
            "Warning message:\n",
            "\"package(s) not installed when version(s) same as or greater than current; use\n",
            "  `force = TRUE` to re-install: 'GenomicRanges' 'GEOquery' 'Biobase'\n",
            "  'karyoploteR'\"\n",
            "Skipping install of 'meffil' from a github remote, the SHA1 (af6732b0) has not changed since last install.\n",
            "  Use `force = TRUE` to force installation\n",
            "\n"
          ]
        },
        {
          "output_type": "stream",
          "name": "stdout",
          "text": [
            "Execution time: 0.1 minutes\n"
          ]
        }
      ]
    },
    {
      "cell_type": "markdown",
      "source": [
        "**Tip:** if you want to learn more about any package or function, check the built-in docs. Use `help()` for functions/topics, and `vignette()` for longer, tutorial-style guides."
      ],
      "metadata": {
        "id": "2iR76EL_LS0H"
      }
    },
    {
      "cell_type": "code",
      "source": [
        "help(package=\"GenomicRanges\")"
      ],
      "metadata": {
        "id": "97Mo-01cLSq_"
      },
      "execution_count": 7,
      "outputs": []
    },
    {
      "cell_type": "code",
      "source": [
        "vignette(package=\"GenomicRanges\")"
      ],
      "metadata": {
        "id": "ztwkr1oAgYJ9"
      },
      "execution_count": 3,
      "outputs": []
    },
    {
      "cell_type": "code",
      "source": [
        "?GenomicRanges"
      ],
      "metadata": {
        "id": "-88wDRzIgabE"
      },
      "execution_count": 8,
      "outputs": []
    },
    {
      "cell_type": "markdown",
      "source": [
        "## **2. Load the Data** <a name=\"load-data\"></a>\n",
        "\n",
        "For this practical we’ll use public methylation data derived from the GEO study GSE42861 (Epigenome-wide DNA methylation in blood). To make the tutorial fast and Colab/GitHub-friendly, we’ve prepared a lightweight subset where we keep a subset of CpGs and round beta values to 3 decimals. This keeps the file small enough for GitHub and runs quickly in Colab, while preserving the look and feel of real EWAS data.\n",
        "\n",
        "Original public dataset (reference): GSE42861 on GEO.\n",
        "\n",
        "Workshop dataset (ready-to-use): a preprocessed ExpressionSet hosted in this repo.\n",
        "\n",
        "How to use it\n",
        "\n",
        "* Option 1 (this tutorial): load the data (from GitHub).\n",
        "\n",
        "* Option 2 (not in this practice): uncomment the GEO download code to fetch the original public data and work end-to-end. Note that full methylation data are large and may take longer to download/process."
      ],
      "metadata": {
        "id": "HgQ374jkw_E6"
      }
    },
    {
      "cell_type": "code",
      "execution_count": 58,
      "metadata": {
        "id": "5krvz-V-TNO6"
      },
      "outputs": [],
      "source": [
        "input_data_url <- \"https://raw.githubusercontent.com/joanall/Hands-On-Epigenome-Wide-Analysis-EWAS-/main/data/GSE42861_norm_cohort1_round3.xz.rds\"\n",
        "\n",
        "tmp <- tempfile(fileext = \".rds\")\n",
        "download.file(input_data_url, destfile = tmp, mode = \"wb\")  # binary mode\n",
        "input_data <- readRDS(tmp)"
      ]
    },
    {
      "cell_type": "markdown",
      "source": [
        "### 2.1 Type of InputData: ExpressionSet\n",
        "\n",
        "Using `str()` we can get a quick description of what’s inside our data object.\n",
        "We’re working with an **ExpressionSet** object (from Biobase), which is  derived after preprocessing with the meffil package.\n",
        "\n",
        "An `ExpressionSet` stores several coordinated tables (slots):\n",
        "\n",
        "* **Expression data:** probe-by-sample matrix of methylation values (betas) — stored in `assayData` and accessed with `exprs()`.\n",
        "\n",
        "* **Phenotype data:** sample-level traits/covariates (age, sex, smoking, cell counts) — stored in `phenoData` and accessed with `pData()` or `phenoData()`.\n",
        "\n",
        "* **Feature (probe) data:** probe-level information/annotation — stored in `featureData` and accessed with `fData()`.\n",
        "* **Metadata:** `experimentData`, `protocolData`, and an `annotation`."
      ],
      "metadata": {
        "id": "00hRErdUOAaI"
      }
    },
    {
      "cell_type": "code",
      "source": [
        "str(input_data)"
      ],
      "metadata": {
        "colab": {
          "base_uri": "https://localhost:8080/"
        },
        "id": "otnf26rnonNA",
        "outputId": "bd2eb746-901a-4f6a-9e2c-14c0ecd642aa",
        "collapsed": true
      },
      "execution_count": 59,
      "outputs": [
        {
          "output_type": "stream",
          "name": "stdout",
          "text": [
            "Formal class 'ExpressionSet' [package \"Biobase\"] with 7 slots\n",
            "  ..@ experimentData   :Formal class 'MIAME' [package \"Biobase\"] with 13 slots\n",
            "  .. .. ..@ name             : chr \"\"\n",
            "  .. .. ..@ lab              : chr \"\"\n",
            "  .. .. ..@ contact          : chr \"\"\n",
            "  .. .. ..@ title            : chr \"\"\n",
            "  .. .. ..@ abstract         : chr \"\"\n",
            "  .. .. ..@ url              : chr \"\"\n",
            "  .. .. ..@ pubMedIds        : chr \"\"\n",
            "  .. .. ..@ samples          : list()\n",
            "  .. .. ..@ hybridizations   : list()\n",
            "  .. .. ..@ normControls     : list()\n",
            "  .. .. ..@ preprocessing    : list()\n",
            "  .. .. ..@ other            : list()\n",
            "  .. .. ..@ .__classVersion__:Formal class 'Versions' [package \"Biobase\"] with 1 slot\n",
            "  .. .. .. .. ..@ .Data:List of 2\n",
            "  .. .. .. .. .. ..$ : int [1:3] 1 0 0\n",
            "  .. .. .. .. .. ..$ : int [1:3] 1 1 0\n",
            "  .. .. .. .. ..$ names: chr [1:2] \"MIAxE\" \"MIAME\"\n",
            "  ..@ assayData        :<environment: 0x59caafc44c18> \n",
            "  ..@ phenoData        :Formal class 'AnnotatedDataFrame' [package \"Biobase\"] with 4 slots\n",
            "  .. .. ..@ varMetadata      :'data.frame':\t10 obs. of  1 variable:\n",
            "  .. .. .. ..$ labelDescription: chr [1:10] \"Sample cell type\" \"Patient Age\" \"Patient Sex\" \"Smoking Status (never/current/former)\" ...\n",
            "  .. .. ..@ data             :'data.frame':\t294 obs. of  10 variables:\n",
            "  .. .. .. ..$ Celltype: chr [1:294] \"PBL\" \"PBL\" \"PBL\" \"PBL\" ...\n",
            "  .. .. .. ..$ Age     : int [1:294] 55 37 59 49 47 69 69 66 58 62 ...\n",
            "  .. .. .. ..$ Sex     : chr [1:294] \"M\" \"M\" \"M\" \"M\" ...\n",
            "  .. .. .. ..$ Smoking : chr [1:294] \"current\" \"never\" \"former\" \"former\" ...\n",
            "  .. .. .. ..$ Bcell   : num [1:294] 0.0578 0.0436 0.0865 0.0572 0.0332 ...\n",
            "  .. .. .. ..$ CD4T    : num [1:294] 0.125 0.175 0.257 0.157 0.207 ...\n",
            "  .. .. .. ..$ CD8T    : num [1:294] 0.1505 0.1103 0.1128 0.1046 0.0545 ...\n",
            "  .. .. .. ..$ Mono    : num [1:294] 0.0649 0.0877 0.1078 0.0477 0.0813 ...\n",
            "  .. .. .. ..$ Neu     : num [1:294] 0.536 0.591 0.383 0.638 0.583 ...\n",
            "  .. .. .. ..$ NK      : num [1:294] 0.1227 0.0342 0.1158 0.0455 0.0839 ...\n",
            "  .. .. ..@ dimLabels        : chr [1:2] \"sampleNames\" \"sampleColumns\"\n",
            "  .. .. ..@ .__classVersion__:Formal class 'Versions' [package \"Biobase\"] with 1 slot\n",
            "  .. .. .. .. ..@ .Data:List of 1\n",
            "  .. .. .. .. .. ..$ : int [1:3] 1 1 0\n",
            "  .. .. .. .. ..$ names: chr \"AnnotatedDataFrame\"\n",
            "  ..@ featureData      :Formal class 'AnnotatedDataFrame' [package \"Biobase\"] with 4 slots\n",
            "  .. .. ..@ varMetadata      :'data.frame':\t0 obs. of  1 variable:\n",
            "  .. .. .. ..$ labelDescription: chr(0) \n",
            "  .. .. ..@ data             :'data.frame':\t37842 obs. of  0 variables\n",
            "  .. .. ..@ dimLabels        : chr [1:2] \"featureNames\" \"featureColumns\"\n",
            "  .. .. ..@ .__classVersion__:Formal class 'Versions' [package \"Biobase\"] with 1 slot\n",
            "  .. .. .. .. ..@ .Data:List of 1\n",
            "  .. .. .. .. .. ..$ : int [1:3] 1 1 0\n",
            "  .. .. .. .. ..$ names: chr \"AnnotatedDataFrame\"\n",
            "  ..@ annotation       : chr(0) \n",
            "  ..@ protocolData     :Formal class 'AnnotatedDataFrame' [package \"Biobase\"] with 4 slots\n",
            "  .. .. ..@ varMetadata      :'data.frame':\t0 obs. of  1 variable:\n",
            "  .. .. .. ..$ labelDescription: chr(0) \n",
            "  .. .. ..@ data             :'data.frame':\t294 obs. of  0 variables\n",
            "  .. .. ..@ dimLabels        : chr [1:2] \"sampleNames\" \"sampleColumns\"\n",
            "  .. .. ..@ .__classVersion__:Formal class 'Versions' [package \"Biobase\"] with 1 slot\n",
            "  .. .. .. .. ..@ .Data:List of 1\n",
            "  .. .. .. .. .. ..$ : int [1:3] 1 1 0\n",
            "  .. .. .. .. ..$ names: chr \"AnnotatedDataFrame\"\n",
            "  ..@ .__classVersion__:Formal class 'Versions' [package \"Biobase\"] with 1 slot\n",
            "  .. .. ..@ .Data:List of 4\n",
            "  .. .. .. ..$ : int [1:3] 4 2 0\n",
            "  .. .. .. ..$ : int [1:3] 2 56 0\n",
            "  .. .. .. ..$ : int [1:3] 1 3 0\n",
            "  .. .. .. ..$ : int [1:3] 1 0 0\n",
            "  .. .. ..$ names: chr [1:4] \"R\" \"Biobase\" \"eSet\" \"ExpressionSet\"\n"
          ]
        }
      ]
    },
    {
      "cell_type": "markdown",
      "source": [
        "# 2.2 General Descriptives\n",
        "\n",
        "Using this common accesor we can quickly inspect the dataset: size, key phenotypes, and basic distributions.\n"
      ],
      "metadata": {
        "id": "nyqH0jWuhJZ-"
      }
    },
    {
      "cell_type": "code",
      "source": [
        "# Get mehtyl and pheno data\n",
        "methyl <- Biobase::exprs(input_data)   # CpGs x samples\n",
        "pheno  <- Biobase::pData(input_data)   # samples x covariates\n",
        "\n",
        "# Dimensions\n",
        "cat(\"CpGs:\", nrow(methyl), \" | Samples:\", ncol(methyl), \"\\n\")"
      ],
      "metadata": {
        "id": "pUxvt_ZBNHl3",
        "colab": {
          "base_uri": "https://localhost:8080/"
        },
        "outputId": "b7b9fa40-99c3-48ad-aff6-baeee947aad5"
      },
      "execution_count": 60,
      "outputs": [
        {
          "output_type": "stream",
          "name": "stdout",
          "text": [
            "CpGs: 37842  | Samples: 294 \n"
          ]
        }
      ]
    },
    {
      "cell_type": "code",
      "source": [
        "head(pheno)"
      ],
      "metadata": {
        "id": "jTHaHn2DNJGl",
        "colab": {
          "base_uri": "https://localhost:8080/",
          "height": 286
        },
        "outputId": "16d8209a-2712-47bc-ab5e-82dd1ea40f3f"
      },
      "execution_count": 61,
      "outputs": [
        {
          "output_type": "display_data",
          "data": {
            "text/html": [
              "<table class=\"dataframe\">\n",
              "<caption>A data.frame: 6 × 10</caption>\n",
              "<thead>\n",
              "\t<tr><th></th><th scope=col>Celltype</th><th scope=col>Age</th><th scope=col>Sex</th><th scope=col>Smoking</th><th scope=col>Bcell</th><th scope=col>CD4T</th><th scope=col>CD8T</th><th scope=col>Mono</th><th scope=col>Neu</th><th scope=col>NK</th></tr>\n",
              "\t<tr><th></th><th scope=col>&lt;chr&gt;</th><th scope=col>&lt;int&gt;</th><th scope=col>&lt;chr&gt;</th><th scope=col>&lt;chr&gt;</th><th scope=col>&lt;dbl&gt;</th><th scope=col>&lt;dbl&gt;</th><th scope=col>&lt;dbl&gt;</th><th scope=col>&lt;dbl&gt;</th><th scope=col>&lt;dbl&gt;</th><th scope=col>&lt;dbl&gt;</th></tr>\n",
              "</thead>\n",
              "<tbody>\n",
              "\t<tr><th scope=row>GSM1051533</th><td>PBL</td><td>55</td><td>M</td><td>current</td><td>0.05776289</td><td>0.1247670</td><td>0.1504868</td><td>0.06491293</td><td>0.5358684</td><td>0.12265971</td></tr>\n",
              "\t<tr><th scope=row>GSM1051534</th><td>PBL</td><td>37</td><td>M</td><td>never  </td><td>0.04361658</td><td>0.1745954</td><td>0.1103084</td><td>0.08771190</td><td>0.5912413</td><td>0.03415583</td></tr>\n",
              "\t<tr><th scope=row>GSM1051536</th><td>PBL</td><td>59</td><td>M</td><td>former </td><td>0.08652383</td><td>0.2567549</td><td>0.1127774</td><td>0.10776822</td><td>0.3831736</td><td>0.11577982</td></tr>\n",
              "\t<tr><th scope=row>GSM1051537</th><td>PBL</td><td>49</td><td>M</td><td>former </td><td>0.05720053</td><td>0.1568934</td><td>0.1046096</td><td>0.04774298</td><td>0.6380837</td><td>0.04546749</td></tr>\n",
              "\t<tr><th scope=row>GSM1051538</th><td>PBL</td><td>47</td><td>M</td><td>former </td><td>0.03323647</td><td>0.2066790</td><td>0.0545260</td><td>0.08125238</td><td>0.5832287</td><td>0.08392876</td></tr>\n",
              "\t<tr><th scope=row>GSM1051539</th><td>PBL</td><td>69</td><td>M</td><td>never  </td><td>0.03967494</td><td>0.1508131</td><td>0.1469707</td><td>0.09975280</td><td>0.5362770</td><td>0.07770261</td></tr>\n",
              "</tbody>\n",
              "</table>\n"
            ],
            "text/markdown": "\nA data.frame: 6 × 10\n\n| <!--/--> | Celltype &lt;chr&gt; | Age &lt;int&gt; | Sex &lt;chr&gt; | Smoking &lt;chr&gt; | Bcell &lt;dbl&gt; | CD4T &lt;dbl&gt; | CD8T &lt;dbl&gt; | Mono &lt;dbl&gt; | Neu &lt;dbl&gt; | NK &lt;dbl&gt; |\n|---|---|---|---|---|---|---|---|---|---|---|\n| GSM1051533 | PBL | 55 | M | current | 0.05776289 | 0.1247670 | 0.1504868 | 0.06491293 | 0.5358684 | 0.12265971 |\n| GSM1051534 | PBL | 37 | M | never   | 0.04361658 | 0.1745954 | 0.1103084 | 0.08771190 | 0.5912413 | 0.03415583 |\n| GSM1051536 | PBL | 59 | M | former  | 0.08652383 | 0.2567549 | 0.1127774 | 0.10776822 | 0.3831736 | 0.11577982 |\n| GSM1051537 | PBL | 49 | M | former  | 0.05720053 | 0.1568934 | 0.1046096 | 0.04774298 | 0.6380837 | 0.04546749 |\n| GSM1051538 | PBL | 47 | M | former  | 0.03323647 | 0.2066790 | 0.0545260 | 0.08125238 | 0.5832287 | 0.08392876 |\n| GSM1051539 | PBL | 69 | M | never   | 0.03967494 | 0.1508131 | 0.1469707 | 0.09975280 | 0.5362770 | 0.07770261 |\n\n",
            "text/latex": "A data.frame: 6 × 10\n\\begin{tabular}{r|llllllllll}\n  & Celltype & Age & Sex & Smoking & Bcell & CD4T & CD8T & Mono & Neu & NK\\\\\n  & <chr> & <int> & <chr> & <chr> & <dbl> & <dbl> & <dbl> & <dbl> & <dbl> & <dbl>\\\\\n\\hline\n\tGSM1051533 & PBL & 55 & M & current & 0.05776289 & 0.1247670 & 0.1504868 & 0.06491293 & 0.5358684 & 0.12265971\\\\\n\tGSM1051534 & PBL & 37 & M & never   & 0.04361658 & 0.1745954 & 0.1103084 & 0.08771190 & 0.5912413 & 0.03415583\\\\\n\tGSM1051536 & PBL & 59 & M & former  & 0.08652383 & 0.2567549 & 0.1127774 & 0.10776822 & 0.3831736 & 0.11577982\\\\\n\tGSM1051537 & PBL & 49 & M & former  & 0.05720053 & 0.1568934 & 0.1046096 & 0.04774298 & 0.6380837 & 0.04546749\\\\\n\tGSM1051538 & PBL & 47 & M & former  & 0.03323647 & 0.2066790 & 0.0545260 & 0.08125238 & 0.5832287 & 0.08392876\\\\\n\tGSM1051539 & PBL & 69 & M & never   & 0.03967494 & 0.1508131 & 0.1469707 & 0.09975280 & 0.5362770 & 0.07770261\\\\\n\\end{tabular}\n",
            "text/plain": [
              "           Celltype Age Sex Smoking Bcell      CD4T      CD8T      Mono      \n",
              "GSM1051533 PBL      55  M   current 0.05776289 0.1247670 0.1504868 0.06491293\n",
              "GSM1051534 PBL      37  M   never   0.04361658 0.1745954 0.1103084 0.08771190\n",
              "GSM1051536 PBL      59  M   former  0.08652383 0.2567549 0.1127774 0.10776822\n",
              "GSM1051537 PBL      49  M   former  0.05720053 0.1568934 0.1046096 0.04774298\n",
              "GSM1051538 PBL      47  M   former  0.03323647 0.2066790 0.0545260 0.08125238\n",
              "GSM1051539 PBL      69  M   never   0.03967494 0.1508131 0.1469707 0.09975280\n",
              "           Neu       NK        \n",
              "GSM1051533 0.5358684 0.12265971\n",
              "GSM1051534 0.5912413 0.03415583\n",
              "GSM1051536 0.3831736 0.11577982\n",
              "GSM1051537 0.6380837 0.04546749\n",
              "GSM1051538 0.5832287 0.08392876\n",
              "GSM1051539 0.5362770 0.07770261"
            ]
          },
          "metadata": {}
        }
      ]
    },
    {
      "cell_type": "markdown",
      "source": [
        "We can make quick descriptives"
      ],
      "metadata": {
        "id": "Xnr_m4JN0wkh"
      }
    },
    {
      "cell_type": "code",
      "source": [
        "# See available phenotype columns\n",
        "print(colnames(pheno))"
      ],
      "metadata": {
        "colab": {
          "base_uri": "https://localhost:8080/"
        },
        "id": "aewYhnCn01In",
        "outputId": "7ff0d53b-4b80-4c69-d9fa-ac1b66112e78"
      },
      "execution_count": 62,
      "outputs": [
        {
          "output_type": "stream",
          "name": "stdout",
          "text": [
            " [1] \"Celltype\" \"Age\"      \"Sex\"      \"Smoking\"  \"Bcell\"    \"CD4T\"    \n",
            " [7] \"CD8T\"     \"Mono\"     \"Neu\"      \"NK\"      \n"
          ]
        }
      ]
    },
    {
      "cell_type": "markdown",
      "source": [
        "Some text"
      ],
      "metadata": {
        "id": "ysybXixwG89J"
      }
    },
    {
      "cell_type": "code",
      "source": [
        "# Choose variables to include in the descriptives\n",
        "cont_vars <- intersect(c(\"Age\"), names(pheno))\n",
        "cat_vars  <- intersect(c(\"Sex\",\"Smoking\",\"Batch\",\"Array\",\"Slide\",\"Plate\"), names(pheno))\n",
        "vars <- c(cont_vars, cat_vars)\n",
        "\n",
        "# Build Table 1\n",
        "tab1 <- CreateTableOne(vars = vars,\n",
        "                       data = pheno,\n",
        "                       factorVars = cat_vars)\n",
        "print(tab1, showAllLevels = TRUE, quote = FALSE, noSpaces = TRUE)"
      ],
      "metadata": {
        "colab": {
          "base_uri": "https://localhost:8080/"
        },
        "id": "FpUxXmax0yoQ",
        "outputId": "c56c422e-0dda-4e09-f37a-cbcf17d9ae25"
      },
      "execution_count": 63,
      "outputs": [
        {
          "output_type": "stream",
          "name": "stdout",
          "text": [
            "                 \n",
            "                  level   Overall      \n",
            "  n                       294          \n",
            "  Age (mean (SD))         53.57 (11.04)\n",
            "  Sex (%)         F       210 (71.4)   \n",
            "                  M       84 (28.6)    \n",
            "  Smoking (%)     current 89 (30.3)    \n",
            "                  former  106 (36.1)   \n",
            "                  never   99 (33.7)    \n"
          ]
        }
      ]
    },
    {
      "cell_type": "code",
      "source": [
        "tab1_df <- as.data.frame(\n",
        "  print(tab1, showAllLevels = TRUE, quote = FALSE,\n",
        "  noSpaces = TRUE, printToggle = FALSE)\n",
        ")\n",
        "# Save table\n",
        "print(getwd())\n",
        "save_to <- file.path(getwd(),\"Table1_overall.csv\")\n",
        "write.csv(tab1_df, save_to, row.names = TRUE)\n"
      ],
      "metadata": {
        "id": "uEHyK82f2pH6",
        "colab": {
          "base_uri": "https://localhost:8080/"
        },
        "outputId": "f9182acf-9160-4818-c944-2ab260b899e2"
      },
      "execution_count": 15,
      "outputs": [
        {
          "output_type": "stream",
          "name": "stdout",
          "text": [
            "[1] \"/content\"\n"
          ]
        }
      ]
    },
    {
      "cell_type": "code",
      "source": [
        "# Stratified table smokers non-smkoers\n",
        "strata_var <- \"Smoking\"\n",
        "\n",
        "tab1_strata <- CreateTableOne(vars = vars,\n",
        "                              strata = strata_var,\n",
        "                              data = pheno,\n",
        "                              factorVars = cat_vars)\n",
        "print(tab1_strata, showAllLevels = TRUE, quote = FALSE, noSpaces = TRUE)"
      ],
      "metadata": {
        "colab": {
          "base_uri": "https://localhost:8080/"
        },
        "id": "GIyKd6BC11St",
        "outputId": "a3a7622f-e7cc-49f3-9a24-55bed1146d81"
      },
      "execution_count": 64,
      "outputs": [
        {
          "output_type": "stream",
          "name": "stdout",
          "text": [
            "                 Stratified by Smoking\n",
            "                  level   current       former       never         p      test\n",
            "  n                       89            106          99                       \n",
            "  Age (mean (SD))         52.73 (10.62) 55.06 (9.79) 52.75 (12.52) 0.225      \n",
            "  Sex (%)         F       66 (74.2)     66 (62.3)    78 (78.8)     0.026      \n",
            "                  M       23 (25.8)     40 (37.7)    21 (21.2)                \n",
            "  Smoking (%)     current 89 (100.0)    0 (0.0)      0 (0.0)       <0.001     \n",
            "                  former  0 (0.0)       106 (100.0)  0 (0.0)                  \n",
            "                  never   0 (0.0)       0 (0.0)      99 (100.0)               \n"
          ]
        }
      ]
    },
    {
      "cell_type": "code",
      "source": [
        "tab1_strata_df <- as.data.frame(\n",
        "  print(tab1, showAllLevels = TRUE, quote = FALSE,\n",
        "  noSpaces = TRUE, printToggle = FALSE)\n",
        ")\n",
        "# Save table\n",
        "save_to <- file.path(getwd(),\"Table1_strata.csv\")\n",
        "write.csv(tab1_strata_df, save_to, row.names = TRUE)"
      ],
      "metadata": {
        "id": "9NNB3n5a7_hc"
      },
      "execution_count": 65,
      "outputs": []
    },
    {
      "cell_type": "markdown",
      "source": [
        "**Cohort overview.**\n",
        "* We analyze a blood-based Illumina 450K methylation dataset with 294 participants. The phenotype data include age, sex, and smoking, along with estimated immune cell composition.\n",
        "* The mean age is 53.6 years (SD 11.0).\n",
        "* Sex distribution is 71.4% female (n=210) and 28.6% male (n=84).\n",
        "* Smoking status includes current (30.3%, n=89), former (36.1%, n=106), and never (33.7%, n=99).\n",
        "* Technical variables (e.g., array/batch) are also available for adjustment in downstream analyses."
      ],
      "metadata": {
        "id": "_5v0d0Xn0Gwy"
      }
    },
    {
      "cell_type": "markdown",
      "source": [
        "# 3. Quality Control (we won't do this here)\n",
        "\n",
        "Proper QC is performed before analysis, starting from the raw Illumina IDAT files. Typical steps include sample/probe filtering (detection p-values, beadcount, sex mismatch, outliers), normalization (often functional normalization), batch/technical checks, and generating a QC report.\n",
        "To keep the practical part fast this dataset is ready to use.\n",
        "An example of a QC pipeline is:"
      ],
      "metadata": {
        "id": "k2O0vFaiUlQg"
      }
    },
    {
      "cell_type": "markdown",
      "source": [
        "# 4. Run EWAS\n",
        "In this section we’ll run a simple EWAS comparing **current** vs **never smokers**. We use the methylation matrix from our ExpressionSet, adjust for key covariates, and test each CpG for differential methylation.\n",
        "\n",
        "**What we test**\n",
        "* **Outcome:** methylation at each CpG (B values).\n",
        "**Exposure:** Smoking status (current vs never).\n",
        "* **Covariates:** Age, Sex, and estimated cell-type proportions (B cell, CD4T, CD8T, Mono, Neu, NK). Include batch/array variables if available."
      ],
      "metadata": {
        "id": "MXCk5nulRbqY"
      }
    },
    {
      "cell_type": "markdown",
      "source": [
        "## 4.1. Data preparation\n",
        "\n",
        "The first step is to subset the `ExpressionSet` to include only the samples we need. In this case, we keep never and current smokers and exclude former smokers to focus the comparison.\n"
      ],
      "metadata": {
        "id": "LlPQ7p9cRgWw"
      }
    },
    {
      "cell_type": "code",
      "source": [
        "idx <- pheno$Smoking %in% c(\"never\",\"current\")\n",
        "pheno_smokers  <- pheno[idx, , drop = FALSE]  # subset rows (samples)\n",
        "methyl_smokers <- methyl[, idx, drop = FALSE] # subset columns (samples)"
      ],
      "metadata": {
        "id": "oD-h0d21Rpag"
      },
      "execution_count": 18,
      "outputs": []
    },
    {
      "cell_type": "markdown",
      "source": [
        "Check the levels. We want “never” to be the reference level.To this end, you can use the relevel()function."
      ],
      "metadata": {
        "id": "HF8n-hcPSJzx"
      }
    },
    {
      "cell_type": "code",
      "source": [
        "# make sure Smoking is a factor (it may be character)\n",
        "if (!is.factor(pheno_smokers$Smoking)) {\n",
        "  pheno_smokers$Smoking <- factor(pheno_smokers$Smoking)\n",
        "}\n",
        "\n",
        "# check levels\n",
        "levels(pheno_smokers$Smoking)"
      ],
      "metadata": {
        "id": "GUx-QafrE6Fb",
        "outputId": "01c3f7f7-4b3d-44b0-bb47-b1a6c06582fa",
        "colab": {
          "base_uri": "https://localhost:8080/",
          "height": 34
        }
      },
      "execution_count": 66,
      "outputs": [
        {
          "output_type": "display_data",
          "data": {
            "text/html": [
              "<style>\n",
              ".list-inline {list-style: none; margin:0; padding: 0}\n",
              ".list-inline>li {display: inline-block}\n",
              ".list-inline>li:not(:last-child)::after {content: \"\\00b7\"; padding: 0 .5ex}\n",
              "</style>\n",
              "<ol class=list-inline><li>'current'</li><li>'never'</li></ol>\n"
            ],
            "text/markdown": "1. 'current'\n2. 'never'\n\n\n",
            "text/latex": "\\begin{enumerate*}\n\\item 'current'\n\\item 'never'\n\\end{enumerate*}\n",
            "text/plain": [
              "[1] \"current\" \"never\"  "
            ]
          },
          "metadata": {}
        }
      ]
    },
    {
      "cell_type": "markdown",
      "source": [
        "**Prepare input for meffil**\n",
        "\n",
        "To run the EWAS with meffil, you need three aligned objects (same samples, same order):\n",
        "\n",
        "* **Exposure vector (what we test):**\n",
        "A factor for Smoking with levels  (\"never\",\"current\") so that “never” is the reference.\n",
        "\n",
        "* **Covariate data frame (adjustment variables):** One row per sample with the variables you’ll adjust for (e.g., Age numeric, Sex factor, cell proportions numeric, plus any batch/array terms). Ensure each column has the correct class.\n",
        "\n",
        "* **Methylation matrix** (already prepared as`methyl_smokers`):\n",
        "CpGs in rows, samples in columns\n",
        "\n",
        "**Note**: Remove or impute missing values; meffil expects complete cases.\n",
        "\n"
      ],
      "metadata": {
        "id": "SdmBRjRwSPBa"
      }
    },
    {
      "cell_type": "markdown",
      "source": [
        "**Exposure Variable**\n",
        "\n",
        "For the EWAS contrast to represent current vs never, we need “never” as the reference category. This makes model coefficients easy to interpret: a positive effect means higher methylation in current smokers compared with never; a negative effect means lower methylation in current smokers. We therefore recode the factor so that \"never\" is the reference level before fitting the model."
      ],
      "metadata": {
        "id": "ZDOZZ5d7FC3P"
      }
    },
    {
      "cell_type": "code",
      "source": [
        "# Exposure (Smoking): factor with \"never\" as reference\n",
        "exposure_variable <- pheno_smokers$Smoking\n",
        "if (!is.factor(exposure_variable)) exposure_variable <- factor(exposure_variable)\n",
        "exposure_variable <- relevel(exposure_variable, ref = \"never\")"
      ],
      "metadata": {
        "id": "p5cL88QvH0-_"
      },
      "execution_count": 20,
      "outputs": []
    },
    {
      "cell_type": "code",
      "source": [
        "# Covariates\n",
        "covars <- c(\"Age\",\"Sex\",\"Bcell\",\"CD4T\",\"CD8T\",\"Mono\",\"Neu\",\"NK\")\n",
        "covariates_df <- pheno_smokers[, covars, drop = FALSE]\n",
        "\n",
        "# Make sure Sex is a factor (if present)\n",
        "if (\"Sex\" %in% colnames(covariates_df)) {\n",
        "  covariates_df$Sex <- factor(covariates_df$Sex)\n",
        "}\n",
        "\n",
        "# Make sure numeric types for continuous covariates\n",
        "num_cols <- intersect(c(\"Age\",\"Bcell\",\"CD4T\",\"CD8T\",\"Mono\",\"Neu\",\"NK\"), colnames(covariates_df))\n",
        "covariates_df[num_cols] <- lapply(covariates_df[num_cols], function(x) as.numeric(as.character(x)))\n",
        "\n"
      ],
      "metadata": {
        "id": "F6LkLnsjSPV5"
      },
      "execution_count": 21,
      "outputs": []
    },
    {
      "cell_type": "markdown",
      "source": [
        "**Important:** Rows in the phenotype table must be in the same order as the columns of the methylation matrix (or have row names that exactly match those column names). Always check that sample IDs align between pheno and methyl. If the order (or IDs) don’t match, variables can be assigned to the wrong samples, leading to incorrect analyses and conclusions.."
      ],
      "metadata": {
        "id": "7-p_hvLwSrkD"
      }
    },
    {
      "cell_type": "code",
      "source": [
        "#   pheno_smokers  -> data.frame with rownames = sample IDs\n",
        "#   methyl_smokers -> matrix with colnames = sample IDs\n",
        "\n",
        "# 1) same set?\n",
        "if (!setequal(rownames(pheno_smokers), colnames(methyl_smokers))) {\n",
        "  stop(\"Sample IDs differ between pheno and methyl. Fix before proceeding.\")\n",
        "}\n",
        "\n",
        "# 2) same order? if not, reorder pheno to match methyl\n",
        "if (!all(rownames(pheno_smokers) == colnames(methyl_smokers))) {\n",
        "  pheno_smokers <- pheno_smokers[colnames(methyl_smokers), , drop = FALSE]\n",
        "}\n",
        "\n",
        "# final sanity check\n",
        "stopifnot(all(rownames(pheno_smokers) == colnames(methyl_smokers)))"
      ],
      "metadata": {
        "id": "oPVIlfGWSrJK"
      },
      "execution_count": 22,
      "outputs": []
    },
    {
      "cell_type": "markdown",
      "source": [
        "## 3.2 Run Models\n",
        "We’ll run the EWAS with `meffil.ewas()`. Our inputs are already prepared (methylation matrix, exposure vector, and covariates aligned and cleaned). Below is what we’ll do and why—no need to change anything during the practicum unless you want to experiment.\n",
        "\n",
        "\n",
        "**Models definition**\n",
        "\n",
        "* **Unadjusted model:**\n",
        "  *  Tests Smoking (current vs never) with no covariates.\n",
        "  - Pro: Quick to perfrome and allwos us to see the raw association.\n",
        "  - Con: Efects may be confounded by age, sex, cell composition, or batch.\n",
        "\n",
        "- **Covariate-adjusted model:**\n",
        "  - Adjusts for the variables we specified (e.g., Age, Sex, cell-type proportions, batch).\n",
        "  - Pro: Estimate the association taking into account key biological/technical factors. **This is typically the primary result to report.**\n",
        "  - Con: We can always miss some confounders.\n",
        "\n",
        "- **Covariate + SVA model**\n",
        "  - Same as  the adjsuted model but also includes surrogate variables (SVA).\n",
        "  - Pro: It captures residual, unmeasured technical/biological variation. It can be used as a sensitivity analysis;\n",
        "  - Con: May be overftttigin model.\n",
        "\n",
        "**Model choice**\n",
        "  * **Linear model (OLS)**: fast and standard; works well when residuals are roughly Gaussian and not dominated by outliers.\n",
        "  * **Robust linear model (RLM)**: down-weights outliers automatically. For methylation data this is often safer, so in this tutorial we use robust regression by setting rlm = TRUE.\n",
        "\n",
        "**Winsorization of beta values** Methylation data can have a few extreme values. Winsorization reduces the influence of these points by capping the upper/lower tails. We’ll set winsorize.pct = 0.01, which corresponds to trimming 0.5% at *each tail (total 1%). This is a light touch that improves stability without changing the bulk of the data.\n",
        "\n",
        "**Adjusting for unmeasured variation (SVA)**\n",
        "Even after modeling known covariates (age, sex, cell composition, batch), there can be residual technical/biological structure.  sva = TRUE asks meffil to compute surrogate variables and include them as additional covariates, helping control hidden batch effects/noise. (Optionally, you can cap the number with n.sv if you want to constrain model complexity.)\n"
      ],
      "metadata": {
        "id": "d3DffJZXS5Db"
      }
    },
    {
      "cell_type": "code",
      "source": [
        "# Estimated exectuion time: aprox 2 min\n",
        "olm_results_ewas_smokers <- meffil.ewas(beta = methyl_smokers,\n",
        "                                    variable = exposure_variable,\n",
        "                                    covariates = covariates_df,\n",
        "                                    rlm = FALSE,\n",
        "                                    winsorize.pct = 0.01,  # 1% total (0.5% per tail)\n",
        "                                    sva = TRUE # by defualt true\n",
        "                                    )"
      ],
      "metadata": {
        "colab": {
          "base_uri": "https://localhost:8080/"
        },
        "id": "pv2XmgltjKdV",
        "outputId": "44f296e2-dfa0-4be2-b1a1-263ffbaa79c9"
      },
      "execution_count": 33,
      "outputs": [
        {
          "output_type": "stream",
          "name": "stdout",
          "text": [
            "Number of significant surrogate variables is:  33 \n",
            "Iteration (out of 5 ):1  2  3  4  5  \n"
          ]
        }
      ]
    },
    {
      "cell_type": "code",
      "source": [
        "# RLM not coverging - probably due to CT collinearility - drop some CT\n",
        "covars_use <- c(\"Age\",\"Sex\",\"Bcell\",\"CD4T\",\"CD8T\",\"Mono\")  # dropped NK and Neu\n",
        "covariates_df <- pheno_smokers[, covars_use, drop = FALSE]\n",
        "\n",
        "# Note: For now we won't use SVA as it's not convering. Probably because of overfiiting.\n",
        "# Estimated exectuion time: 2 minuts\n",
        "rlm_results_ewas_smokers <- meffil.ewas(beta = methyl_smokers,\n",
        "                                    variable = exposure_variable,\n",
        "                                    covariates = covariates_df,\n",
        "                                    rlm = TRUE,\n",
        "                                    winsorize.pct = 0.01,  # 1% total (0.5% per tail)\n",
        "                                    sva = FALSE # by defualt true\n",
        "                                    )"
      ],
      "metadata": {
        "colab": {
          "base_uri": "https://localhost:8080/"
        },
        "id": "q4XddIgsj5h8",
        "outputId": "46bc7e1b-2a3f-440e-f00d-3e6fbdcf0517"
      },
      "execution_count": 36,
      "outputs": [
        {
          "output_type": "stream",
          "name": "stderr",
          "text": [
            "Warning message in rlm.default(x = X, y = y, weights = w, ...):\n",
            "\"'rlm' failed to converge in 20 steps\"\n",
            "Warning message in rlm.default(x = X, y = y, weights = w, ...):\n",
            "\"'rlm' failed to converge in 20 steps\"\n",
            "Warning message in rlm.default(x = X, y = y, weights = w, ...):\n",
            "\"'rlm' failed to converge in 20 steps\"\n",
            "Warning message in rlm.default(x = X, y = y, weights = w, ...):\n",
            "\"'rlm' failed to converge in 20 steps\"\n",
            "Warning message in rlm.default(x = X, y = y, weights = w, ...):\n",
            "\"'rlm' failed to converge in 20 steps\"\n",
            "Warning message in rlm.default(x = X, y = y, weights = w, ...):\n",
            "\"'rlm' failed to converge in 20 steps\"\n",
            "Warning message in rlm.default(x = X, y = y, weights = w, ...):\n",
            "\"'rlm' failed to converge in 20 steps\"\n",
            "Warning message in rlm.default(x = X, y = y, weights = w, ...):\n",
            "\"'rlm' failed to converge in 20 steps\"\n",
            "Warning message in rlm.default(x = X, y = y, weights = w, ...):\n",
            "\"'rlm' failed to converge in 20 steps\"\n",
            "Warning message in rlm.default(x = X, y = y, weights = w, ...):\n",
            "\"'rlm' failed to converge in 20 steps\"\n",
            "Warning message in rlm.default(x = X, y = y, weights = w, ...):\n",
            "\"'rlm' failed to converge in 20 steps\"\n",
            "Warning message in rlm.default(x = X, y = y, weights = w, ...):\n",
            "\"'rlm' failed to converge in 20 steps\"\n"
          ]
        }
      ]
    },
    {
      "cell_type": "markdown",
      "source": [
        "## 3.3 Results\n",
        "\n",
        "After running `meffil.ewas()` we obtain a **list** with 17 elements with both the EWAS results and all the metadata needed to reproduce the analysis.\n",
        "\n",
        "**What you find inside:**\n",
        "* Main results table: one row per CpG with the estimated effect (current vs never), standard error, test statistic, raw p‐value, and FDR (adjusted p‐value).\n",
        "* Model choices: whether robust regression (RLM) was used, winsorization on/off and its percentage, whether SVA was applied (and how many SVs).\n",
        "* Variables used: the exposure (Smoking with “never” as reference), the list of covariates included, and their classes.\n",
        "* Sample/feature info: number of samples analyzed, number of CpGs tested, the sample IDs and CpG IDs used, and notes on any rows/samples dropped (e.g., incomplete cases).\n",
        "* Design summary: dimensions of the design matrix, reference levels, and contrasts.\n",
        "* Provenance: meffil package version (and sometimes R version), timestamps, and other run settings so results are reproducible.\n"
      ],
      "metadata": {
        "id": "2cA-7T6WTMlj"
      }
    },
    {
      "cell_type": "code",
      "source": [
        "str(rlm_results_ewas_smokers)"
      ],
      "metadata": {
        "colab": {
          "base_uri": "https://localhost:8080/"
        },
        "id": "w3gC3pcfm9y8",
        "outputId": "553d9c27-3aea-4dda-a290-1ce0af61a41a"
      },
      "execution_count": 67,
      "outputs": [
        {
          "output_type": "stream",
          "name": "stdout",
          "text": [
            "List of 17\n",
            " $ class             : chr \"ewas\"\n",
            " $ version           :Classes 'package_version', 'numeric_version'  hidden list of 1\n",
            "  ..$ : int [1:3] 1 5 1\n",
            " $ samples           : chr [1:188] \"GSM1051533\" \"GSM1051534\" \"GSM1051539\" \"GSM1051541\" ...\n",
            " $ variable          : Factor w/ 2 levels \"never\",\"current\": 2 1 1 2 2 2 2 2 2 1 ...\n",
            " $ covariates        :'data.frame':\t188 obs. of  6 variables:\n",
            "  ..$ Age  : int [1:188] 55 37 69 69 66 58 58 60 62 61 ...\n",
            "  ..$ Sex  : chr [1:188] \"M\" \"M\" \"M\" \"M\" ...\n",
            "  ..$ Bcell: num [1:188] 0.0578 0.0436 0.0397 0.0357 0.0632 ...\n",
            "  ..$ CD4T : num [1:188] 0.125 0.175 0.151 0.157 0.133 ...\n",
            "  ..$ CD8T : num [1:188] 0.15 0.11 0.147 0.115 0.114 ...\n",
            "  ..$ Mono : num [1:188] 0.0649 0.0877 0.0998 0.1102 0.1065 ...\n",
            " $ winsorize.pct     : num 0.01\n",
            " $ batch             : NULL\n",
            " $ robust            : logi FALSE\n",
            " $ rlm               : logi TRUE\n",
            " $ weights           : NULL\n",
            " $ outlier.iqr.factor: logi NA\n",
            " $ most.variable     : num 50000\n",
            " $ p.value           : num [1:37842, 1:2] 0.436 0.3613 0.6255 0.1303 0.0758 ...\n",
            "  ..- attr(*, \"dimnames\")=List of 2\n",
            "  .. ..$ : chr [1:37842] \"cg02432075\" \"cg03515901\" \"cg04023335\" \"cg08455548\" ...\n",
            "  .. ..$ : chr [1:2] \"none\" \"all\"\n",
            " $ coefficient       : num [1:37842, 1:2] -0.00369 0.00327 -0.00428 -0.00619 -0.02329 ...\n",
            "  ..- attr(*, \"dimnames\")=List of 2\n",
            "  .. ..$ : chr [1:37842] \"cg02432075\" \"cg03515901\" \"cg04023335\" \"cg08455548\" ...\n",
            "  .. ..$ : chr [1:2] \"none\" \"all\"\n",
            " $ analyses          :List of 2\n",
            "  ..$ none:List of 5\n",
            "  .. ..$ design     :'data.frame':\t188 obs. of  2 variables:\n",
            "  .. .. ..$ intercept: num [1:188] 1 1 1 1 1 1 1 1 1 1 ...\n",
            "  .. .. ..$ variable : num [1:188] 1 0 0 1 1 1 1 1 1 0 ...\n",
            "  .. ..$ batch      : NULL\n",
            "  .. ..$ batch.cor  : NULL\n",
            "  .. ..$ cell.counts: NULL\n",
            "  .. ..$ table      :'data.frame':\t37842 obs. of  11 variables:\n",
            "  .. .. ..$ p.value            : num [1:37842] 0.436 0.3613 0.6255 0.1303 0.0758 ...\n",
            "  .. .. ..$ fdr                : num [1:37842] 0.699 0.638 0.823 0.389 0.3 ...\n",
            "  .. .. ..$ p.holm             : num [1:37842] 1 1 1 1 1 1 1 1 1 1 ...\n",
            "  .. .. ..$ t.statistic        : num [1:37842] -0.781 0.915 -0.489 -1.52 -1.786 ...\n",
            "  .. .. ..$ coefficient        : num [1:37842] -0.00369 0.00327 -0.00428 -0.00619 -0.02329 ...\n",
            "  .. .. ..$ coefficient.ci.high: num [1:37842] 0.00564 0.01031 0.013 0.00184 0.00244 ...\n",
            "  .. .. ..$ coefficient.ci.low : num [1:37842] -0.01302 -0.00377 -0.02157 -0.01422 -0.04903 ...\n",
            "  .. .. ..$ coefficient.se     : num [1:37842] 0.00473 0.00357 0.00876 0.00407 0.01304 ...\n",
            "  .. .. ..$ n                  : int [1:37842] 188 187 188 188 188 188 188 188 188 188 ...\n",
            "  .. .. ..$ chromosome         : chr [1:37842] \"chrY\" \"chrY\" \"chrY\" \"chrY\" ...\n",
            "  .. .. ..$ position           : int [1:37842] 4870822 3447157 14100573 4867968 104566227 151960304 118823726 48508842 101390753 138529221 ...\n",
            "  ..$ all :List of 5\n",
            "  .. ..$ design     :'data.frame':\t188 obs. of  8 variables:\n",
            "  .. .. ..$ intercept: num [1:188] 1 1 1 1 1 1 1 1 1 1 ...\n",
            "  .. .. ..$ variable : num [1:188] 1 0 0 1 1 1 1 1 1 0 ...\n",
            "  .. .. ..$ Age      : num [1:188] 55 37 69 69 66 58 58 60 62 61 ...\n",
            "  .. .. ..$ Sex      : num [1:188] 1 1 1 1 1 1 0 0 0 0 ...\n",
            "  .. .. ..$ Bcell    : num [1:188] 0.0578 0.0436 0.0397 0.0357 0.0632 ...\n",
            "  .. .. ..$ CD4T     : num [1:188] 0.125 0.175 0.151 0.157 0.133 ...\n",
            "  .. .. ..$ CD8T     : num [1:188] 0.15 0.11 0.147 0.115 0.114 ...\n",
            "  .. .. ..$ Mono     : num [1:188] 0.0649 0.0877 0.0998 0.1102 0.1065 ...\n",
            "  .. ..$ batch      : NULL\n",
            "  .. ..$ batch.cor  : NULL\n",
            "  .. ..$ cell.counts: NULL\n",
            "  .. ..$ table      :'data.frame':\t37842 obs. of  11 variables:\n",
            "  .. .. ..$ p.value            : num [1:37842] 0.5349 0.4273 0.2004 0.904 0.0846 ...\n",
            "  .. .. ..$ fdr                : num [1:37842] 0.769 0.692 0.469 0.963 0.299 ...\n",
            "  .. .. ..$ p.holm             : num [1:37842] 1 1 1 1 1 1 1 1 1 1 ...\n",
            "  .. .. ..$ t.statistic        : num [1:37842] 0.622 0.796 -1.285 -0.121 -1.734 ...\n",
            "  .. .. ..$ coefficient        : num [1:37842] 0.002165 0.002765 -0.006151 -0.000398 -0.009594 ...\n",
            "  .. .. ..$ coefficient.ci.high: num [1:37842] 0.00903 0.00962 0.00329 0.0061 0.00132 ...\n",
            "  .. .. ..$ coefficient.ci.low : num [1:37842] -0.00471 -0.00409 -0.0156 -0.00689 -0.02051 ...\n",
            "  .. .. ..$ coefficient.se     : num [1:37842] 0.00348 0.00348 0.00479 0.00329 0.00553 ...\n",
            "  .. .. ..$ n                  : int [1:37842] 188 187 188 188 188 188 188 188 188 188 ...\n",
            "  .. .. ..$ chromosome         : chr [1:37842] \"chrY\" \"chrY\" \"chrY\" \"chrY\" ...\n",
            "  .. .. ..$ position           : int [1:37842] 4870822 3447157 14100573 4867968 104566227 151960304 118823726 48508842 101390753 138529221 ...\n",
            " $ random.seed       : num 20161123\n",
            " $ sva.ret           : NULL\n"
          ]
        }
      ]
    },
    {
      "cell_type": "markdown",
      "source": [
        "We’re interested in the sublist `analyses`, which contains another sublist `table` with the per-CpG results. Access it like this:"
      ],
      "metadata": {
        "id": "wpzZcBHXq_Z8"
      }
    },
    {
      "cell_type": "code",
      "source": [
        "results_table <- rlm_results_ewas_smokers$analyses$none$table\n",
        "print(dim(results_table))"
      ],
      "metadata": {
        "colab": {
          "base_uri": "https://localhost:8080/"
        },
        "id": "wL5d-j8Tr981",
        "outputId": "e3ebca94-b499-490c-f08a-699336ab0db8"
      },
      "execution_count": 68,
      "outputs": [
        {
          "output_type": "stream",
          "name": "stdout",
          "text": [
            "[1] 37842    11\n"
          ]
        }
      ]
    },
    {
      "cell_type": "code",
      "source": [
        "# Save results\n",
        "cat('RESULTS SAVED TO:',file.path(getwd(), \"EWAS_results_table.csv\"))\n",
        "write.csv(results_table, file.path(getwd(), \"EWAS_results_table.csv\"), row.names = FALSE)\n",
        "\n",
        "\n",
        "\n",
        "\n",
        "\n"
      ],
      "metadata": {
        "colab": {
          "base_uri": "https://localhost:8080/"
        },
        "id": "oBMH6YUgs-kj",
        "outputId": "42f5c710-87f0-4e9c-f73c-75276840bf9d"
      },
      "execution_count": 50,
      "outputs": [
        {
          "output_type": "stream",
          "name": "stdout",
          "text": [
            "RESULTS SAVED TO: /content/EWAS_results_table.csv"
          ]
        }
      ]
    },
    {
      "cell_type": "markdown",
      "source": [
        "We now have a results table with **37,842 CpGs × 11 columns**.\n",
        "\n",
        "- **p.value**: raw p-value for the association (current vs never).\n",
        "- **fdr**:  p-value adjusted for false discovery rate (Benjamini–Hochberg). Use this for calling discoveries.\n",
        "- **p.holm**: p-value adjusted by Holm–Bonferroni (more conservative; we won’t use it here).\n",
        "- **coefficient**: estimated effect size (current − never) on the modeling scale.\n",
        "- **t.statistics**: the test statistic for the coefficient (effect ÷ standard error).\n",
        "- **coefficient.se**: standard error of the effect estimate.\n",
        "- **coefficient.ci.low** and **coefficient.ci.high**: lower/upper bounds of the confidence interval for the effect.\n",
        "- **n**: number of samples included for that CpG.\n",
        "- **chromosome** and **position**: CpG genomic location (hg19), if annotation was available when running the model."
      ],
      "metadata": {
        "id": "Z4FFm2pQq6Pt"
      }
    },
    {
      "cell_type": "code",
      "source": [
        "head(results_table)"
      ],
      "metadata": {
        "colab": {
          "base_uri": "https://localhost:8080/",
          "height": 286
        },
        "id": "t_igHjnFqZ12",
        "outputId": "9761605f-0d71-4812-b610-66dc5d1c795e"
      },
      "execution_count": 51,
      "outputs": [
        {
          "output_type": "display_data",
          "data": {
            "text/html": [
              "<table class=\"dataframe\">\n",
              "<caption>A data.frame: 6 × 11</caption>\n",
              "<thead>\n",
              "\t<tr><th></th><th scope=col>p.value</th><th scope=col>fdr</th><th scope=col>p.holm</th><th scope=col>t.statistic</th><th scope=col>coefficient</th><th scope=col>coefficient.ci.high</th><th scope=col>coefficient.ci.low</th><th scope=col>coefficient.se</th><th scope=col>n</th><th scope=col>chromosome</th><th scope=col>position</th></tr>\n",
              "\t<tr><th></th><th scope=col>&lt;dbl&gt;</th><th scope=col>&lt;dbl&gt;</th><th scope=col>&lt;dbl&gt;</th><th scope=col>&lt;dbl&gt;</th><th scope=col>&lt;dbl&gt;</th><th scope=col>&lt;dbl&gt;</th><th scope=col>&lt;dbl&gt;</th><th scope=col>&lt;dbl&gt;</th><th scope=col>&lt;int&gt;</th><th scope=col>&lt;chr&gt;</th><th scope=col>&lt;int&gt;</th></tr>\n",
              "</thead>\n",
              "<tbody>\n",
              "\t<tr><th scope=row>cg02432075</th><td>0.43603771</td><td>0.6991458</td><td>1</td><td>-0.7805691</td><td>-0.003691389</td><td>0.005637530</td><td>-0.0130203073</td><td>0.004729100</td><td>188</td><td>chrY</td><td>  4870822</td></tr>\n",
              "\t<tr><th scope=row>cg03515901</th><td>0.36127065</td><td>0.6380959</td><td>1</td><td> 0.9151897</td><td> 0.003266809</td><td>0.010308558</td><td>-0.0037749394</td><td>0.003569543</td><td>187</td><td>chrY</td><td>  3447157</td></tr>\n",
              "\t<tr><th scope=row>cg04023335</th><td>0.62545359</td><td>0.8228485</td><td>1</td><td>-0.4889407</td><td>-0.004284492</td><td>0.013001566</td><td>-0.0215705490</td><td>0.008762805</td><td>188</td><td>chrY</td><td> 14100573</td></tr>\n",
              "\t<tr><th scope=row>cg08455548</th><td>0.13025904</td><td>0.3887738</td><td>1</td><td>-1.5197292</td><td>-0.006188924</td><td>0.001844520</td><td>-0.0142223672</td><td>0.004072386</td><td>188</td><td>chrY</td><td>  4867968</td></tr>\n",
              "\t<tr><th scope=row>cg00006815</th><td>0.07577793</td><td>0.2997626</td><td>1</td><td>-1.7855883</td><td>-0.023292401</td><td>0.002440322</td><td>-0.0490251238</td><td>0.013044665</td><td>188</td><td>chrX</td><td>104566227</td></tr>\n",
              "\t<tr><th scope=row>cg00018204</th><td>0.04697859</td><td>0.2390753</td><td>1</td><td> 1.9996437</td><td> 0.008907472</td><td>0.017694757</td><td> 0.0001201876</td><td>0.004454530</td><td>188</td><td>chrX</td><td>151960304</td></tr>\n",
              "</tbody>\n",
              "</table>\n"
            ],
            "text/markdown": "\nA data.frame: 6 × 11\n\n| <!--/--> | p.value &lt;dbl&gt; | fdr &lt;dbl&gt; | p.holm &lt;dbl&gt; | t.statistic &lt;dbl&gt; | coefficient &lt;dbl&gt; | coefficient.ci.high &lt;dbl&gt; | coefficient.ci.low &lt;dbl&gt; | coefficient.se &lt;dbl&gt; | n &lt;int&gt; | chromosome &lt;chr&gt; | position &lt;int&gt; |\n|---|---|---|---|---|---|---|---|---|---|---|---|\n| cg02432075 | 0.43603771 | 0.6991458 | 1 | -0.7805691 | -0.003691389 | 0.005637530 | -0.0130203073 | 0.004729100 | 188 | chrY |   4870822 |\n| cg03515901 | 0.36127065 | 0.6380959 | 1 |  0.9151897 |  0.003266809 | 0.010308558 | -0.0037749394 | 0.003569543 | 187 | chrY |   3447157 |\n| cg04023335 | 0.62545359 | 0.8228485 | 1 | -0.4889407 | -0.004284492 | 0.013001566 | -0.0215705490 | 0.008762805 | 188 | chrY |  14100573 |\n| cg08455548 | 0.13025904 | 0.3887738 | 1 | -1.5197292 | -0.006188924 | 0.001844520 | -0.0142223672 | 0.004072386 | 188 | chrY |   4867968 |\n| cg00006815 | 0.07577793 | 0.2997626 | 1 | -1.7855883 | -0.023292401 | 0.002440322 | -0.0490251238 | 0.013044665 | 188 | chrX | 104566227 |\n| cg00018204 | 0.04697859 | 0.2390753 | 1 |  1.9996437 |  0.008907472 | 0.017694757 |  0.0001201876 | 0.004454530 | 188 | chrX | 151960304 |\n\n",
            "text/latex": "A data.frame: 6 × 11\n\\begin{tabular}{r|lllllllllll}\n  & p.value & fdr & p.holm & t.statistic & coefficient & coefficient.ci.high & coefficient.ci.low & coefficient.se & n & chromosome & position\\\\\n  & <dbl> & <dbl> & <dbl> & <dbl> & <dbl> & <dbl> & <dbl> & <dbl> & <int> & <chr> & <int>\\\\\n\\hline\n\tcg02432075 & 0.43603771 & 0.6991458 & 1 & -0.7805691 & -0.003691389 & 0.005637530 & -0.0130203073 & 0.004729100 & 188 & chrY &   4870822\\\\\n\tcg03515901 & 0.36127065 & 0.6380959 & 1 &  0.9151897 &  0.003266809 & 0.010308558 & -0.0037749394 & 0.003569543 & 187 & chrY &   3447157\\\\\n\tcg04023335 & 0.62545359 & 0.8228485 & 1 & -0.4889407 & -0.004284492 & 0.013001566 & -0.0215705490 & 0.008762805 & 188 & chrY &  14100573\\\\\n\tcg08455548 & 0.13025904 & 0.3887738 & 1 & -1.5197292 & -0.006188924 & 0.001844520 & -0.0142223672 & 0.004072386 & 188 & chrY &   4867968\\\\\n\tcg00006815 & 0.07577793 & 0.2997626 & 1 & -1.7855883 & -0.023292401 & 0.002440322 & -0.0490251238 & 0.013044665 & 188 & chrX & 104566227\\\\\n\tcg00018204 & 0.04697859 & 0.2390753 & 1 &  1.9996437 &  0.008907472 & 0.017694757 &  0.0001201876 & 0.004454530 & 188 & chrX & 151960304\\\\\n\\end{tabular}\n",
            "text/plain": [
              "           p.value    fdr       p.holm t.statistic coefficient \n",
              "cg02432075 0.43603771 0.6991458 1      -0.7805691  -0.003691389\n",
              "cg03515901 0.36127065 0.6380959 1       0.9151897   0.003266809\n",
              "cg04023335 0.62545359 0.8228485 1      -0.4889407  -0.004284492\n",
              "cg08455548 0.13025904 0.3887738 1      -1.5197292  -0.006188924\n",
              "cg00006815 0.07577793 0.2997626 1      -1.7855883  -0.023292401\n",
              "cg00018204 0.04697859 0.2390753 1       1.9996437   0.008907472\n",
              "           coefficient.ci.high coefficient.ci.low coefficient.se n   chromosome\n",
              "cg02432075 0.005637530         -0.0130203073      0.004729100    188 chrY      \n",
              "cg03515901 0.010308558         -0.0037749394      0.003569543    187 chrY      \n",
              "cg04023335 0.013001566         -0.0215705490      0.008762805    188 chrY      \n",
              "cg08455548 0.001844520         -0.0142223672      0.004072386    188 chrY      \n",
              "cg00006815 0.002440322         -0.0490251238      0.013044665    188 chrX      \n",
              "cg00018204 0.017694757          0.0001201876      0.004454530    188 chrX      \n",
              "           position \n",
              "cg02432075   4870822\n",
              "cg03515901   3447157\n",
              "cg04023335  14100573\n",
              "cg08455548   4867968\n",
              "cg00006815 104566227\n",
              "cg00018204 151960304"
            ]
          },
          "metadata": {}
        }
      ]
    },
    {
      "cell_type": "markdown",
      "source": [
        "### **3.3.1 QQ plot**\n",
        "\n",
        "A quick way to assess the overall behavior of our EWAS p-values is a quantile–quantile (QQ) plot. Under the null (no true signal), p-values should be uniform, so the observed –log10(p) should follow the 45° line against the expected values.\n",
        "\n",
        "** Genomic inflation factor (λ)**\n",
        "- We also report λ; values ~1.0 indicate well-calibrated tests.\n",
        "- λ > 1.1–1.2 suggests inflation (check covariates, drop one cell fraction, add/adjust SVA, or winsorize lightly).\n",
        "- λ < 1.0 can indicate over-correction."
      ],
      "metadata": {
        "id": "eUJJBStXfWWd"
      }
    },
    {
      "cell_type": "code",
      "source": [
        "# Get p values\n",
        "p <- results_table$p.value\n",
        "\n",
        "# Compute lambda\n",
        "p <- p[!is.na(p) & is.finite(p)]\n",
        "p[p == 0] <- .Machine$double.xmin           # avoid Inf in qchisq\n",
        "chisq <- qchisq(1 - p, df = 1)              # observed chi^2\n",
        "lambda <- median(chisq) / qchisq(0.5, 1)    # genomic inflation\n",
        "\n",
        "# Plot QQ\n",
        "qq(p, main = sprintf(\"QQ plot — EWAS current vs never (λ = %.3f)\", lambda))\n",
        "abline(0, 1, lty = 2)  # reference line (optional)\n"
      ],
      "metadata": {
        "colab": {
          "base_uri": "https://localhost:8080/",
          "height": 437
        },
        "id": "qb66w1ciwSLY",
        "outputId": "456d003b-a808-449a-d43e-94e940f2de63"
      },
      "execution_count": 52,
      "outputs": [
        {
          "output_type": "display_data",
          "data": {
            "text/plain": [
              "Plot with title \"QQ plot — EWAS current vs never (λ = 2.519)\""
            ],
            "image/png": "[encoded data removed]"
          },
          "metadata": {
            "image/png": {
              "width": 420,
              "height": 420
            }
          }
        }
      ]
    },
    {
      "cell_type": "markdown",
      "source": [
        "**Comment:**\n",
        "\n",
        "Our λ ≈ 2.5 is high—much higher than the ~1.0 you’d hope for in a well-calibrated genome-wide test. In a real study this could signal unmodelled confounding or technical effects (e.g., cell composition, batch/array, age/sex, population structure/relatedness, or outliers/collinearity).\n",
        "\n",
        "In this practicum, the dataset is a small, curated subset enriched for smoking hits, so the p-value distribution is dominated by true associations. That naturally bends the QQ plot upward and inflates λ; here it’s not evidence of a problem.\n",
        "\n",
        "Good practice: compare unadjusted, covariate-adjusted, and adjusted+SVA models (with a sensible cap on SVs). λ should usually decrease with appropriate adjustment. Use FDR to call discoveries; if you want a calibration check when many true effects are present, consider methods like bacon rather than relying solely on raw λ."
      ],
      "metadata": {
        "id": "dvWJhSBgxP0I"
      }
    },
    {
      "cell_type": "markdown",
      "source": [
        "### 3.3.3 Significant CpGs\n",
        "\n",
        "We focus on CpGs that pass a multiple-testing threshold—here we’ll use **FDR < 0.05**. These are the sites most likely to show a real association between Smoking (current vs never) and methylation.\n",
        "\n",
        "How to read the effect:\n",
        "- **Positive effect**: higher methylation in current smokers vs never (hypermethylation).\n",
        "- **Negative effect**: lower methylation in current smokers vs never (hypomethylation).\n",
        "\n"
      ],
      "metadata": {
        "id": "If43oCmTTpbc"
      }
    },
    {
      "cell_type": "code",
      "source": [
        "fdr_sig_results <- results_table[!is.na(results_table$fdr) & results_table$fdr < 0.05, , drop = FALSE]\n",
        "head(fdr_sig_results)"
      ],
      "metadata": {
        "id": "Zkw6yjZ7TssD",
        "colab": {
          "base_uri": "https://localhost:8080/",
          "height": 286
        },
        "outputId": "f1e764e0-0c48-4945-d677-a2c23df63fe4"
      },
      "execution_count": 53,
      "outputs": [
        {
          "output_type": "display_data",
          "data": {
            "text/html": [
              "<table class=\"dataframe\">\n",
              "<caption>A data.frame: 6 × 11</caption>\n",
              "<thead>\n",
              "\t<tr><th></th><th scope=col>p.value</th><th scope=col>fdr</th><th scope=col>p.holm</th><th scope=col>t.statistic</th><th scope=col>coefficient</th><th scope=col>coefficient.ci.high</th><th scope=col>coefficient.ci.low</th><th scope=col>coefficient.se</th><th scope=col>n</th><th scope=col>chromosome</th><th scope=col>position</th></tr>\n",
              "\t<tr><th></th><th scope=col>&lt;dbl&gt;</th><th scope=col>&lt;dbl&gt;</th><th scope=col>&lt;dbl&gt;</th><th scope=col>&lt;dbl&gt;</th><th scope=col>&lt;dbl&gt;</th><th scope=col>&lt;dbl&gt;</th><th scope=col>&lt;dbl&gt;</th><th scope=col>&lt;dbl&gt;</th><th scope=col>&lt;int&gt;</th><th scope=col>&lt;chr&gt;</th><th scope=col>&lt;int&gt;</th></tr>\n",
              "</thead>\n",
              "<tbody>\n",
              "\t<tr><th scope=row>cg03274069</th><td>1.440379e-05</td><td>0.0028541997</td><td>0.54236017</td><td> 4.454606</td><td> 0.04254537</td><td> 0.061386022</td><td> 0.023704724</td><td>0.009550872</td><td>188</td><td>chrX</td><td>153906245</td></tr>\n",
              "\t<tr><th scope=row>cg12901451</th><td>6.400533e-04</td><td>0.0291466876</td><td>1.00000000</td><td> 3.473677</td><td> 0.01808667</td><td> 0.028359335</td><td> 0.007814002</td><td>0.005206780</td><td>184</td><td>chrX</td><td> 48761757</td></tr>\n",
              "\t<tr><th scope=row>cg20313902</th><td>1.620678e-03</td><td>0.0467171137</td><td>1.00000000</td><td> 3.198615</td><td> 0.01554955</td><td> 0.025139331</td><td> 0.005959771</td><td>0.004861338</td><td>188</td><td>chrX</td><td>153409698</td></tr>\n",
              "\t<tr><th scope=row>cg00246451</th><td>1.330087e-05</td><td>0.0027354975</td><td>0.50089747</td><td>-4.473481</td><td>-0.00513440</td><td>-0.002870293</td><td>-0.007398507</td><td>0.001147742</td><td>188</td><td>chr1</td><td>155979221</td></tr>\n",
              "\t<tr><th scope=row>cg00279406</th><td>7.711736e-05</td><td>0.0085555659</td><td>1.00000000</td><td>-4.042339</td><td>-0.01207774</td><td>-0.006183798</td><td>-0.017971676</td><td>0.002987809</td><td>188</td><td>chr1</td><td>226737038</td></tr>\n",
              "\t<tr><th scope=row>cg00541303</th><td>1.390344e-06</td><td>0.0004384451</td><td>0.05244796</td><td>-4.986791</td><td>-0.03227499</td><td>-0.019507730</td><td>-0.045042258</td><td>0.006472097</td><td>188</td><td>chr1</td><td>208789029</td></tr>\n",
              "</tbody>\n",
              "</table>\n"
            ],
            "text/markdown": "\nA data.frame: 6 × 11\n\n| <!--/--> | p.value &lt;dbl&gt; | fdr &lt;dbl&gt; | p.holm &lt;dbl&gt; | t.statistic &lt;dbl&gt; | coefficient &lt;dbl&gt; | coefficient.ci.high &lt;dbl&gt; | coefficient.ci.low &lt;dbl&gt; | coefficient.se &lt;dbl&gt; | n &lt;int&gt; | chromosome &lt;chr&gt; | position &lt;int&gt; |\n|---|---|---|---|---|---|---|---|---|---|---|---|\n| cg03274069 | 1.440379e-05 | 0.0028541997 | 0.54236017 |  4.454606 |  0.04254537 |  0.061386022 |  0.023704724 | 0.009550872 | 188 | chrX | 153906245 |\n| cg12901451 | 6.400533e-04 | 0.0291466876 | 1.00000000 |  3.473677 |  0.01808667 |  0.028359335 |  0.007814002 | 0.005206780 | 184 | chrX |  48761757 |\n| cg20313902 | 1.620678e-03 | 0.0467171137 | 1.00000000 |  3.198615 |  0.01554955 |  0.025139331 |  0.005959771 | 0.004861338 | 188 | chrX | 153409698 |\n| cg00246451 | 1.330087e-05 | 0.0027354975 | 0.50089747 | -4.473481 | -0.00513440 | -0.002870293 | -0.007398507 | 0.001147742 | 188 | chr1 | 155979221 |\n| cg00279406 | 7.711736e-05 | 0.0085555659 | 1.00000000 | -4.042339 | -0.01207774 | -0.006183798 | -0.017971676 | 0.002987809 | 188 | chr1 | 226737038 |\n| cg00541303 | 1.390344e-06 | 0.0004384451 | 0.05244796 | -4.986791 | -0.03227499 | -0.019507730 | -0.045042258 | 0.006472097 | 188 | chr1 | 208789029 |\n\n",
            "text/latex": "A data.frame: 6 × 11\n\\begin{tabular}{r|lllllllllll}\n  & p.value & fdr & p.holm & t.statistic & coefficient & coefficient.ci.high & coefficient.ci.low & coefficient.se & n & chromosome & position\\\\\n  & <dbl> & <dbl> & <dbl> & <dbl> & <dbl> & <dbl> & <dbl> & <dbl> & <int> & <chr> & <int>\\\\\n\\hline\n\tcg03274069 & 1.440379e-05 & 0.0028541997 & 0.54236017 &  4.454606 &  0.04254537 &  0.061386022 &  0.023704724 & 0.009550872 & 188 & chrX & 153906245\\\\\n\tcg12901451 & 6.400533e-04 & 0.0291466876 & 1.00000000 &  3.473677 &  0.01808667 &  0.028359335 &  0.007814002 & 0.005206780 & 184 & chrX &  48761757\\\\\n\tcg20313902 & 1.620678e-03 & 0.0467171137 & 1.00000000 &  3.198615 &  0.01554955 &  0.025139331 &  0.005959771 & 0.004861338 & 188 & chrX & 153409698\\\\\n\tcg00246451 & 1.330087e-05 & 0.0027354975 & 0.50089747 & -4.473481 & -0.00513440 & -0.002870293 & -0.007398507 & 0.001147742 & 188 & chr1 & 155979221\\\\\n\tcg00279406 & 7.711736e-05 & 0.0085555659 & 1.00000000 & -4.042339 & -0.01207774 & -0.006183798 & -0.017971676 & 0.002987809 & 188 & chr1 & 226737038\\\\\n\tcg00541303 & 1.390344e-06 & 0.0004384451 & 0.05244796 & -4.986791 & -0.03227499 & -0.019507730 & -0.045042258 & 0.006472097 & 188 & chr1 & 208789029\\\\\n\\end{tabular}\n",
            "text/plain": [
              "           p.value      fdr          p.holm     t.statistic coefficient\n",
              "cg03274069 1.440379e-05 0.0028541997 0.54236017  4.454606    0.04254537\n",
              "cg12901451 6.400533e-04 0.0291466876 1.00000000  3.473677    0.01808667\n",
              "cg20313902 1.620678e-03 0.0467171137 1.00000000  3.198615    0.01554955\n",
              "cg00246451 1.330087e-05 0.0027354975 0.50089747 -4.473481   -0.00513440\n",
              "cg00279406 7.711736e-05 0.0085555659 1.00000000 -4.042339   -0.01207774\n",
              "cg00541303 1.390344e-06 0.0004384451 0.05244796 -4.986791   -0.03227499\n",
              "           coefficient.ci.high coefficient.ci.low coefficient.se n   chromosome\n",
              "cg03274069  0.061386022         0.023704724       0.009550872    188 chrX      \n",
              "cg12901451  0.028359335         0.007814002       0.005206780    184 chrX      \n",
              "cg20313902  0.025139331         0.005959771       0.004861338    188 chrX      \n",
              "cg00246451 -0.002870293        -0.007398507       0.001147742    188 chr1      \n",
              "cg00279406 -0.006183798        -0.017971676       0.002987809    188 chr1      \n",
              "cg00541303 -0.019507730        -0.045042258       0.006472097    188 chr1      \n",
              "           position \n",
              "cg03274069 153906245\n",
              "cg12901451  48761757\n",
              "cg20313902 153409698\n",
              "cg00246451 155979221\n",
              "cg00279406 226737038\n",
              "cg00541303 208789029"
            ]
          },
          "metadata": {}
        }
      ]
    },
    {
      "cell_type": "code",
      "source": [
        "cat(\"Number of FDR-significant CpGs (FDR < 0.05):\", nrow(fdr_sig_results), \"\\n\")\n",
        "cat(\"Positive effects (current > never):\", sum(fdr_sig_results$coefficient > 0, na.rm = TRUE), \"\\n\")\n",
        "cat(\"Negative effects (current < never):\", sum(fdr_sig_results$coefficient < 0, na.rm = TRUE), \"\\n\")"
      ],
      "metadata": {
        "id": "qSXRoB77TvXT",
        "colab": {
          "base_uri": "https://localhost:8080/"
        },
        "outputId": "b79cbc92-b0c3-4d9b-e7f7-d3317f04be91"
      },
      "execution_count": 56,
      "outputs": [
        {
          "output_type": "stream",
          "name": "stdout",
          "text": [
            "Number of FDR-significant CpGs (FDR < 0.05): 1367 \n",
            "Positive effects (current > never): 602 \n",
            "Negative effects (current < never): 765 \n"
          ]
        }
      ]
    },
    {
      "cell_type": "markdown",
      "source": [
        "**Comment:**\n",
        "We identified 1,367 significant CpGs (FDR < 0.05) out of 37,842 tested (~3.6%). Among these, 602 (44.0%) show a positive effect—i.e., higher methylation in current smokers vs never—while 765 (56.0%) show a negative effect, indicating lower methylation in current smokers."
      ],
      "metadata": {
        "id": "CCnJW2miyRWd"
      }
    },
    {
      "cell_type": "markdown",
      "source": [
        "### 3.3.2 Volcano Plots\n",
        "A volcano plot lets us to a look at the EWAS results quickly:\n",
        "- x-axis: effect size (regression coefficient; current − never on the modeling scale, e.g., M-values).\n",
        "  - Right side (positive) → higher methylation in current smokers.\n",
        "  - Left side (negative) → lower methylation in current smokers.\n",
        "\n",
        "* y-axis: statistical strength (−log10(p-value)); higher = more significant.\n",
        "\n",
        "We add a horizontal line at our significance threshold (e.g., the p-value that corresponds to FDR < 0.05) and, optionally, vertical lines to mark a practical effect-size cutoff. Points in the upper right are significant hypermethylated CpGs; points in the upper left are significant hypomethylated CpGs.\n",
        "\n",
        "We’ll also color the points by significance (e.g., red/blue for FDR < 0.05, grey otherwise) so significant CpGs stand out."
      ],
      "metadata": {
        "id": "H-MlNyRjUCuc"
      }
    },
    {
      "cell_type": "code",
      "source": [
        "# Use full results table (all CpGs), not only the FDR<0.05 subset\n",
        "res <- results_table\n",
        "\n",
        "# Flag direction + significance\n",
        "res$diffexpressed <- \"NO\"\n",
        "res$diffexpressed[!is.na(res$fdr) & res$fdr < 0.05 & res$coefficient > 0] <- \"POSITIVE\"\n",
        "res$diffexpressed[!is.na(res$fdr) & res$fdr < 0.05 & res$coefficient < 0] <- \"NEGATIVE\"\n",
        "\n",
        "# Colors\n",
        "mycolors <- c(\"POSITIVE\" = \"#157F8D\", \"NEGATIVE\" = \"#AF8D9B\", \"NO\" = \"grey\")\n",
        "\n",
        "# (Optional) draw a horizontal line at a p-value that corresponds to your chosen FDR cutoff.\n",
        "# If you have a p-value threshold (e.g., 3.86e-04), keep it; otherwise omit the hline.\n",
        "p_thresh <- 3.86e-04\n",
        "\n",
        "p <- ggplot(res, aes(x = coefficient, y = -log10(p.value), color = diffexpressed)) +\n",
        "  geom_point(size = 1.5, alpha = 0.9) +\n",
        "  scale_colour_manual(values = mycolors, name = \"Effect\") +\n",
        "  labs(title = \"\", x = \"Effect size (current − never)\", y = expression(-log[10](p))) +\n",
        "  theme_minimal(base_size = 14) +\n",
        "  theme(axis.title = element_text(color = \"black\"),\n",
        "        plot.title = element_text(face = \"bold\", hjust = 0.5),\n",
        "        legend.title = element_text(color = \"black\")) +\n",
        "  xlim(c(-0.3, 0.3)) + ylim(c(0, 35)) +\n",
        "  geom_hline(yintercept = -log10(p_thresh), linetype = \"dashed\", color = \"red\")\n",
        "\n",
        "p"
      ],
      "metadata": {
        "id": "JDURO9i6UHjd",
        "colab": {
          "base_uri": "https://localhost:8080/",
          "height": 489
        },
        "outputId": "de9cdd02-5299-4381-b92a-a916d0e5dbdc"
      },
      "execution_count": 69,
      "outputs": [
        {
          "output_type": "stream",
          "name": "stderr",
          "text": [
            "Warning message:\n",
            "\"\u001b[1m\u001b[22mRemoved 4 rows containing missing values or values outside the scale range\n",
            "(`geom_point()`).\"\n"
          ]
        },
        {
          "output_type": "display_data",
          "data": {
            "text/plain": [
              "plot without title"
            ],
            "image/png": "[encoded data removed]"
          },
          "metadata": {
            "image/png": {
              "width": 420,
              "height": 420
            }
          }
        }
      ]
    },
    {
      "cell_type": "markdown",
      "source": [
        "### 3.3.4 MANHATTAN PLOT\n",
        "\n",
        "A Manhattan plot shows p-values across the genome:\n",
        "\n",
        "x-axis: chromosomal position (hg19).\n",
        "\n",
        "y-axis: significance (−log10(p)).\n",
        "\n",
        "Dashed lines often mark epigenome-wide (e.g., p = 1×10⁻⁷ → y = 7) and suggestive (e.g., p = 1×10⁻⁵ → y = 5) thresholds.\n",
        "\n",
        "Points high on the left/right arms of chromosomes highlight CpGs with strong associations; we can color epigenome-wide hits in red so they stand out."
      ],
      "metadata": {
        "id": "kY4TOz9ZUJdM"
      }
    },
    {
      "cell_type": "code",
      "source": [
        "# Create a dataframe with chr, start, end and pval\n",
        "df.current<-res.current.ord[,c(\"chromosome\",\"position\",\"p.value\")]\n",
        "head(df.current)"
      ],
      "metadata": {
        "id": "1yf9iNoPUJkM"
      },
      "execution_count": null,
      "outputs": []
    },
    {
      "cell_type": "code",
      "source": [
        "# PREPARE DATA FOR PLOTTING\n",
        "# 1) start from full results\n",
        "res <- results_table\n",
        "\n",
        "# 2) keep rows with valid chr/pos/p\n",
        "ok <- complete.cases(res[, c(\"chromosome\",\"position\",\"p.value\")])\n",
        "res <- res[ok, , drop = FALSE]\n",
        "\n",
        "# 3) ensure 'chr' prefix\n",
        "chr <- as.character(res$chromosome)\n",
        "chr <- ifelse(grepl(\"^chr\", chr, ignore.case = TRUE), chr, paste0(\"chr\", chr))\n",
        "\n",
        "# 4) build GRanges (use position ±1bp)\n",
        "gr <- GRanges(\n",
        "  seqnames = chr,\n",
        "  ranges   = IRanges(start = as.integer(res$position),\n",
        "                     end   = as.integer(res$position) + 1),\n",
        "  pval     = res$p.value\n",
        ")\n",
        "\n",
        "# 5) colors by significance (optional)\n",
        "cols <- ifelse(res$p.value < 1e-7, \"red\",\n",
        "         ifelse(res$p.value < 1e-5, \"orange\", \"grey\"))\n",
        "invisible(cols)  # avoid printing the vector"
      ],
      "metadata": {
        "id": "9UrnEP3gUPuM",
        "colab": {
          "base_uri": "https://localhost:8080/",
          "height": 124
        },
        "collapsed": true,
        "outputId": "72d93aae-abfa-43d7-87d7-2aab7aedd673"
      },
      "execution_count": 72,
      "outputs": [
        {
          "output_type": "error",
          "ename": "ERROR",
          "evalue": "Error in parse(text = input): <text>:17:1: unexpected symbol\n16: # colors by significance (optional)\n17: cols\n    ^\n",
          "traceback": [
            "Error in parse(text = input): <text>:17:1: unexpected symbol\n16: # colors by significance (optional)\n17: cols\n    ^\nTraceback:\n"
          ]
        }
      ]
    },
    {
      "cell_type": "code",
      "source": [
        "# plot\n",
        "kp <- plotKaryotype(genome = \"hg19\", plot.type = 4)\n",
        "kp <- kpAddChromosomeNames(kp, cex = 0.6, srt = 45)\n",
        "\n",
        "# main scatter (Manhattan)\n",
        "kp <- kpPlotManhattan(kp, data = gr, pval = mcols(gr)$pval, ymax = 10, col = cols)\n",
        "\n",
        "# y-axis and reference lines\n",
        "kp <- kpAxis(kp, ymin = 0, ymax = 10, cex = 0.8)\n",
        "kpAbline(kp, h = 7, col = \"red\",    lty = 2)  # epigenome-wide (1e-7)\n",
        "kpAbline(kp, h = 5, col = \"orange\", lty = 3)  # suggestive (1e-5)"
      ],
      "metadata": {
        "id": "xfIDUxRoGqYD"
      },
      "execution_count": null,
      "outputs": []
    },
    {
      "cell_type": "markdown",
      "source": [
        "###  Additional: Report meffil\n",
        "\n",
        "Addtiionally meffil allows to create a report by\n",
        "To explore the results, we will create a report using meffil.ewas.parameters() and meffil.ewas.summary() functions from meffil R package.\n",
        "\n",
        "This report contains:\n",
        "\n",
        "Sample characteristics\n",
        "Covariate associations: Associations between the exposure variable (Smoking) and the covariates.\n",
        "Lambdas and QQplots to examine inflation (none, all cov, sva)\n",
        "Manhattan plots\n",
        "Significant CpG sites. As threshold we will indicate FDR=0.05.\n",
        "Specific CpGs Box plot: To observe the methylation differences between Never VS Current smokers, you can specify the CpGs that you are interested in. Today we will select our top significant CpG “cg05575921” that is annotated to AHRR gene and it is well known for its association with tabbacco."
      ],
      "metadata": {
        "id": "cFomQVZ-vCI6"
      }
    },
    {
      "cell_type": "code",
      "source": [
        "ewas.parameters <- meffil.ewas.parameters(max.plots = 1,model=\"sva\", sig.threshold = 3.86e-04) #FDR (0.05) = p.value (3.86e-04)\n",
        "candidate.site <- c(\"cg05575921\")\n",
        "ewas.summary <- meffil.ewas.summary(ewas.current,\n",
        "                                    methyl.current,\n",
        "                                    selected.cpg.sites=candidate.site,\n",
        "                                    parameters=ewas.parameters)"
      ],
      "metadata": {
        "id": "zV7a2s2BT9dU"
      },
      "execution_count": null,
      "outputs": []
    },
    {
      "cell_type": "markdown",
      "source": [
        "# 3.4 Discussion-Interpretations:\n",
        "\n",
        "* Which is the lambda of the unadjusted EWAS of current smoking? How does it change in adding covariates and surrogate variables?\n",
        "\n",
        "* How many CpGs are associated with current smoking (after False Discovery Rate – FDR - correction) in the model adjusted by covariates and sva?\n",
        "\n",
        "* How many of the FDR CpGs show higher methylation and how many lower methylation?\n",
        "\n",
        "* Which is the top 1 CpG? In which chromosome is located?\n"
      ],
      "metadata": {
        "id": "-re722wCUUC9"
      }
    },
    {
      "cell_type": "markdown",
      "source": [
        "Answers:\n",
        "* Unadjusted: 2.44, adjusted for covariates: 2.22 and adjusted for covariates + sva: 1.51\n",
        "* 289 164 show a negative effect and 125 show a positive effect\n",
        "* cg05575921, it is located in chromosome 5"
      ],
      "metadata": {
        "id": "ySJAQsjWV7DQ"
      }
    },
    {
      "cell_type": "markdown",
      "source": [
        "# 4 Downstream analyiss\n",
        "\n",
        "\n",
        "also it cvan be done with online tools eFORGE is used to identify cell-type or tissue-type specific signals in epigenomic data by looking at the overlap between differentially methylated positions (DMPs) with DNase I hypersensitive sites (DHSs)\n",
        "\n",
        "EWAS Catalog is a huge database of EWAS results. We can submit the names of our top CpGs to see the last published information about them"
      ],
      "metadata": {
        "id": "BwEWXbEhU49v"
      }
    },
    {
      "cell_type": "code",
      "source": [
        "library(IlluminaHumanMethylation450kanno.ilmn12.hg19)\n",
        "library(clusterProfiler)\n",
        "library(org.Hs.eg.db)\n",
        "library(enrichplot)\n",
        "library(DOSE)"
      ],
      "metadata": {
        "id": "08Su8gJ6U9nG"
      },
      "execution_count": null,
      "outputs": []
    },
    {
      "cell_type": "markdown",
      "source": [
        "## 4.1 Annotation\n",
        "Once we have obtained a list with the CpGs that are significant in our analysis, we need to locate them in the genome and try to know which structures surround them. The annotation consists in obtaining this information:\n",
        "\n",
        "First we load the annotation from IlluminaHumanMethylation450kanno.ilmn12.hg19 R package and select the columns of interest\n",
        "\n",
        "anot her option is to go to ...... (ebpage)"
      ],
      "metadata": {
        "id": "7ni26h0_U-J9"
      }
    },
    {
      "cell_type": "code",
      "source": [
        "data(\"IlluminaHumanMethylation450kanno.ilmn12.hg19\")\n",
        "annotation.table<- getAnnotation(IlluminaHumanMethylation450kanno.ilmn12.hg19)\n",
        "dim(annotation.table)"
      ],
      "metadata": {
        "id": "28GNRcB4Vsif"
      },
      "execution_count": null,
      "outputs": []
    },
    {
      "cell_type": "code",
      "source": [
        "annotation.table<-as.data.frame(annotation.table[,c(\"chr\",\"pos\",\"strand\",\n",
        "                                                    \"Name\",\"Islands_Name\",\n",
        "                                                    \"Relation_to_Island\",\n",
        "                                                    \"UCSC_RefGene_Name\",\n",
        "                                                    \"UCSC_RefGene_Group\")])\n",
        "head(annotation.table)"
      ],
      "metadata": {
        "id": "2YhLKmMGVu9Y"
      },
      "execution_count": null,
      "outputs": []
    },
    {
      "cell_type": "markdown",
      "source": [
        "Merge our significant metaEWAS results with the annotation.\n",
        "\n"
      ],
      "metadata": {
        "id": "G-5_A1xjVAH9"
      }
    },
    {
      "cell_type": "code",
      "source": [
        "metaEWAS.ann<-merge(metaEWAS.FDRsig, annotation.table,by.x=\"probe\",by.y=\"Name\")\n",
        "metaEWAS.ann.ord<-metaEWAS.ann[order(metaEWAS.ann$p.fe),]\n",
        "\n",
        "head(metaEWAS.ann.ord)"
      ],
      "metadata": {
        "id": "oebyFlHqVwz4"
      },
      "execution_count": null,
      "outputs": []
    },
    {
      "cell_type": "markdown",
      "source": [
        "Create list of Genes for Enrichment and save list of FDR CpGs and FDR genes\n",
        "\n"
      ],
      "metadata": {
        "id": "CSpzQp3OVzzg"
      }
    },
    {
      "cell_type": "code",
      "source": [
        "ann.genes.current<-metaEWAS.ann.ord$UCSC_RefGene_Name\n",
        "ann.genes.current <- unlist(lapply(strsplit(ann.genes.current, \";\"), unique))"
      ],
      "metadata": {
        "id": "TwC7xtCSVz5g"
      },
      "execution_count": null,
      "outputs": []
    },
    {
      "cell_type": "markdown",
      "source": [
        "## 4.2. Enrichment\n",
        "he idea is to compare the list of genes that overlap our CpGs with the list of all the human genes that are anotated in specific databases. With this, we can see if our list of genes is a random subset or no.\n",
        "\n",
        "First of all we convert Gene Symbols to Ensembl and Entrez Gene IDs to use them later"
      ],
      "metadata": {
        "id": "3JejtZDZV-rd"
      }
    },
    {
      "cell_type": "code",
      "source": [
        "ids <- bitr(ann.genes.current, fromType=\"SYMBOL\", toType=c(\"ENSEMBL\", \"ENTREZID\"), OrgDb=\"org.Hs.eg.db\")\n",
        "head(ids)"
      ],
      "metadata": {
        "id": "wBKzfC1eWDtt"
      },
      "execution_count": null,
      "outputs": []
    },
    {
      "cell_type": "markdown",
      "source": [
        "### 4.2.1. GO terms\n",
        "We will first work with the Gene Ontology (GO) database, that allows us to see if a specific gene function is overrepresented in our gene list. We need to obtain the list of all human genes that are curated in GO."
      ],
      "metadata": {
        "id": "MwFyZTAvV-0X"
      }
    },
    {
      "cell_type": "code",
      "source": [
        "df = as.data.frame(org.Hs.egGO)\n",
        "go_gene_list = unique(sort(df$gene_id))\n",
        "ans.go <- enrichGO(gene = ids$ENTREZID,\n",
        "                   ont = \"BP\",\n",
        "                   OrgDb =\"org.Hs.eg.db\",\n",
        "                   universe = go_gene_list,\n",
        "                   readable=TRUE,\n",
        "                   pvalueCutoff = 0.05)\n",
        "\n",
        "tab.go <- as.data.frame(ans.go)\n",
        "tab.go<- subset(tab.go, Count>5)\n",
        "head(tab.go)"
      ],
      "metadata": {
        "id": "lMHlhXqFWHSD"
      },
      "execution_count": null,
      "outputs": []
    },
    {
      "cell_type": "markdown",
      "source": [
        "Finally we can perform different type of plots to see the results in a graphical way\n",
        "\n"
      ],
      "metadata": {
        "id": "LPiyy1BjWLBl"
      }
    },
    {
      "cell_type": "code",
      "source": [
        "p1 <- barplot(ans.go, showCategory=10) +\n",
        "  ggtitle('Never vs Current Smokers') +\n",
        "  theme(plot.title = element_text(size = 18))\n",
        "p1"
      ],
      "metadata": {
        "id": "Bo2-ueAAWLHL"
      },
      "execution_count": null,
      "outputs": []
    },
    {
      "cell_type": "code",
      "source": [
        "ans.go <- pairwise_termsim(ans.go)\n",
        "p2 <- emapplot(ans.go, cex_label_category = 0.5, showCategory = 20) +\n",
        "  ggtitle('Never vs Current Smokers') +\n",
        "  theme(plot.title = element_text(size = 18))\n",
        "p2"
      ],
      "metadata": {
        "id": "dqAVVL_qWOXC"
      },
      "execution_count": null,
      "outputs": []
    },
    {
      "cell_type": "code",
      "source": [
        "p3 <- cnetplot(ans.go, circular = FALSE, colorEdge = TRUE, showCategory = 2)\n",
        "p3"
      ],
      "metadata": {
        "id": "6g5DVresWQvK"
      },
      "execution_count": null,
      "outputs": []
    },
    {
      "cell_type": "markdown",
      "source": [
        "### 4.2.2 Reactome"
      ],
      "metadata": {
        "id": "gkqTJtw8WWBe"
      }
    },
    {
      "cell_type": "code",
      "source": [
        "ans.react <- enrichPathway(gene=ids$ENTREZID,\n",
        "                           pvalueCutoff = 0.05,\n",
        "                           readable=TRUE)\n",
        "tab.react <- as.data.frame(ans.react)\n",
        "head(tab.react)"
      ],
      "metadata": {
        "id": "AT6Z1TK-WYu2"
      },
      "execution_count": null,
      "outputs": []
    },
    {
      "cell_type": "markdown",
      "source": [
        "In this case, it exists a function that allows us to graphically investigate each of the pathwaysto see how the genes interact between them. We need to prepare a named list with the entrez gene ids and their fold change"
      ],
      "metadata": {
        "id": "xYdigdCpWbNm"
      }
    },
    {
      "cell_type": "code",
      "source": [
        "ids_coef_df <- merge(ids, metaEWAS.ann.ord[,c('UCSC_RefGene_Name', 'coef.fe')],\n",
        "                     by.x = 'SYMBOL',\n",
        "                     by.y='UCSC_RefGene_Name')\n",
        "\n",
        "pathway_genes <- str_split(tab.react$geneID[[1]], '/')[[1]]\n",
        "\n",
        "ids_coef_df <- ids_coef_df[ids_coef_df$SYMBOL %in% pathway_genes,]\n",
        "ids_coef_df <- ids_coef_df[!duplicated(ids_coef_df$ENTREZID),]\n",
        "ids_coef <- ids_coef_df$coef.fe\n",
        "names(ids_coef) <- ids_coef_df$ENTREZID\n",
        "\n",
        "\n",
        "p3 <- viewPathway(\"Platelet activation, signaling and aggregation\",\n",
        "            readable = TRUE,\n",
        "            foldChange = ids_coef)\n",
        "p3"
      ],
      "metadata": {
        "id": "kr52NXnQWcYm"
      },
      "execution_count": null,
      "outputs": []
    },
    {
      "cell_type": "markdown",
      "source": [
        "If the net is too busy, we can re-plot keeping just the genes on our list (the coloured ones)"
      ],
      "metadata": {
        "id": "-6uV1wGyWgX9"
      }
    },
    {
      "cell_type": "code",
      "source": [
        "p3$data <- p3$data[!is.na(p3$data$color),]\n",
        "p3"
      ],
      "metadata": {
        "id": "DyMTCTH2WgeA"
      },
      "execution_count": null,
      "outputs": []
    },
    {
      "cell_type": "markdown",
      "source": [
        "t the end of the practice, please answer these questions:\n",
        "\n",
        "Which is the top 1 enriched GO term in current smokers? and in former smokers?\n",
        "Which are the enriched Reactome pathways in current smokers? and in former smokers?\n",
        "Which are the enriched tissues in current smokers? and informer smokers?"
      ],
      "metadata": {
        "id": "NMM5lgQEVANW"
      }
    },
    {
      "cell_type": "markdown",
      "source": [
        "For current smokers it is the regulation of neuron projection development. For former smokers it is embryonic organ development\n",
        "For current smokers it is Platelet activation, signaling and aggregation. For former smokers it is Neuronal System\n",
        "In current smokers they are blood and muscle. In former smokers they are blood and ESC"
      ],
      "metadata": {
        "id": "XH37UA4RUbYF"
      }
    },
    {
      "cell_type": "markdown",
      "source": [
        "** RECAP **\n",
        "Input: ExpressionSet with matrix of beta values + covariates dataframe (exposure, covariates, cells)\n",
        "Output (for current and former):\n",
        "- results dataframes (not adj, adj, adj and sva)\n",
        "- report (descriptive, QQ plot and lambda, Manhattan plot, Box plots)\n",
        "- Volcano plot and Manhattan plot"
      ],
      "metadata": {
        "id": "jtDlnQbktwqi"
      }
    }
  ]
}