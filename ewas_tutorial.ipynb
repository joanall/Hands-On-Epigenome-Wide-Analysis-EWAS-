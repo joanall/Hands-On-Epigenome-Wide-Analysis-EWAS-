{
  "nbformat": 4,
  "nbformat_minor": 0,
  "metadata": {
    "colab": {
      "provenance": [],
      "toc_visible": true,
      "authorship_tag": "ABX9TyN4xddLXy0Um1c5GlObNFFp",
      "include_colab_link": true
    },
    "kernelspec": {
      "name": "ir",
      "display_name": "R"
    },
    "language_info": {
      "name": "R"
    }
  },
  "cells": [
    {
      "cell_type": "markdown",
      "metadata": {
        "id": "view-in-github",
        "colab_type": "text"
      },
      "source": [
        "<a href=\"https://colab.research.google.com/github/joanall/Hands-On-Epigenome-Wide-Analysis-EWAS-/blob/main/ewas_tutorial.ipynb\" target=\"_parent\"><img src=\"https://colab.research.google.com/assets/colab-badge.svg\" alt=\"Open In Colab\"/></a>"
      ]
    },
    {
      "cell_type": "markdown",
      "source": [
        "# **Hands-on Data EWAS Analysis Tutorial**  \n",
        "\n",
        "Joana Llauradó, Predoctoral Researcher at the Barcelona Institute for Global Health (ISGlobal).\n",
        "\n",
        "Mariona Bustamante, Senior Research Scientist at the Barcelona Institute for Global Health (ISGlobal).\n",
        "\n",
        "\n",
        "**Objective:** his hands-on exercise focuses on the analysis phase of an Epigenome-Wide Association Study (EWAS). Using preprocessed DNA methylation data, participants will learn how to identify associations between an environmental exposure—such as smoking—and methylation levels across the genome.\n",
        "\n",
        "\n",
        "**Description:** During this practical, we will perform EWAS analysis and basic downstream interpretation to gain biological insight from the results. Participants will learn how to run association models, correct for multiple testing, visualize significant findings (e.g., using Manhattan and QQ plots), and interpret the top CpG sites and enriched pathways related to the exposure of interest.\n",
        "\n",
        "**Based on/adapted from** Previous course Summer School in Global Health 2023-EWAS [https://github.com/isglobal-brge/course_methylation?tab=readme-ov-file]\n",
        "\n",
        "**Considerations**\n",
        "* The data quality control (QC) step will not be assessed in this session. However, participants can explore QC independently using the example code provided [here: insert link], which demonstrates h ow to perform standard preprocessing and QC steps.\n",
        "\n",
        "* Public data from [link] It must be noted that this data is public and has been revied/selcetd to be able tor un this nalaysis in a short period of time. Ewas data usually is upt to XXXX GB and a compute with enough memory or clsuter is nneded to run this nalaysis. Also the time needed is higher than the one for this Hands-on."
      ],
      "metadata": {
        "id": "5Bh7E_PxwTUs"
      }
    },
    {
      "cell_type": "markdown",
      "source": [
        "•\n",
        "Recommendations for the design and analysis of epigenome wide association studies\n",
        "https://clinicalepigeneticsjournal.biomedcentral.com/articles/10.1186/s13148 021 01200 8\n",
        "•\n",
        "\n",
        "•\n",
        "Meffil : efficient normalization and analysis of very large DNA methylation datasets (ADDED\n",
        "https://www.ncbi.nlm.nih.gov/pmc/articles/PMC6247925/\n",
        "•\n",
        "Orchestrating high throughput genomic analysis with Bioconductor\n",
        "https://www.nature.com/articles/nmeth.3252"
      ],
      "metadata": {
        "id": "r7y9sOwSJZen"
      }
    },
    {
      "cell_type": "markdown",
      "source": [
        "**Reminder: Introduction to NoteBook**\n",
        "Within this notebook (NoteBook), you will be guided step by step from loading a dataset to performing analysis of its content.\n",
        "\n",
        "The Jupyter (Python) notebook is an approach that combines text blocks (like this one) together with code blocks or cells. The great advantage of this type of cell is its interactivity, as they can be executed to check the results directly within them. Very important: the order of instructions is fundamental, so each cell in this notebook must be executed sequentially. If any are omitted, the program may throw an error, so you should start from the beginning if in doubt.\n",
        "\n",
        "First of all:\n",
        "\n",
        "It is very very important that at the start you select \"Open in draft mode\" (draft mode), at the top left. Otherwise, it will not allow you to execute any code block, for security reasons. When the first of the blocks is executed, the following message will appear: \"Warning: This notebook was not created by Google.\". Do not worry, you should trust the content of the notebook (NoteBook) and click \"Run anyway\".\n",
        "\n",
        "Let’s go!\n",
        "\n",
        "Click the \"play\" button on the left side of each code cell. Lines of code that begin with a hashtag (#) are comments and do not affect the execution of the program.\n",
        "\n",
        "You can also click on each cell and press \"ctrl+enter\" (cmd+enter on Mac).\n",
        "\n",
        "Each time you run a block, you will see the output just below it. The information is usually always related to the last instruction, along with all the print() commands in the code."
      ],
      "metadata": {
        "id": "ntfkhAdXwgN-"
      }
    },
    {
      "cell_type": "markdown",
      "source": [
        "## **INDEX**\n",
        "1. [Installation of the R environment and required libraries for EWAS](#install-libraries)\n",
        "2. [Load data](#load-data)\n",
        "3. [Descriptive analysis](#descriptive)   \n",
        "4. [Epigenome wide association analysis](#association)\n",
        "3. [Other tutorials for previours-further steps](#tutorials)   \n",
        "4. [Acknowledgement](#acknowledgement)   \n"
      ],
      "metadata": {
        "id": "04w9VvjKwllH"
      }
    },
    {
      "cell_type": "markdown",
      "source": [
        "## **1. Installation of the R Environment and Libraries for EWAS Analysis** <a name=\"install-libraries\"></a>\n",
        "\n",
        "Below, we install/load the libraries necessary for this session. In the context of exposome analysis, R libraries offer us a much more convenient way to process, manipulate, and analyze the data. Some of these libraries: `tidyverse`, `name_library`  \n",
        "  \n",
        "The installation of R in our Google Colab environment will be carried out in the following code block. It should be remembered that all library installations we perform in the Google Colab environment will only remain active for a few hours, after which the installed libraries are removed. Therefore, it will be necessary for you to re-run the library installation code in this section whenever you need to run the notebook again after this time.\n",
        "\n",
        "Before starting, make sure the required R packages are available. We recommend installing the libraries **30 minutes** before the start of the session❗❗❗\n",
        "\n",
        "* **On your local machine (RStudio, etc.)**: you usually install once, then just load them in each new R session.\n",
        "\n",
        "* **In Google Colab:** the runtime is temporary, when it resets or disconnects, previously installed packages can disappear. Therefore we need to install each time at the start of every session."
      ],
      "metadata": {
        "id": "2FJKIHVZw-8p"
      }
    },
    {
      "cell_type": "code",
      "source": [
        "# Estimated execution time:45 minutes approx.\n",
        "t0 <- Sys.time()\n",
        "\n",
        "####################################### INSTALLING ####################################################\n",
        "\n",
        "# Make sure Bioc repos are used (so CRAN doesn't override them)\n",
        "if (!requireNamespace(\"BiocManager\", quietly = TRUE)) {\n",
        "  install.packages(\"BiocManager\")\n",
        "}\n",
        "options(repos = BiocManager::repositories())\n",
        "\n",
        "bioc_pkgs <- c(\"GenomicRanges\", \"GEOquery\",\"Biobase\",\"karyoploteR\")\n",
        "\n",
        "cran_pkgs <- c(\"qqman\", \"ggplot2\", \"ggrepel\", \"tableone\")\n",
        "\n",
        "# other we may need: \"IlluminaHumanMethylation450kanno.ilmn12.hg19\", \"clusterProfiler\",\n",
        "#                       \"org.Hs.eg.db\", \"ReactomePA\", \"enrichplot\", metafor, reshape plyr\n",
        "\n",
        "BiocManager::install(bioc_pkgs, ask = FALSE, update = FALSE)\n",
        "\n",
        "to_install_cran <- setdiff(cran_pkgs, rownames(installed.packages()))\n",
        "if (length(to_install_cran)) {\n",
        "  install.packages(to_install_cran)\n",
        "}\n",
        "\n",
        "\n",
        "\n",
        "# meffil from GitHub (lighter than devtools)\n",
        "if (!requireNamespace(\"remotes\", quietly = TRUE)) install.packages(\"remotes\")\n",
        "remotes::install_github(\"perishky/meffil\", upgrade = \"never\")  # use force = TRUE to reinstall\n",
        "\n",
        "\n",
        "\n",
        "####################################### LOADING ####################################################\n",
        "# Load Biococneductor libraries\n",
        "library(BiocManager)\n",
        "library(GenomicRanges) # prepare db for Manhattan plot\n",
        "library(GEOquery)\n",
        "library(Biobase)# to be able to access and modify data in the ExpressionSet\n",
        "library(karyoploteR) #  Manhattan plot\n",
        "\n",
        "# Load CRAN libraries\n",
        "library(qqman)\n",
        "library(ggplot2)# plots\n",
        "library(ggrepel)\n",
        "library(tableone)\n",
        "\n",
        "# Alternative: invisible(lapply(c(bioc_pkgs, cran_pkgs), require, character.only = TRUE))\n",
        "\n",
        "library(meffil) # to run the EWAS\n",
        "\n",
        "cat(sprintf(\"Execution time: %.1f minutes\\n\", as.numeric(difftime(Sys.time(), t0, units = \"mins\"))))\n"
      ],
      "metadata": {
        "colab": {
          "base_uri": "https://localhost:8080/"
        },
        "collapsed": true,
        "id": "PUcL7UVkTzGK",
        "outputId": "2cfc439d-3d7c-4192-921d-df94f98261aa"
      },
      "execution_count": 1,
      "outputs": [
        {
          "output_type": "stream",
          "name": "stderr",
          "text": [
            "Installing package into ‘/usr/local/lib/R/site-library’\n",
            "(as ‘lib’ is unspecified)\n",
            "\n",
            "'getOption(\"repos\")' replaces Bioconductor standard repositories, see\n",
            "'help(\"repositories\", package = \"BiocManager\")' for details.\n",
            "Replacement repositories:\n",
            "    CRAN: https://cran.rstudio.com\n",
            "\n",
            "'getOption(\"repos\")' replaces Bioconductor standard repositories, see\n",
            "'help(\"repositories\", package = \"BiocManager\")' for details.\n",
            "Replacement repositories:\n",
            "    BioCsoft: https://bioconductor.org/packages/3.21/bioc\n",
            "    BioCann: https://bioconductor.org/packages/3.21/data/annotation\n",
            "    BioCexp: https://bioconductor.org/packages/3.21/data/experiment\n",
            "    BioCworkflows: https://bioconductor.org/packages/3.21/workflows\n",
            "    BioCbooks: https://bioconductor.org/packages/3.21/books\n",
            "    CRAN: https://cran.rstudio.com\n",
            "\n",
            "Bioconductor version 3.21 (BiocManager 1.30.26), R 4.5.1 (2025-06-13)\n",
            "\n",
            "Installing package(s) 'BiocVersion', 'GenomicRanges', 'GEOquery', 'Biobase',\n",
            "  'karyoploteR'\n",
            "\n",
            "also installing the dependencies ‘formatR’, ‘lambda.r’, ‘futile.options’, ‘checkmate’, ‘matrixStats’, ‘abind’, ‘SparseArray’, ‘futile.logger’, ‘snow’, ‘BH’, ‘RCurl’, ‘rjson’, ‘gridExtra’, ‘htmlTable’, ‘colorspace’, ‘Formula’, ‘ProtGenerics’, ‘lazyeval’, ‘plogr’, ‘png’, ‘UCSC.utils’, ‘GenomeInfoDbData’, ‘statmod’, ‘XML’, ‘R.oo’, ‘R.methodsS3’, ‘MatrixGenerics’, ‘S4Arrays’, ‘DelayedArray’, ‘BSgenome’, ‘Biostrings’, ‘bitops’, ‘BiocParallel’, ‘Rhtslib’, ‘GenomicAlignments’, ‘BiocIO’, ‘restfulr’, ‘Hmisc’, ‘dichromat’, ‘ensembldb’, ‘AnnotationFilter’, ‘zlibbioc’, ‘RSQLite’, ‘KEGGREST’, ‘BiocGenerics’, ‘S4Vectors’, ‘IRanges’, ‘GenomeInfoDb’, ‘XVector’, ‘limma’, ‘rentrez’, ‘R.utils’, ‘SummarizedExperiment’, ‘regioneR’, ‘Rsamtools’, ‘rtracklayer’, ‘biovizBase’, ‘bezier’, ‘GenomicFeatures’, ‘bamsignals’, ‘AnnotationDbi’, ‘VariantAnnotation’\n",
            "\n",
            "\n",
            "Installing packages into ‘/usr/local/lib/R/site-library’\n",
            "(as ‘lib’ is unspecified)\n",
            "\n",
            "also installing the dependencies ‘gtools’, ‘minqa’, ‘numDeriv’, ‘mitools’, ‘RcppArmadillo’, ‘proxy’, ‘gdata’, ‘calibrate’, ‘survey’, ‘e1071’, ‘zoo’, ‘gmodels’, ‘labelled’\n",
            "\n",
            "\n",
            "Downloading GitHub repo perishky/meffil@HEAD\n",
            "\n",
            "Installing 34 packages: RcppEigen, plyr, reshape2, clue, JADE, fastICA, qvalue, annotate, locfit, edgeR, genefilter, rbibutils, Rdpack, RSpectra, isva, sva, reformulas, nloptr, sandwich, TH.data, mvtnorm, litedown, base64, preprocessCore, SmartSVA, gdsfmt, quadprog, DNAcopy, lme4, multcomp, markdown, Cairo, lmtest, illuminaio\n",
            "\n",
            "Installing packages into ‘/usr/local/lib/R/site-library’\n",
            "(as ‘lib’ is unspecified)\n",
            "\n"
          ]
        },
        {
          "output_type": "stream",
          "name": "stdout",
          "text": [
            "\u001b[36m──\u001b[39m \u001b[36mR CMD build\u001b[39m \u001b[36m─────────────────────────────────────────────────────────────────\u001b[39m\n",
            "* checking for file ‘/tmp/Rtmp3XYh36/remotes5891211776e/perishky-meffil-af6732b/DESCRIPTION’ ... OK\n",
            "* preparing ‘meffil’:\n",
            "* checking DESCRIPTION meta-information ... OK\n",
            "* checking for LF line-endings in source and make files and shell scripts\n",
            "* checking for empty or unneeded directories\n",
            "Omitted ‘LazyData’ from DESCRIPTION\n",
            "  NB: this package now depends on R (>= 3.5.0)\n",
            "  WARNING: Added dependency on R >= 3.5.0 because serialized objects in\n",
            "  serialize/load version 3 cannot be read in older versions of R.\n",
            "  File(s) containing such objects:\n",
            "    ‘meffil/inst/cnv.rda’ ‘meffil/inst/featuresets.rda’\n",
            "    ‘meffil/inst/probes.rda’ ‘meffil/inst/references.rda’\n",
            "* building ‘meffil_1.5.1.tar.gz’\n",
            "\n"
          ]
        },
        {
          "output_type": "stream",
          "name": "stderr",
          "text": [
            "Installing package into ‘/usr/local/lib/R/site-library’\n",
            "(as ‘lib’ is unspecified)\n",
            "\n",
            "Loading required package: stats4\n",
            "\n",
            "Loading required package: BiocGenerics\n",
            "\n",
            "Loading required package: generics\n",
            "\n",
            "\n",
            "Attaching package: ‘generics’\n",
            "\n",
            "\n",
            "The following objects are masked from ‘package:base’:\n",
            "\n",
            "    as.difftime, as.factor, as.ordered, intersect, is.element, setdiff,\n",
            "    setequal, union\n",
            "\n",
            "\n",
            "\n",
            "Attaching package: ‘BiocGenerics’\n",
            "\n",
            "\n",
            "The following objects are masked from ‘package:stats’:\n",
            "\n",
            "    IQR, mad, sd, var, xtabs\n",
            "\n",
            "\n",
            "The following objects are masked from ‘package:base’:\n",
            "\n",
            "    anyDuplicated, aperm, append, as.data.frame, basename, cbind,\n",
            "    colnames, dirname, do.call, duplicated, eval, evalq, Filter, Find,\n",
            "    get, grep, grepl, is.unsorted, lapply, Map, mapply, match, mget,\n",
            "    order, paste, pmax, pmax.int, pmin, pmin.int, Position, rank,\n",
            "    rbind, Reduce, rownames, sapply, saveRDS, table, tapply, unique,\n",
            "    unsplit, which.max, which.min\n",
            "\n",
            "\n",
            "Loading required package: S4Vectors\n",
            "\n",
            "\n",
            "Attaching package: ‘S4Vectors’\n",
            "\n",
            "\n",
            "The following object is masked from ‘package:utils’:\n",
            "\n",
            "    findMatches\n",
            "\n",
            "\n",
            "The following objects are masked from ‘package:base’:\n",
            "\n",
            "    expand.grid, I, unname\n",
            "\n",
            "\n",
            "Loading required package: IRanges\n",
            "\n",
            "Loading required package: GenomeInfoDb\n",
            "\n",
            "Loading required package: Biobase\n",
            "\n",
            "Welcome to Bioconductor\n",
            "\n",
            "    Vignettes contain introductory material; view with\n",
            "    'browseVignettes()'. To cite Bioconductor, see\n",
            "    'citation(\"Biobase\")', and for packages 'citation(\"pkgname\")'.\n",
            "\n",
            "\n",
            "Setting options('download.file.method.GEOquery'='auto')\n",
            "\n",
            "Setting options('GEOquery.inmemory.gpl'=FALSE)\n",
            "\n",
            "Loading required package: regioneR\n",
            "\n",
            "\n",
            "\n",
            "For example usage please run: vignette('qqman')\n",
            "\n",
            "\n",
            "\n",
            "Citation appreciated but not required:\n",
            "\n",
            "Turner, (2018). qqman: an R package for visualizing GWAS results using Q-Q and manhattan plots. Journal of Open Source Software, 3(25), 731, https://doi.org/10.21105/joss.00731.\n",
            "\n",
            "\n",
            "\n",
            "Loading required package: illuminaio\n",
            "\n",
            "Loading required package: MASS\n",
            "\n",
            "Loading required package: lmtest\n",
            "\n",
            "Loading required package: zoo\n",
            "\n",
            "\n",
            "Attaching package: 'zoo'\n",
            "\n",
            "\n",
            "The following objects are masked from 'package:base':\n",
            "\n",
            "    as.Date, as.Date.numeric\n",
            "\n",
            "\n",
            "Loading required package: sandwich\n",
            "\n",
            "\n",
            "Attaching package: 'sandwich'\n",
            "\n",
            "\n",
            "The following object is masked from 'package:generics':\n",
            "\n",
            "    estfun\n",
            "\n",
            "\n",
            "Loading required package: limma\n",
            "\n",
            "\n",
            "Attaching package: 'limma'\n",
            "\n",
            "\n",
            "The following object is masked from 'package:BiocGenerics':\n",
            "\n",
            "    plotMA\n",
            "\n",
            "\n",
            "Loading required package: sva\n",
            "\n",
            "Loading required package: mgcv\n",
            "\n",
            "Loading required package: nlme\n",
            "\n",
            "\n",
            "Attaching package: 'nlme'\n",
            "\n",
            "\n",
            "The following object is masked from 'package:IRanges':\n",
            "\n",
            "    collapse\n",
            "\n",
            "\n",
            "This is mgcv 1.9-3. For overview type 'help(\"mgcv-package\")'.\n",
            "\n",
            "Loading required package: genefilter\n",
            "\n",
            "\n",
            "Attaching package: 'genefilter'\n",
            "\n",
            "\n",
            "The following object is masked from 'package:MASS':\n",
            "\n",
            "    area\n",
            "\n",
            "\n",
            "Loading required package: BiocParallel\n",
            "\n",
            "Loading required package: plyr\n",
            "\n",
            "\n",
            "Attaching package: 'plyr'\n",
            "\n",
            "\n",
            "The following object is masked from 'package:IRanges':\n",
            "\n",
            "    desc\n",
            "\n",
            "\n",
            "The following object is masked from 'package:S4Vectors':\n",
            "\n",
            "    rename\n",
            "\n",
            "\n",
            "Loading required package: reshape2\n",
            "\n",
            "Loading required package: knitr\n",
            "\n",
            "Loading required package: Cairo\n",
            "\n",
            "Loading required package: gridExtra\n",
            "\n",
            "\n",
            "Attaching package: 'gridExtra'\n",
            "\n",
            "\n",
            "The following object is masked from 'package:Biobase':\n",
            "\n",
            "    combine\n",
            "\n",
            "\n",
            "The following object is masked from 'package:BiocGenerics':\n",
            "\n",
            "    combine\n",
            "\n",
            "\n",
            "Loading required package: markdown\n",
            "\n",
            "Loading required package: matrixStats\n",
            "\n",
            "\n",
            "Attaching package: 'matrixStats'\n",
            "\n",
            "\n",
            "The following object is masked from 'package:plyr':\n",
            "\n",
            "    count\n",
            "\n",
            "\n",
            "The following objects are masked from 'package:genefilter':\n",
            "\n",
            "    rowSds, rowVars\n",
            "\n",
            "\n",
            "The following objects are masked from 'package:Biobase':\n",
            "\n",
            "    anyMissing, rowMedians\n",
            "\n",
            "\n",
            "Loading required package: multcomp\n",
            "\n",
            "Loading required package: mvtnorm\n",
            "\n",
            "Loading required package: survival\n",
            "\n",
            "Loading required package: TH.data\n",
            "\n",
            "\n",
            "Attaching package: 'TH.data'\n",
            "\n",
            "\n",
            "The following object is masked from 'package:MASS':\n",
            "\n",
            "    geyser\n",
            "\n",
            "\n",
            "Loading required package: lme4\n",
            "\n",
            "Loading required package: Matrix\n",
            "\n",
            "\n",
            "Attaching package: 'Matrix'\n",
            "\n",
            "\n",
            "The following object is masked from 'package:S4Vectors':\n",
            "\n",
            "    expand\n",
            "\n",
            "\n",
            "\n",
            "Attaching package: 'lme4'\n",
            "\n",
            "\n",
            "The following object is masked from 'package:nlme':\n",
            "\n",
            "    lmList\n",
            "\n",
            "\n",
            "The following object is masked from 'package:generics':\n",
            "\n",
            "    refit\n",
            "\n",
            "\n",
            "Loading required package: parallel\n",
            "\n",
            "Loading required package: fastICA\n",
            "\n",
            "Loading required package: DNAcopy\n",
            "\n",
            "Loading required package: quadprog\n",
            "\n",
            "Loading required package: statmod\n",
            "\n",
            "Loading required package: gdsfmt\n",
            "\n",
            "Loading required package: SmartSVA\n",
            "\n",
            "Loading required package: isva\n",
            "\n",
            "Loading required package: qvalue\n",
            "\n",
            "Loading required package: JADE\n",
            "\n",
            "Loading required package: RSpectra\n",
            "\n",
            "Loading required package: preprocessCore\n",
            "\n"
          ]
        },
        {
          "output_type": "stream",
          "name": "stdout",
          "text": [
            "Execution time: 45.3 minutes\n"
          ]
        }
      ]
    },
    {
      "cell_type": "markdown",
      "source": [
        "**Tip:** if you want to learn more about any package or function, check the built-in docs. Use `help()` for functions/topics, and `vignette()` for longer, tutorial-style guides."
      ],
      "metadata": {
        "id": "2iR76EL_LS0H"
      }
    },
    {
      "cell_type": "code",
      "source": [
        "help(package=\"GenomicRanges\")"
      ],
      "metadata": {
        "id": "97Mo-01cLSq_"
      },
      "execution_count": 2,
      "outputs": []
    },
    {
      "cell_type": "code",
      "source": [
        "vignette(package=\"GenomicRanges\")"
      ],
      "metadata": {
        "id": "ztwkr1oAgYJ9"
      },
      "execution_count": 3,
      "outputs": []
    },
    {
      "cell_type": "code",
      "source": [
        "?GenomicRanges"
      ],
      "metadata": {
        "id": "-88wDRzIgabE"
      },
      "execution_count": 4,
      "outputs": []
    },
    {
      "cell_type": "markdown",
      "source": [
        "## **2. Load the Data** <a name=\"load-data\"></a>\n",
        "\n",
        "For this practical we’ll use public methylation data derived from the GEO study GSE42861 (Epigenome-wide DNA methylation in blood). To make the tutorial fast and Colab/GitHub-friendly, we’ve prepared a lightweight subset where we keep a subset of CpGs and round beta values to 3 decimals. This keeps the file small enough for GitHub and runs quickly in Colab, while preserving the look and feel of real EWAS data.\n",
        "\n",
        "Original public dataset (reference): GSE42861 on GEO.\n",
        "\n",
        "Workshop dataset (ready-to-use): a preprocessed ExpressionSet hosted in this repo.\n",
        "\n",
        "How to use it\n",
        "\n",
        "* Option 1 (this tutorial): load the data (from GitHub).\n",
        "\n",
        "* Option 2 (not in this practice): uncomment the GEO download code to fetch the original public data and work end-to-end. Note that full methylation data are large and may take longer to download/process."
      ],
      "metadata": {
        "id": "HgQ374jkw_E6"
      }
    },
    {
      "cell_type": "code",
      "execution_count": 5,
      "metadata": {
        "id": "5krvz-V-TNO6"
      },
      "outputs": [],
      "source": [
        "input_data_url <- \"https://raw.githubusercontent.com/joanall/Hands-On-Epigenome-Wide-Analysis-EWAS-/main/data/GSE42861_norm_cohort1_round3.xz.rds\"\n",
        "\n",
        "tmp <- tempfile(fileext = \".rds\")\n",
        "download.file(input_data_url, destfile = tmp, mode = \"wb\")  # binary mode\n",
        "input_data <- readRDS(tmp)"
      ]
    },
    {
      "cell_type": "markdown",
      "source": [
        "### 2.1 Type of InputData: ExpressionSet\n",
        "\n",
        "Using `str()` we can get a quick description of what’s inside our data object.\n",
        "We’re working with an **ExpressionSet** object (from Biobase), which is  derived after preprocessing with the meffil package.\n",
        "\n",
        "An `ExpressionSet` stores several coordinated tables (slots):\n",
        "\n",
        "* **Expression data:** probe-by-sample matrix of methylation values (betas) — stored in `assayData` and accessed with `exprs()`.\n",
        "\n",
        "* **Phenotype data:** sample-level traits/covariates (age, sex, smoking, cell counts) — stored in `phenoData` and accessed with `pData()` or `phenoData()`.\n",
        "\n",
        "* **Feature (probe) data:** probe-level information/annotation — stored in `featureData` and accessed with `fData()`.\n",
        "* **Metadata:** `experimentData`, `protocolData`, and an `annotation`."
      ],
      "metadata": {
        "id": "00hRErdUOAaI"
      }
    },
    {
      "cell_type": "code",
      "source": [
        "str(input_data)"
      ],
      "metadata": {
        "colab": {
          "base_uri": "https://localhost:8080/"
        },
        "id": "otnf26rnonNA",
        "outputId": "0ad02c69-87d2-4cce-c074-a0ed03f13128",
        "collapsed": true
      },
      "execution_count": 6,
      "outputs": [
        {
          "output_type": "stream",
          "name": "stdout",
          "text": [
            "Formal class 'ExpressionSet' [package \"Biobase\"] with 7 slots\n",
            "  ..@ experimentData   :Formal class 'MIAME' [package \"Biobase\"] with 13 slots\n",
            "  .. .. ..@ name             : chr \"\"\n",
            "  .. .. ..@ lab              : chr \"\"\n",
            "  .. .. ..@ contact          : chr \"\"\n",
            "  .. .. ..@ title            : chr \"\"\n",
            "  .. .. ..@ abstract         : chr \"\"\n",
            "  .. .. ..@ url              : chr \"\"\n",
            "  .. .. ..@ pubMedIds        : chr \"\"\n",
            "  .. .. ..@ samples          : list()\n",
            "  .. .. ..@ hybridizations   : list()\n",
            "  .. .. ..@ normControls     : list()\n",
            "  .. .. ..@ preprocessing    : list()\n",
            "  .. .. ..@ other            : list()\n",
            "  .. .. ..@ .__classVersion__:Formal class 'Versions' [package \"Biobase\"] with 1 slot\n",
            "  .. .. .. .. ..@ .Data:List of 2\n",
            "  .. .. .. .. .. ..$ : int [1:3] 1 0 0\n",
            "  .. .. .. .. .. ..$ : int [1:3] 1 1 0\n",
            "  .. .. .. .. ..$ names: chr [1:2] \"MIAxE\" \"MIAME\"\n",
            "  ..@ assayData        :<environment: 0x5855a0906b38> \n",
            "  ..@ phenoData        :Formal class 'AnnotatedDataFrame' [package \"Biobase\"] with 4 slots\n",
            "  .. .. ..@ varMetadata      :'data.frame':\t10 obs. of  1 variable:\n",
            "  .. .. .. ..$ labelDescription: chr [1:10] \"Sample cell type\" \"Patient Age\" \"Patient Sex\" \"Smoking Status (never/current/former)\" ...\n",
            "  .. .. ..@ data             :'data.frame':\t294 obs. of  10 variables:\n",
            "  .. .. .. ..$ Celltype: chr [1:294] \"PBL\" \"PBL\" \"PBL\" \"PBL\" ...\n",
            "  .. .. .. ..$ Age     : int [1:294] 55 37 59 49 47 69 69 66 58 62 ...\n",
            "  .. .. .. ..$ Sex     : chr [1:294] \"M\" \"M\" \"M\" \"M\" ...\n",
            "  .. .. .. ..$ Smoking : chr [1:294] \"current\" \"never\" \"former\" \"former\" ...\n",
            "  .. .. .. ..$ Bcell   : num [1:294] 0.0578 0.0436 0.0865 0.0572 0.0332 ...\n",
            "  .. .. .. ..$ CD4T    : num [1:294] 0.125 0.175 0.257 0.157 0.207 ...\n",
            "  .. .. .. ..$ CD8T    : num [1:294] 0.1505 0.1103 0.1128 0.1046 0.0545 ...\n",
            "  .. .. .. ..$ Mono    : num [1:294] 0.0649 0.0877 0.1078 0.0477 0.0813 ...\n",
            "  .. .. .. ..$ Neu     : num [1:294] 0.536 0.591 0.383 0.638 0.583 ...\n",
            "  .. .. .. ..$ NK      : num [1:294] 0.1227 0.0342 0.1158 0.0455 0.0839 ...\n",
            "  .. .. ..@ dimLabels        : chr [1:2] \"sampleNames\" \"sampleColumns\"\n",
            "  .. .. ..@ .__classVersion__:Formal class 'Versions' [package \"Biobase\"] with 1 slot\n",
            "  .. .. .. .. ..@ .Data:List of 1\n",
            "  .. .. .. .. .. ..$ : int [1:3] 1 1 0\n",
            "  .. .. .. .. ..$ names: chr \"AnnotatedDataFrame\"\n",
            "  ..@ featureData      :Formal class 'AnnotatedDataFrame' [package \"Biobase\"] with 4 slots\n",
            "  .. .. ..@ varMetadata      :'data.frame':\t0 obs. of  1 variable:\n",
            "  .. .. .. ..$ labelDescription: chr(0) \n",
            "  .. .. ..@ data             :'data.frame':\t37842 obs. of  0 variables\n",
            "  .. .. ..@ dimLabels        : chr [1:2] \"featureNames\" \"featureColumns\"\n",
            "  .. .. ..@ .__classVersion__:Formal class 'Versions' [package \"Biobase\"] with 1 slot\n",
            "  .. .. .. .. ..@ .Data:List of 1\n",
            "  .. .. .. .. .. ..$ : int [1:3] 1 1 0\n",
            "  .. .. .. .. ..$ names: chr \"AnnotatedDataFrame\"\n",
            "  ..@ annotation       : chr(0) \n",
            "  ..@ protocolData     :Formal class 'AnnotatedDataFrame' [package \"Biobase\"] with 4 slots\n",
            "  .. .. ..@ varMetadata      :'data.frame':\t0 obs. of  1 variable:\n",
            "  .. .. .. ..$ labelDescription: chr(0) \n",
            "  .. .. ..@ data             :'data.frame':\t294 obs. of  0 variables\n",
            "  .. .. ..@ dimLabels        : chr [1:2] \"sampleNames\" \"sampleColumns\"\n",
            "  .. .. ..@ .__classVersion__:Formal class 'Versions' [package \"Biobase\"] with 1 slot\n",
            "  .. .. .. .. ..@ .Data:List of 1\n",
            "  .. .. .. .. .. ..$ : int [1:3] 1 1 0\n",
            "  .. .. .. .. ..$ names: chr \"AnnotatedDataFrame\"\n",
            "  ..@ .__classVersion__:Formal class 'Versions' [package \"Biobase\"] with 1 slot\n",
            "  .. .. ..@ .Data:List of 4\n",
            "  .. .. .. ..$ : int [1:3] 4 2 0\n",
            "  .. .. .. ..$ : int [1:3] 2 56 0\n",
            "  .. .. .. ..$ : int [1:3] 1 3 0\n",
            "  .. .. .. ..$ : int [1:3] 1 0 0\n",
            "  .. .. ..$ names: chr [1:4] \"R\" \"Biobase\" \"eSet\" \"ExpressionSet\"\n"
          ]
        }
      ]
    },
    {
      "cell_type": "markdown",
      "source": [
        "# 2.2 General Descriptives\n",
        "\n",
        "Using this common accesor we can quickly inspect the dataset: size, key phenotypes, and basic distributions.\n"
      ],
      "metadata": {
        "id": "nyqH0jWuhJZ-"
      }
    },
    {
      "cell_type": "code",
      "source": [
        "# Get mehtyl and pheno data\n",
        "methyl <- Biobase::exprs(input_data)   # CpGs x samples\n",
        "pheno  <- Biobase::pData(input_data)   # samples x covariates\n",
        "\n",
        "# Dimensions\n",
        "cat(\"CpGs:\", nrow(methyl), \" | Samples:\", ncol(methyl), \"\\n\")"
      ],
      "metadata": {
        "id": "pUxvt_ZBNHl3",
        "colab": {
          "base_uri": "https://localhost:8080/"
        },
        "outputId": "cffd8f89-e736-493a-a89d-42112083b48c"
      },
      "execution_count": 7,
      "outputs": [
        {
          "output_type": "stream",
          "name": "stdout",
          "text": [
            "CpGs: 37842  | Samples: 294 \n"
          ]
        }
      ]
    },
    {
      "cell_type": "code",
      "source": [
        "head(pheno)"
      ],
      "metadata": {
        "id": "jTHaHn2DNJGl",
        "colab": {
          "base_uri": "https://localhost:8080/",
          "height": 286
        },
        "outputId": "6954442d-ecae-449d-9221-4c2099ca72fd"
      },
      "execution_count": 8,
      "outputs": [
        {
          "output_type": "display_data",
          "data": {
            "text/html": [
              "<table class=\"dataframe\">\n",
              "<caption>A data.frame: 6 × 10</caption>\n",
              "<thead>\n",
              "\t<tr><th></th><th scope=col>Celltype</th><th scope=col>Age</th><th scope=col>Sex</th><th scope=col>Smoking</th><th scope=col>Bcell</th><th scope=col>CD4T</th><th scope=col>CD8T</th><th scope=col>Mono</th><th scope=col>Neu</th><th scope=col>NK</th></tr>\n",
              "\t<tr><th></th><th scope=col>&lt;chr&gt;</th><th scope=col>&lt;int&gt;</th><th scope=col>&lt;chr&gt;</th><th scope=col>&lt;chr&gt;</th><th scope=col>&lt;dbl&gt;</th><th scope=col>&lt;dbl&gt;</th><th scope=col>&lt;dbl&gt;</th><th scope=col>&lt;dbl&gt;</th><th scope=col>&lt;dbl&gt;</th><th scope=col>&lt;dbl&gt;</th></tr>\n",
              "</thead>\n",
              "<tbody>\n",
              "\t<tr><th scope=row>GSM1051533</th><td>PBL</td><td>55</td><td>M</td><td>current</td><td>0.05776289</td><td>0.1247670</td><td>0.1504868</td><td>0.06491293</td><td>0.5358684</td><td>0.12265971</td></tr>\n",
              "\t<tr><th scope=row>GSM1051534</th><td>PBL</td><td>37</td><td>M</td><td>never  </td><td>0.04361658</td><td>0.1745954</td><td>0.1103084</td><td>0.08771190</td><td>0.5912413</td><td>0.03415583</td></tr>\n",
              "\t<tr><th scope=row>GSM1051536</th><td>PBL</td><td>59</td><td>M</td><td>former </td><td>0.08652383</td><td>0.2567549</td><td>0.1127774</td><td>0.10776822</td><td>0.3831736</td><td>0.11577982</td></tr>\n",
              "\t<tr><th scope=row>GSM1051537</th><td>PBL</td><td>49</td><td>M</td><td>former </td><td>0.05720053</td><td>0.1568934</td><td>0.1046096</td><td>0.04774298</td><td>0.6380837</td><td>0.04546749</td></tr>\n",
              "\t<tr><th scope=row>GSM1051538</th><td>PBL</td><td>47</td><td>M</td><td>former </td><td>0.03323647</td><td>0.2066790</td><td>0.0545260</td><td>0.08125238</td><td>0.5832287</td><td>0.08392876</td></tr>\n",
              "\t<tr><th scope=row>GSM1051539</th><td>PBL</td><td>69</td><td>M</td><td>never  </td><td>0.03967494</td><td>0.1508131</td><td>0.1469707</td><td>0.09975280</td><td>0.5362770</td><td>0.07770261</td></tr>\n",
              "</tbody>\n",
              "</table>\n"
            ],
            "text/markdown": "\nA data.frame: 6 × 10\n\n| <!--/--> | Celltype &lt;chr&gt; | Age &lt;int&gt; | Sex &lt;chr&gt; | Smoking &lt;chr&gt; | Bcell &lt;dbl&gt; | CD4T &lt;dbl&gt; | CD8T &lt;dbl&gt; | Mono &lt;dbl&gt; | Neu &lt;dbl&gt; | NK &lt;dbl&gt; |\n|---|---|---|---|---|---|---|---|---|---|---|\n| GSM1051533 | PBL | 55 | M | current | 0.05776289 | 0.1247670 | 0.1504868 | 0.06491293 | 0.5358684 | 0.12265971 |\n| GSM1051534 | PBL | 37 | M | never   | 0.04361658 | 0.1745954 | 0.1103084 | 0.08771190 | 0.5912413 | 0.03415583 |\n| GSM1051536 | PBL | 59 | M | former  | 0.08652383 | 0.2567549 | 0.1127774 | 0.10776822 | 0.3831736 | 0.11577982 |\n| GSM1051537 | PBL | 49 | M | former  | 0.05720053 | 0.1568934 | 0.1046096 | 0.04774298 | 0.6380837 | 0.04546749 |\n| GSM1051538 | PBL | 47 | M | former  | 0.03323647 | 0.2066790 | 0.0545260 | 0.08125238 | 0.5832287 | 0.08392876 |\n| GSM1051539 | PBL | 69 | M | never   | 0.03967494 | 0.1508131 | 0.1469707 | 0.09975280 | 0.5362770 | 0.07770261 |\n\n",
            "text/latex": "A data.frame: 6 × 10\n\\begin{tabular}{r|llllllllll}\n  & Celltype & Age & Sex & Smoking & Bcell & CD4T & CD8T & Mono & Neu & NK\\\\\n  & <chr> & <int> & <chr> & <chr> & <dbl> & <dbl> & <dbl> & <dbl> & <dbl> & <dbl>\\\\\n\\hline\n\tGSM1051533 & PBL & 55 & M & current & 0.05776289 & 0.1247670 & 0.1504868 & 0.06491293 & 0.5358684 & 0.12265971\\\\\n\tGSM1051534 & PBL & 37 & M & never   & 0.04361658 & 0.1745954 & 0.1103084 & 0.08771190 & 0.5912413 & 0.03415583\\\\\n\tGSM1051536 & PBL & 59 & M & former  & 0.08652383 & 0.2567549 & 0.1127774 & 0.10776822 & 0.3831736 & 0.11577982\\\\\n\tGSM1051537 & PBL & 49 & M & former  & 0.05720053 & 0.1568934 & 0.1046096 & 0.04774298 & 0.6380837 & 0.04546749\\\\\n\tGSM1051538 & PBL & 47 & M & former  & 0.03323647 & 0.2066790 & 0.0545260 & 0.08125238 & 0.5832287 & 0.08392876\\\\\n\tGSM1051539 & PBL & 69 & M & never   & 0.03967494 & 0.1508131 & 0.1469707 & 0.09975280 & 0.5362770 & 0.07770261\\\\\n\\end{tabular}\n",
            "text/plain": [
              "           Celltype Age Sex Smoking Bcell      CD4T      CD8T      Mono      \n",
              "GSM1051533 PBL      55  M   current 0.05776289 0.1247670 0.1504868 0.06491293\n",
              "GSM1051534 PBL      37  M   never   0.04361658 0.1745954 0.1103084 0.08771190\n",
              "GSM1051536 PBL      59  M   former  0.08652383 0.2567549 0.1127774 0.10776822\n",
              "GSM1051537 PBL      49  M   former  0.05720053 0.1568934 0.1046096 0.04774298\n",
              "GSM1051538 PBL      47  M   former  0.03323647 0.2066790 0.0545260 0.08125238\n",
              "GSM1051539 PBL      69  M   never   0.03967494 0.1508131 0.1469707 0.09975280\n",
              "           Neu       NK        \n",
              "GSM1051533 0.5358684 0.12265971\n",
              "GSM1051534 0.5912413 0.03415583\n",
              "GSM1051536 0.3831736 0.11577982\n",
              "GSM1051537 0.6380837 0.04546749\n",
              "GSM1051538 0.5832287 0.08392876\n",
              "GSM1051539 0.5362770 0.07770261"
            ]
          },
          "metadata": {}
        }
      ]
    },
    {
      "cell_type": "markdown",
      "source": [
        "We can make quick descriptives"
      ],
      "metadata": {
        "id": "Xnr_m4JN0wkh"
      }
    },
    {
      "cell_type": "code",
      "source": [
        "# See available phenotype columns\n",
        "print(colnames(pheno))"
      ],
      "metadata": {
        "colab": {
          "base_uri": "https://localhost:8080/"
        },
        "id": "aewYhnCn01In",
        "outputId": "42697589-4760-46a0-974b-c3747338a18c"
      },
      "execution_count": 9,
      "outputs": [
        {
          "output_type": "stream",
          "name": "stdout",
          "text": [
            " [1] \"Celltype\" \"Age\"      \"Sex\"      \"Smoking\"  \"Bcell\"    \"CD4T\"    \n",
            " [7] \"CD8T\"     \"Mono\"     \"Neu\"      \"NK\"      \n"
          ]
        }
      ]
    },
    {
      "cell_type": "markdown",
      "source": [
        "Some text"
      ],
      "metadata": {
        "id": "ysybXixwG89J"
      }
    },
    {
      "cell_type": "code",
      "source": [
        "# Choose variables to include in the descriptives\n",
        "cont_vars <- intersect(c(\"Age\"), names(pheno))\n",
        "cat_vars  <- intersect(c(\"Sex\",\"Smoking\",\"Batch\",\"Array\",\"Slide\",\"Plate\"), names(pheno))\n",
        "vars <- c(cont_vars, cat_vars)\n",
        "\n",
        "# Build Table 1\n",
        "tab1 <- CreateTableOne(vars = vars,\n",
        "                       data = pheno,\n",
        "                       factorVars = cat_vars)\n",
        "print(tab1, showAllLevels = TRUE, quote = FALSE, noSpaces = TRUE)"
      ],
      "metadata": {
        "colab": {
          "base_uri": "https://localhost:8080/"
        },
        "id": "FpUxXmax0yoQ",
        "outputId": "a6137626-2490-487e-8c58-e3d7e1a59a91"
      },
      "execution_count": 10,
      "outputs": [
        {
          "output_type": "stream",
          "name": "stdout",
          "text": [
            "                 \n",
            "                  level   Overall      \n",
            "  n                       294          \n",
            "  Age (mean (SD))         53.57 (11.04)\n",
            "  Sex (%)         F       210 (71.4)   \n",
            "                  M       84 (28.6)    \n",
            "  Smoking (%)     current 89 (30.3)    \n",
            "                  former  106 (36.1)   \n",
            "                  never   99 (33.7)    \n"
          ]
        }
      ]
    },
    {
      "cell_type": "code",
      "source": [
        "tab1_df <- as.data.frame(\n",
        "  print(tab1, showAllLevels = TRUE, quote = FALSE,\n",
        "  noSpaces = TRUE, printToggle = FALSE)\n",
        ")\n",
        "# Save table\n",
        "print(getwd())\n",
        "save_to <- file.path(getwd(),\"Table1_overall.csv\")\n",
        "write.csv(tab1_df, save_to, row.names = TRUE)\n"
      ],
      "metadata": {
        "id": "uEHyK82f2pH6",
        "colab": {
          "base_uri": "https://localhost:8080/"
        },
        "outputId": "02272f65-07ec-438b-e274-8313e89257ff"
      },
      "execution_count": 11,
      "outputs": [
        {
          "output_type": "stream",
          "name": "stdout",
          "text": [
            "[1] \"/content\"\n"
          ]
        }
      ]
    },
    {
      "cell_type": "code",
      "source": [
        "# Stratified table smokers non-smkoers\n",
        "strata_var <- \"Smoking\"\n",
        "\n",
        "tab1_strata <- CreateTableOne(vars = vars,\n",
        "                              strata = strata_var,\n",
        "                              data = pheno,\n",
        "                              factorVars = cat_vars)\n",
        "print(tab1_strata, showAllLevels = TRUE, quote = FALSE, noSpaces = TRUE)"
      ],
      "metadata": {
        "colab": {
          "base_uri": "https://localhost:8080/"
        },
        "id": "GIyKd6BC11St",
        "outputId": "9dd7efbd-78e8-450d-fc5d-81f67d59e89c"
      },
      "execution_count": 12,
      "outputs": [
        {
          "output_type": "stream",
          "name": "stdout",
          "text": [
            "                 Stratified by Smoking\n",
            "                  level   current       former       never         p      test\n",
            "  n                       89            106          99                       \n",
            "  Age (mean (SD))         52.73 (10.62) 55.06 (9.79) 52.75 (12.52) 0.225      \n",
            "  Sex (%)         F       66 (74.2)     66 (62.3)    78 (78.8)     0.026      \n",
            "                  M       23 (25.8)     40 (37.7)    21 (21.2)                \n",
            "  Smoking (%)     current 89 (100.0)    0 (0.0)      0 (0.0)       <0.001     \n",
            "                  former  0 (0.0)       106 (100.0)  0 (0.0)                  \n",
            "                  never   0 (0.0)       0 (0.0)      99 (100.0)               \n"
          ]
        }
      ]
    },
    {
      "cell_type": "code",
      "source": [
        "tab1_strata_df <- as.data.frame(\n",
        "  print(tab1, showAllLevels = TRUE, quote = FALSE,\n",
        "  noSpaces = TRUE, printToggle = FALSE)\n",
        ")\n",
        "# Save table\n",
        "save_to <- file.path(getwd(),\"Table1_strata.csv\")\n",
        "write.csv(tab1_strata_df, save_to, row.names = TRUE)"
      ],
      "metadata": {
        "id": "9NNB3n5a7_hc"
      },
      "execution_count": 13,
      "outputs": []
    },
    {
      "cell_type": "markdown",
      "source": [
        "**Cohort overview.**\n",
        "* We analyze a blood-based Illumina 450K methylation dataset with 294 participants. The phenotype data include age, sex, and smoking, along with estimated immune cell composition.\n",
        "* The mean age is 53.6 years (SD 11.0).\n",
        "* Sex distribution is 71.4% female (n=210) and 28.6% male (n=84).\n",
        "* Smoking status includes current (30.3%, n=89), former (36.1%, n=106), and never (33.7%, n=99).\n",
        "* Technical variables (e.g., array/batch) are also available for adjustment in downstream analyses."
      ],
      "metadata": {
        "id": "_5v0d0Xn0Gwy"
      }
    },
    {
      "cell_type": "markdown",
      "source": [
        "# **3. Quality Control** (we won't do this here)\n",
        "\n",
        "Proper QC is performed before analysis, starting from the raw Illumina IDAT files. Typical steps include sample/probe filtering (detection p-values, beadcount, sex mismatch, outliers), normalization (often functional normalization), batch/technical checks, and generating a QC report.\n",
        "To keep the practical part fast this dataset is ready to use.\n",
        "An example of a QC pipeline is:"
      ],
      "metadata": {
        "id": "k2O0vFaiUlQg"
      }
    },
    {
      "cell_type": "markdown",
      "source": [
        "# **4. Run EWAS**\n",
        "In this section we’ll run a simple EWAS comparing **current** vs **never smokers**. We use the methylation matrix from our ExpressionSet, adjust for key covariates, and test each CpG for differential methylation.\n",
        "\n",
        "**What we test**\n",
        "* **Outcome:** methylation at each CpG (B values).\n",
        "**Exposure:** Smoking status (current vs never).\n",
        "* **Covariates:** Age, Sex, and estimated cell-type proportions (B cell, CD4T, CD8T, Mono, Neu, NK). Include batch/array variables if available."
      ],
      "metadata": {
        "id": "MXCk5nulRbqY"
      }
    },
    {
      "cell_type": "markdown",
      "source": [
        "## **4.1. Data preparation**\n",
        "\n",
        "The first step is to subset the `ExpressionSet` to include only the samples we need. In this case, we keep never and current smokers and exclude former smokers to focus the comparison.\n"
      ],
      "metadata": {
        "id": "LlPQ7p9cRgWw"
      }
    },
    {
      "cell_type": "code",
      "source": [
        "idx <- pheno$Smoking %in% c(\"never\",\"current\")\n",
        "pheno_smokers  <- pheno[idx, , drop = FALSE]  # subset rows (samples)\n",
        "methyl_smokers <- methyl[, idx, drop = FALSE] # subset columns (samples)"
      ],
      "metadata": {
        "id": "oD-h0d21Rpag"
      },
      "execution_count": 14,
      "outputs": []
    },
    {
      "cell_type": "markdown",
      "source": [
        "Check the levels. We want “never” to be the reference level."
      ],
      "metadata": {
        "id": "HF8n-hcPSJzx"
      }
    },
    {
      "cell_type": "code",
      "source": [
        "# make sure Smoking is a factor (it may be character)\n",
        "if (!is.factor(pheno_smokers$Smoking)) {\n",
        "  pheno_smokers$Smoking <- factor(pheno_smokers$Smoking)\n",
        "}\n",
        "\n",
        "# check levels\n",
        "levels(pheno_smokers$Smoking)"
      ],
      "metadata": {
        "id": "GUx-QafrE6Fb",
        "outputId": "43db8a81-02a0-4e26-ba4a-fffba59439f3",
        "colab": {
          "base_uri": "https://localhost:8080/",
          "height": 34
        }
      },
      "execution_count": 15,
      "outputs": [
        {
          "output_type": "display_data",
          "data": {
            "text/html": [
              "<style>\n",
              ".list-inline {list-style: none; margin:0; padding: 0}\n",
              ".list-inline>li {display: inline-block}\n",
              ".list-inline>li:not(:last-child)::after {content: \"\\00b7\"; padding: 0 .5ex}\n",
              "</style>\n",
              "<ol class=list-inline><li>'current'</li><li>'never'</li></ol>\n"
            ],
            "text/markdown": "1. 'current'\n2. 'never'\n\n\n",
            "text/latex": "\\begin{enumerate*}\n\\item 'current'\n\\item 'never'\n\\end{enumerate*}\n",
            "text/plain": [
              "[1] \"current\" \"never\"  "
            ]
          },
          "metadata": {}
        }
      ]
    },
    {
      "cell_type": "markdown",
      "source": [
        "**Prepare input for meffil**\n",
        "\n",
        "To run the EWAS with meffil, you need three aligned objects (same samples, same order):\n",
        "\n",
        "* **Exposure vector (what we test):**\n",
        "A factor for Smoking with levels  (\"never\",\"current\") so that “never” is the reference.\n",
        "\n",
        "* **Covariate data frame (adjustment variables):** One row per sample with the variables you’ll adjust for (e.g., Age numeric, Sex factor, cell proportions numeric, plus any batch/array terms). Ensure each column has the correct class.\n",
        "\n",
        "* **Methylation matrix** (already prepared as`methyl_smokers`):\n",
        "CpGs in rows, samples in columns\n",
        "\n",
        "**Note**: Remove or impute missing values; meffil expects complete cases.\n",
        "\n"
      ],
      "metadata": {
        "id": "SdmBRjRwSPBa"
      }
    },
    {
      "cell_type": "markdown",
      "source": [
        "**Exposure Variable**\n",
        "\n",
        "For the EWAS contrast to represent current vs never, we need “never” as the reference category. This makes model coefficients easy to interpret: a positive effect means higher methylation in current smokers compared with never; a negative effect means lower methylation in current smokers. We therefore recode the factor so that \"never\" is the reference level before fitting the model."
      ],
      "metadata": {
        "id": "ZDOZZ5d7FC3P"
      }
    },
    {
      "cell_type": "code",
      "source": [
        "# Exposure (Smoking): factor with \"never\" as reference\n",
        "exposure_variable <- pheno_smokers$Smoking\n",
        "if (!is.factor(exposure_variable)) exposure_variable <- factor(exposure_variable)\n",
        "exposure_variable <- relevel(exposure_variable, ref = \"never\")"
      ],
      "metadata": {
        "id": "p5cL88QvH0-_"
      },
      "execution_count": 16,
      "outputs": []
    },
    {
      "cell_type": "code",
      "source": [
        "# Covariates\n",
        "covars <- c(\"Age\",\"Sex\",\"Bcell\",\"CD4T\",\"CD8T\",\"Mono\",\"Neu\",\"NK\")\n",
        "covariates_df <- pheno_smokers[, covars, drop = FALSE]\n",
        "\n",
        "# Make sure Sex is a factor (if present)\n",
        "if (\"Sex\" %in% colnames(covariates_df)) {\n",
        "  covariates_df$Sex <- factor(covariates_df$Sex)\n",
        "}\n",
        "\n",
        "# Make sure numeric types for continuous covariates\n",
        "num_cols <- intersect(c(\"Age\",\"Bcell\",\"CD4T\",\"CD8T\",\"Mono\",\"Neu\",\"NK\"), colnames(covariates_df))\n",
        "covariates_df[num_cols] <- lapply(covariates_df[num_cols], function(x) as.numeric(as.character(x)))\n",
        "\n"
      ],
      "metadata": {
        "id": "F6LkLnsjSPV5"
      },
      "execution_count": 17,
      "outputs": []
    },
    {
      "cell_type": "markdown",
      "source": [
        "**Important:** Rows in the phenotype table must be in the same order as the columns of the methylation matrix (or have row names that exactly match those column names). Always check that sample IDs align between pheno and methyl. If the order (or IDs) don’t match, variables can be assigned to the wrong samples, leading to incorrect analyses and conclusions.."
      ],
      "metadata": {
        "id": "7-p_hvLwSrkD"
      }
    },
    {
      "cell_type": "code",
      "source": [
        "#   pheno_smokers  -> data.frame with rownames = sample IDs\n",
        "#   methyl_smokers -> matrix with colnames = sample IDs\n",
        "\n",
        "# 1) same set?\n",
        "if (!setequal(rownames(pheno_smokers), colnames(methyl_smokers))) {\n",
        "  stop(\"Sample IDs differ between pheno and methyl. Fix before proceeding.\")\n",
        "}\n",
        "\n",
        "# 2) same order? if not, reorder pheno to match methyl\n",
        "if (!all(rownames(pheno_smokers) == colnames(methyl_smokers))) {\n",
        "  pheno_smokers <- pheno_smokers[colnames(methyl_smokers), , drop = FALSE]\n",
        "}\n",
        "\n",
        "# final sanity check\n",
        "stopifnot(all(rownames(pheno_smokers) == colnames(methyl_smokers)))"
      ],
      "metadata": {
        "id": "oPVIlfGWSrJK"
      },
      "execution_count": 18,
      "outputs": []
    },
    {
      "cell_type": "markdown",
      "source": [
        "## **4.2 Run Models**\n",
        "We’ll run the EWAS with `meffil.ewas()`. Our inputs are already prepared (methylation matrix, exposure vector, and covariates aligned and cleaned). Below is what we’ll do and why—no need to change anything during the practicum unless you want to experiment.\n",
        "\n",
        "\n",
        "**Models definition**\n",
        "\n",
        "* **Unadjusted model:**\n",
        "  *  Tests Smoking (current vs never) with no covariates.\n",
        "  - Pro: Quick to perfrome and allwos us to see the raw association.\n",
        "  - Con: Efects may be confounded by age, sex, cell composition, or batch.\n",
        "\n",
        "- **Covariate-adjusted model:**\n",
        "  - Adjusts for the variables we specified (e.g., Age, Sex, cell-type proportions, batch).\n",
        "  - Pro: Estimate the association taking into account key biological/technical factors. **This is typically the primary result to report.**\n",
        "  - Con: We can always miss some confounders.\n",
        "\n",
        "- **Covariate + SVA model**\n",
        "  - Same as  the adjsuted model but also includes surrogate variables (SVA).\n",
        "  - Pro: It captures residual, unmeasured technical/biological variation. It can be used as a sensitivity analysis;\n",
        "  - Con: May be overftttigin model.\n",
        "*Note*: MEfills runs unadjsuted and adjusted by default. Also sVA unless FALSE.\n",
        "\n",
        "**Model choice**\n",
        "  * **Linear model (OLS)**: fast and standard; works well when residuals are roughly Gaussian and not dominated by outliers.\n",
        "  * **Robust linear model (RLM)**: down-weights outliers automatically. For methylation data this is often safer, so in this tutorial we use robust regression by setting rlm = TRUE.\n",
        "\n",
        "**Winsorization of beta values** Methylation data can have a few extreme values. Winsorization reduces the influence of these points by capping the upper/lower tails. We’ll set winsorize.pct = 0.01, which corresponds to trimming 0.5% at *each tail (total 1%). This is a light touch that improves stability without changing the bulk of the data.\n",
        "\n",
        "**Adjusting for unmeasured variation (SVA)**\n",
        "Even after modeling known covariates (age, sex, cell composition, batch), there can be residual technical/biological structure.  sva = TRUE asks meffil to compute surrogate variables and include them as additional covariates, helping control hidden batch effects/noise. (Optionally, you can cap the number with n.sv if you want to constrain model complexity.)\n"
      ],
      "metadata": {
        "id": "d3DffJZXS5Db"
      }
    },
    {
      "cell_type": "code",
      "source": [
        "# Estimated exectuion time: aprox 2 min\n",
        "olm_results_ewas_smokers <- meffil.ewas(beta = methyl_smokers,\n",
        "                                        variable = exposure_variable,\n",
        "                                        covariates = covariates_df,\n",
        "                                        rlm = FALSE,\n",
        "                                        winsorize.pct = 0.01,  # 1% total (0.5% per tail)\n",
        "                                        sva = TRUE # by defualt true\n",
        "                                    )"
      ],
      "metadata": {
        "colab": {
          "base_uri": "https://localhost:8080/"
        },
        "id": "pv2XmgltjKdV",
        "outputId": "06e81308-a3e3-45f5-bf34-98db0b840ff9"
      },
      "execution_count": 19,
      "outputs": [
        {
          "output_type": "stream",
          "name": "stdout",
          "text": [
            "Number of significant surrogate variables is:  33 \n",
            "Iteration (out of 5 ):1  2  3  4  5  \n"
          ]
        }
      ]
    },
    {
      "cell_type": "code",
      "source": [
        "# RLM not coverging - probably due to CT collinearility - drop some CT\n",
        "covars_use <- c(\"Age\",\"Sex\",\"Bcell\",\"CD4T\",\"CD8T\",\"Mono\")  # dropped NK and Neu\n",
        "covariates_df <- pheno_smokers[, covars_use, drop = FALSE]\n",
        "\n",
        "# Note: For now we won't use SVA as it's not convering. Probably because of overfiiting.\n",
        "# Estimated exectuion time: 2 minuts\n",
        "rlm_results_ewas_smokers <- meffil.ewas(beta = methyl_smokers,\n",
        "                                        variable = exposure_variable,\n",
        "                                        covariates = covariates_df,\n",
        "                                        rlm = TRUE,\n",
        "                                        winsorize.pct = 0.01,  # 1% total (0.5% per tail)\n",
        "                                        sva = FALSE # by defualt true\n",
        "                                        )"
      ],
      "metadata": {
        "colab": {
          "base_uri": "https://localhost:8080/"
        },
        "id": "q4XddIgsj5h8",
        "outputId": "f10ef30e-7153-4025-eb82-e395905ea502"
      },
      "execution_count": 20,
      "outputs": [
        {
          "output_type": "stream",
          "name": "stderr",
          "text": [
            "Warning message in rlm.default(x = X, y = y, weights = w, ...):\n",
            "\"'rlm' failed to converge in 20 steps\"\n",
            "Warning message in rlm.default(x = X, y = y, weights = w, ...):\n",
            "\"'rlm' failed to converge in 20 steps\"\n",
            "Warning message in rlm.default(x = X, y = y, weights = w, ...):\n",
            "\"'rlm' failed to converge in 20 steps\"\n",
            "Warning message in rlm.default(x = X, y = y, weights = w, ...):\n",
            "\"'rlm' failed to converge in 20 steps\"\n",
            "Warning message in rlm.default(x = X, y = y, weights = w, ...):\n",
            "\"'rlm' failed to converge in 20 steps\"\n",
            "Warning message in rlm.default(x = X, y = y, weights = w, ...):\n",
            "\"'rlm' failed to converge in 20 steps\"\n",
            "Warning message in rlm.default(x = X, y = y, weights = w, ...):\n",
            "\"'rlm' failed to converge in 20 steps\"\n",
            "Warning message in rlm.default(x = X, y = y, weights = w, ...):\n",
            "\"'rlm' failed to converge in 20 steps\"\n",
            "Warning message in rlm.default(x = X, y = y, weights = w, ...):\n",
            "\"'rlm' failed to converge in 20 steps\"\n",
            "Warning message in rlm.default(x = X, y = y, weights = w, ...):\n",
            "\"'rlm' failed to converge in 20 steps\"\n",
            "Warning message in rlm.default(x = X, y = y, weights = w, ...):\n",
            "\"'rlm' failed to converge in 20 steps\"\n",
            "Warning message in rlm.default(x = X, y = y, weights = w, ...):\n",
            "\"'rlm' failed to converge in 20 steps\"\n"
          ]
        }
      ]
    },
    {
      "cell_type": "markdown",
      "source": [
        "## **4.3 Results**\n",
        "\n",
        "After running `meffil.ewas()` we obtain a **list** with 17 elements with both the EWAS results and all the metadata needed to reproduce the analysis.\n",
        "\n",
        "**What you find inside:**\n",
        "* Main results table: one row per CpG with the estimated effect (current vs never), standard error, test statistic, raw p‐value, and FDR (adjusted p‐value).\n",
        "* Model choices: whether robust regression (RLM) was used, winsorization on/off and its percentage, whether SVA was applied (and how many SVs).\n",
        "* Variables used: the exposure (Smoking with “never” as reference), the list of covariates included, and their classes.\n",
        "* Sample/feature info: number of samples analyzed, number of CpGs tested, the sample IDs and CpG IDs used, and notes on any rows/samples dropped (e.g., incomplete cases).\n",
        "* Design summary: dimensions of the design matrix, reference levels, and contrasts.\n",
        "* Provenance: meffil package version (and sometimes R version), timestamps, and other run settings so results are reproducible.\n"
      ],
      "metadata": {
        "id": "2cA-7T6WTMlj"
      }
    },
    {
      "cell_type": "code",
      "source": [
        "str(rlm_results_ewas_smokers)"
      ],
      "metadata": {
        "colab": {
          "base_uri": "https://localhost:8080/"
        },
        "id": "w3gC3pcfm9y8",
        "outputId": "7911f2ac-9956-45c3-81f5-5f152d08f93b"
      },
      "execution_count": 21,
      "outputs": [
        {
          "output_type": "stream",
          "name": "stdout",
          "text": [
            "List of 17\n",
            " $ class             : chr \"ewas\"\n",
            " $ version           :Classes 'package_version', 'numeric_version'  hidden list of 1\n",
            "  ..$ : int [1:3] 1 5 1\n",
            " $ samples           : chr [1:188] \"GSM1051533\" \"GSM1051534\" \"GSM1051539\" \"GSM1051541\" ...\n",
            " $ variable          : Factor w/ 2 levels \"never\",\"current\": 2 1 1 2 2 2 2 2 2 1 ...\n",
            " $ covariates        :'data.frame':\t188 obs. of  6 variables:\n",
            "  ..$ Age  : int [1:188] 55 37 69 69 66 58 58 60 62 61 ...\n",
            "  ..$ Sex  : chr [1:188] \"M\" \"M\" \"M\" \"M\" ...\n",
            "  ..$ Bcell: num [1:188] 0.0578 0.0436 0.0397 0.0357 0.0632 ...\n",
            "  ..$ CD4T : num [1:188] 0.125 0.175 0.151 0.157 0.133 ...\n",
            "  ..$ CD8T : num [1:188] 0.15 0.11 0.147 0.115 0.114 ...\n",
            "  ..$ Mono : num [1:188] 0.0649 0.0877 0.0998 0.1102 0.1065 ...\n",
            " $ winsorize.pct     : num 0.01\n",
            " $ batch             : NULL\n",
            " $ robust            : logi FALSE\n",
            " $ rlm               : logi TRUE\n",
            " $ weights           : NULL\n",
            " $ outlier.iqr.factor: logi NA\n",
            " $ most.variable     : num 50000\n",
            " $ p.value           : num [1:37842, 1:2] 0.436 0.3613 0.6255 0.1303 0.0758 ...\n",
            "  ..- attr(*, \"dimnames\")=List of 2\n",
            "  .. ..$ : chr [1:37842] \"cg02432075\" \"cg03515901\" \"cg04023335\" \"cg08455548\" ...\n",
            "  .. ..$ : chr [1:2] \"none\" \"all\"\n",
            " $ coefficient       : num [1:37842, 1:2] -0.00369 0.00327 -0.00428 -0.00619 -0.02329 ...\n",
            "  ..- attr(*, \"dimnames\")=List of 2\n",
            "  .. ..$ : chr [1:37842] \"cg02432075\" \"cg03515901\" \"cg04023335\" \"cg08455548\" ...\n",
            "  .. ..$ : chr [1:2] \"none\" \"all\"\n",
            " $ analyses          :List of 2\n",
            "  ..$ none:List of 5\n",
            "  .. ..$ design     :'data.frame':\t188 obs. of  2 variables:\n",
            "  .. .. ..$ intercept: num [1:188] 1 1 1 1 1 1 1 1 1 1 ...\n",
            "  .. .. ..$ variable : num [1:188] 1 0 0 1 1 1 1 1 1 0 ...\n",
            "  .. ..$ batch      : NULL\n",
            "  .. ..$ batch.cor  : NULL\n",
            "  .. ..$ cell.counts: NULL\n",
            "  .. ..$ table      :'data.frame':\t37842 obs. of  11 variables:\n",
            "  .. .. ..$ p.value            : num [1:37842] 0.436 0.3613 0.6255 0.1303 0.0758 ...\n",
            "  .. .. ..$ fdr                : num [1:37842] 0.699 0.638 0.823 0.389 0.3 ...\n",
            "  .. .. ..$ p.holm             : num [1:37842] 1 1 1 1 1 1 1 1 1 1 ...\n",
            "  .. .. ..$ t.statistic        : num [1:37842] -0.781 0.915 -0.489 -1.52 -1.786 ...\n",
            "  .. .. ..$ coefficient        : num [1:37842] -0.00369 0.00327 -0.00428 -0.00619 -0.02329 ...\n",
            "  .. .. ..$ coefficient.ci.high: num [1:37842] 0.00564 0.01031 0.013 0.00184 0.00244 ...\n",
            "  .. .. ..$ coefficient.ci.low : num [1:37842] -0.01302 -0.00377 -0.02157 -0.01422 -0.04903 ...\n",
            "  .. .. ..$ coefficient.se     : num [1:37842] 0.00473 0.00357 0.00876 0.00407 0.01304 ...\n",
            "  .. .. ..$ n                  : int [1:37842] 188 187 188 188 188 188 188 188 188 188 ...\n",
            "  .. .. ..$ chromosome         : chr [1:37842] \"chrY\" \"chrY\" \"chrY\" \"chrY\" ...\n",
            "  .. .. ..$ position           : int [1:37842] 4870822 3447157 14100573 4867968 104566227 151960304 118823726 48508842 101390753 138529221 ...\n",
            "  ..$ all :List of 5\n",
            "  .. ..$ design     :'data.frame':\t188 obs. of  8 variables:\n",
            "  .. .. ..$ intercept: num [1:188] 1 1 1 1 1 1 1 1 1 1 ...\n",
            "  .. .. ..$ variable : num [1:188] 1 0 0 1 1 1 1 1 1 0 ...\n",
            "  .. .. ..$ Age      : num [1:188] 55 37 69 69 66 58 58 60 62 61 ...\n",
            "  .. .. ..$ Sex      : num [1:188] 1 1 1 1 1 1 0 0 0 0 ...\n",
            "  .. .. ..$ Bcell    : num [1:188] 0.0578 0.0436 0.0397 0.0357 0.0632 ...\n",
            "  .. .. ..$ CD4T     : num [1:188] 0.125 0.175 0.151 0.157 0.133 ...\n",
            "  .. .. ..$ CD8T     : num [1:188] 0.15 0.11 0.147 0.115 0.114 ...\n",
            "  .. .. ..$ Mono     : num [1:188] 0.0649 0.0877 0.0998 0.1102 0.1065 ...\n",
            "  .. ..$ batch      : NULL\n",
            "  .. ..$ batch.cor  : NULL\n",
            "  .. ..$ cell.counts: NULL\n",
            "  .. ..$ table      :'data.frame':\t37842 obs. of  11 variables:\n",
            "  .. .. ..$ p.value            : num [1:37842] 0.5349 0.4273 0.2004 0.904 0.0846 ...\n",
            "  .. .. ..$ fdr                : num [1:37842] 0.769 0.692 0.469 0.963 0.299 ...\n",
            "  .. .. ..$ p.holm             : num [1:37842] 1 1 1 1 1 1 1 1 1 1 ...\n",
            "  .. .. ..$ t.statistic        : num [1:37842] 0.622 0.796 -1.285 -0.121 -1.734 ...\n",
            "  .. .. ..$ coefficient        : num [1:37842] 0.002165 0.002765 -0.006151 -0.000398 -0.009594 ...\n",
            "  .. .. ..$ coefficient.ci.high: num [1:37842] 0.00903 0.00962 0.00329 0.0061 0.00132 ...\n",
            "  .. .. ..$ coefficient.ci.low : num [1:37842] -0.00471 -0.00409 -0.0156 -0.00689 -0.02051 ...\n",
            "  .. .. ..$ coefficient.se     : num [1:37842] 0.00348 0.00348 0.00479 0.00329 0.00553 ...\n",
            "  .. .. ..$ n                  : int [1:37842] 188 187 188 188 188 188 188 188 188 188 ...\n",
            "  .. .. ..$ chromosome         : chr [1:37842] \"chrY\" \"chrY\" \"chrY\" \"chrY\" ...\n",
            "  .. .. ..$ position           : int [1:37842] 4870822 3447157 14100573 4867968 104566227 151960304 118823726 48508842 101390753 138529221 ...\n",
            " $ random.seed       : num 20161123\n",
            " $ sva.ret           : NULL\n"
          ]
        }
      ]
    },
    {
      "cell_type": "markdown",
      "source": [
        "We’re interested in the sublist `analyses`, which contains another sublist `table` with the per-CpG results. Access it like this:"
      ],
      "metadata": {
        "id": "wpzZcBHXq_Z8"
      }
    },
    {
      "cell_type": "code",
      "source": [
        "results_table <- rlm_results_ewas_smokers$analyses$all$table\n",
        "print(dim(results_table))"
      ],
      "metadata": {
        "colab": {
          "base_uri": "https://localhost:8080/"
        },
        "id": "wL5d-j8Tr981",
        "outputId": "1b9cf023-df2b-4114-c407-37d5ca0bd452"
      },
      "execution_count": 22,
      "outputs": [
        {
          "output_type": "stream",
          "name": "stdout",
          "text": [
            "[1] 37842    11\n"
          ]
        }
      ]
    },
    {
      "cell_type": "code",
      "source": [
        "# Save results\n",
        "cat('RESULTS SAVED TO:',file.path(getwd(), \"EWAS_results_table.csv\"))\n",
        "write.csv(results_table, file.path(getwd(), \"EWAS_results_table.csv\"), row.names = FALSE)"
      ],
      "metadata": {
        "colab": {
          "base_uri": "https://localhost:8080/"
        },
        "id": "oBMH6YUgs-kj",
        "outputId": "702978c5-559b-454c-dc87-e47291284662"
      },
      "execution_count": 23,
      "outputs": [
        {
          "output_type": "stream",
          "name": "stdout",
          "text": [
            "RESULTS SAVED TO: /content/EWAS_results_table.csv"
          ]
        }
      ]
    },
    {
      "cell_type": "markdown",
      "source": [
        "We now have a results table with **37,842 CpGs × 11 columns**.\n",
        "\n",
        "- **p.value**: raw p-value for the association (current vs never).\n",
        "- **fdr**:  p-value adjusted for false discovery rate (Benjamini–Hochberg). Use this for calling discoveries.\n",
        "- **p.holm**: p-value adjusted by Holm–Bonferroni (more conservative; we won’t use it here).\n",
        "- **coefficient**: estimated effect size (current − never) on the modeling scale.\n",
        "- **t.statistics**: the test statistic for the coefficient (effect ÷ standard error).\n",
        "- **coefficient.se**: standard error of the effect estimate.\n",
        "- **coefficient.ci.low** and **coefficient.ci.high**: lower/upper bounds of the confidence interval for the effect.\n",
        "- **n**: number of samples included for that CpG.\n",
        "- **chromosome** and **position**: CpG genomic location (hg19), if annotation was available when running the model."
      ],
      "metadata": {
        "id": "Z4FFm2pQq6Pt"
      }
    },
    {
      "cell_type": "code",
      "source": [
        "head(results_table)"
      ],
      "metadata": {
        "colab": {
          "base_uri": "https://localhost:8080/",
          "height": 306
        },
        "id": "t_igHjnFqZ12",
        "outputId": "d21d8f00-e07b-4c29-dd8f-b9c2befd0dbf"
      },
      "execution_count": 24,
      "outputs": [
        {
          "output_type": "display_data",
          "data": {
            "text/html": [
              "<table class=\"dataframe\">\n",
              "<caption>A data.frame: 6 × 11</caption>\n",
              "<thead>\n",
              "\t<tr><th></th><th scope=col>p.value</th><th scope=col>fdr</th><th scope=col>p.holm</th><th scope=col>t.statistic</th><th scope=col>coefficient</th><th scope=col>coefficient.ci.high</th><th scope=col>coefficient.ci.low</th><th scope=col>coefficient.se</th><th scope=col>n</th><th scope=col>chromosome</th><th scope=col>position</th></tr>\n",
              "\t<tr><th></th><th scope=col>&lt;dbl&gt;</th><th scope=col>&lt;dbl&gt;</th><th scope=col>&lt;dbl&gt;</th><th scope=col>&lt;dbl&gt;</th><th scope=col>&lt;dbl&gt;</th><th scope=col>&lt;dbl&gt;</th><th scope=col>&lt;dbl&gt;</th><th scope=col>&lt;dbl&gt;</th><th scope=col>&lt;int&gt;</th><th scope=col>&lt;chr&gt;</th><th scope=col>&lt;int&gt;</th></tr>\n",
              "</thead>\n",
              "<tbody>\n",
              "\t<tr><th scope=row>cg02432075</th><td>0.53486945</td><td>0.7685430</td><td>1</td><td> 0.6217726</td><td> 0.0021649232</td><td>0.009034919</td><td>-0.004705073</td><td>0.003481857</td><td>188</td><td>chrY</td><td>  4870822</td></tr>\n",
              "\t<tr><th scope=row>cg03515901</th><td>0.42731987</td><td>0.6920881</td><td>1</td><td> 0.7955773</td><td> 0.0027648782</td><td>0.009622212</td><td>-0.004092455</td><td>0.003475311</td><td>187</td><td>chrY</td><td>  3447157</td></tr>\n",
              "\t<tr><th scope=row>cg04023335</th><td>0.20037631</td><td>0.4687007</td><td>1</td><td>-1.2851402</td><td>-0.0061511571</td><td>0.003292754</td><td>-0.015595068</td><td>0.004786370</td><td>188</td><td>chrY</td><td> 14100573</td></tr>\n",
              "\t<tr><th scope=row>cg08455548</th><td>0.90398307</td><td>0.9627875</td><td>1</td><td>-0.1207995</td><td>-0.0003976968</td><td>0.006098099</td><td>-0.006893493</td><td>0.003292205</td><td>188</td><td>chrY</td><td>  4867968</td></tr>\n",
              "\t<tr><th scope=row>cg00006815</th><td>0.08455268</td><td>0.2989203</td><td>1</td><td>-1.7343301</td><td>-0.0095942150</td><td>0.001320773</td><td>-0.020509203</td><td>0.005531943</td><td>188</td><td>chrX</td><td>104566227</td></tr>\n",
              "\t<tr><th scope=row>cg00018204</th><td>0.11938951</td><td>0.3587658</td><td>1</td><td> 1.5647036</td><td> 0.0061711139</td><td>0.013952860</td><td>-0.001610632</td><td>0.003943951</td><td>188</td><td>chrX</td><td>151960304</td></tr>\n",
              "</tbody>\n",
              "</table>\n"
            ],
            "text/markdown": "\nA data.frame: 6 × 11\n\n| <!--/--> | p.value &lt;dbl&gt; | fdr &lt;dbl&gt; | p.holm &lt;dbl&gt; | t.statistic &lt;dbl&gt; | coefficient &lt;dbl&gt; | coefficient.ci.high &lt;dbl&gt; | coefficient.ci.low &lt;dbl&gt; | coefficient.se &lt;dbl&gt; | n &lt;int&gt; | chromosome &lt;chr&gt; | position &lt;int&gt; |\n|---|---|---|---|---|---|---|---|---|---|---|---|\n| cg02432075 | 0.53486945 | 0.7685430 | 1 |  0.6217726 |  0.0021649232 | 0.009034919 | -0.004705073 | 0.003481857 | 188 | chrY |   4870822 |\n| cg03515901 | 0.42731987 | 0.6920881 | 1 |  0.7955773 |  0.0027648782 | 0.009622212 | -0.004092455 | 0.003475311 | 187 | chrY |   3447157 |\n| cg04023335 | 0.20037631 | 0.4687007 | 1 | -1.2851402 | -0.0061511571 | 0.003292754 | -0.015595068 | 0.004786370 | 188 | chrY |  14100573 |\n| cg08455548 | 0.90398307 | 0.9627875 | 1 | -0.1207995 | -0.0003976968 | 0.006098099 | -0.006893493 | 0.003292205 | 188 | chrY |   4867968 |\n| cg00006815 | 0.08455268 | 0.2989203 | 1 | -1.7343301 | -0.0095942150 | 0.001320773 | -0.020509203 | 0.005531943 | 188 | chrX | 104566227 |\n| cg00018204 | 0.11938951 | 0.3587658 | 1 |  1.5647036 |  0.0061711139 | 0.013952860 | -0.001610632 | 0.003943951 | 188 | chrX | 151960304 |\n\n",
            "text/latex": "A data.frame: 6 × 11\n\\begin{tabular}{r|lllllllllll}\n  & p.value & fdr & p.holm & t.statistic & coefficient & coefficient.ci.high & coefficient.ci.low & coefficient.se & n & chromosome & position\\\\\n  & <dbl> & <dbl> & <dbl> & <dbl> & <dbl> & <dbl> & <dbl> & <dbl> & <int> & <chr> & <int>\\\\\n\\hline\n\tcg02432075 & 0.53486945 & 0.7685430 & 1 &  0.6217726 &  0.0021649232 & 0.009034919 & -0.004705073 & 0.003481857 & 188 & chrY &   4870822\\\\\n\tcg03515901 & 0.42731987 & 0.6920881 & 1 &  0.7955773 &  0.0027648782 & 0.009622212 & -0.004092455 & 0.003475311 & 187 & chrY &   3447157\\\\\n\tcg04023335 & 0.20037631 & 0.4687007 & 1 & -1.2851402 & -0.0061511571 & 0.003292754 & -0.015595068 & 0.004786370 & 188 & chrY &  14100573\\\\\n\tcg08455548 & 0.90398307 & 0.9627875 & 1 & -0.1207995 & -0.0003976968 & 0.006098099 & -0.006893493 & 0.003292205 & 188 & chrY &   4867968\\\\\n\tcg00006815 & 0.08455268 & 0.2989203 & 1 & -1.7343301 & -0.0095942150 & 0.001320773 & -0.020509203 & 0.005531943 & 188 & chrX & 104566227\\\\\n\tcg00018204 & 0.11938951 & 0.3587658 & 1 &  1.5647036 &  0.0061711139 & 0.013952860 & -0.001610632 & 0.003943951 & 188 & chrX & 151960304\\\\\n\\end{tabular}\n",
            "text/plain": [
              "           p.value    fdr       p.holm t.statistic coefficient  \n",
              "cg02432075 0.53486945 0.7685430 1       0.6217726   0.0021649232\n",
              "cg03515901 0.42731987 0.6920881 1       0.7955773   0.0027648782\n",
              "cg04023335 0.20037631 0.4687007 1      -1.2851402  -0.0061511571\n",
              "cg08455548 0.90398307 0.9627875 1      -0.1207995  -0.0003976968\n",
              "cg00006815 0.08455268 0.2989203 1      -1.7343301  -0.0095942150\n",
              "cg00018204 0.11938951 0.3587658 1       1.5647036   0.0061711139\n",
              "           coefficient.ci.high coefficient.ci.low coefficient.se n   chromosome\n",
              "cg02432075 0.009034919         -0.004705073       0.003481857    188 chrY      \n",
              "cg03515901 0.009622212         -0.004092455       0.003475311    187 chrY      \n",
              "cg04023335 0.003292754         -0.015595068       0.004786370    188 chrY      \n",
              "cg08455548 0.006098099         -0.006893493       0.003292205    188 chrY      \n",
              "cg00006815 0.001320773         -0.020509203       0.005531943    188 chrX      \n",
              "cg00018204 0.013952860         -0.001610632       0.003943951    188 chrX      \n",
              "           position \n",
              "cg02432075   4870822\n",
              "cg03515901   3447157\n",
              "cg04023335  14100573\n",
              "cg08455548   4867968\n",
              "cg00006815 104566227\n",
              "cg00018204 151960304"
            ]
          },
          "metadata": {}
        }
      ]
    },
    {
      "cell_type": "markdown",
      "source": [
        "### **4.4.1 QQ plot**\n",
        "\n",
        "A quick way to assess the overall behavior of our EWAS p-values is a quantile–quantile (QQ) plot. Under the null (no true signal), p-values should be uniform, so the observed –log10(p) should follow the 45° line against the expected values.\n",
        "\n",
        "** Genomic inflation factor (λ)**\n",
        "- We also report λ; values ~1.0 indicate well-calibrated tests.\n",
        "- λ > 1.1–1.2 suggests inflation (check covariates, drop one cell fraction, add/adjust SVA, or winsorize lightly).\n",
        "- λ < 1.0 can indicate over-correction."
      ],
      "metadata": {
        "id": "eUJJBStXfWWd"
      }
    },
    {
      "cell_type": "code",
      "source": [
        "# Get p values\n",
        "p <- results_table$p.value\n",
        "\n",
        "# Compute lambda\n",
        "p <- p[!is.na(p) & is.finite(p)]\n",
        "p[p == 0] <- .Machine$double.xmin           # avoid Inf in qchisq\n",
        "chisq <- qchisq(1 - p, df = 1)              # observed chi^2\n",
        "lambda <- median(chisq) / qchisq(0.5, 1)    # genomic inflation\n",
        "\n",
        "# Plot QQ\n",
        "qq(p, main = sprintf(\"QQ plot — EWAS current vs never (λ = %.3f)\", lambda))\n",
        "abline(0, 1, lty = 2)  # reference line (optional)\n"
      ],
      "metadata": {
        "colab": {
          "base_uri": "https://localhost:8080/",
          "height": 437
        },
        "id": "qb66w1ciwSLY",
        "outputId": "48c21fab-9bbb-4c2a-fc2d-a27497b10c44"
      },
      "execution_count": 25,
      "outputs": [
        {
          "output_type": "display_data",
          "data": {
            "text/plain": [
              "Plot with title \"QQ plot — EWAS current vs never (λ = 2.602)\""
            ],
            "image/png": "[encoded data removed]"
          },
          "metadata": {
            "image/png": {
              "width": 420,
              "height": 420
            }
          }
        }
      ]
    },
    {
      "cell_type": "markdown",
      "source": [
        "**Comment:**\n",
        "\n",
        "Our λ ≈ 2.6 is high—much higher than the ~1.0 you’d hope for in a well-calibrated genome-wide test. In a real study this could signal unmodelled confounding or technical effects (e.g., cell composition, batch/array, age/sex, population structure/relatedness, or outliers/collinearity).\n",
        "\n",
        "In this practicum, the dataset is a small, curated subset enriched for smoking hits, so the p-value distribution is dominated by true associations. That naturally bends the QQ plot upward and inflates λ; here it’s not evidence of a problem.\n",
        "\n",
        "Good practice: compare unadjusted, covariate-adjusted, and adjusted+SVA models (with a sensible cap on SVs). λ should usually decrease with appropriate adjustment. Use FDR to call discoveries; if you want a calibration check when many true effects are present, consider methods like bacon rather than relying solely on raw λ."
      ],
      "metadata": {
        "id": "dvWJhSBgxP0I"
      }
    },
    {
      "cell_type": "markdown",
      "source": [
        "### **4.4.2 Significant CpGs**\n",
        "\n",
        "We focus on CpGs that pass a multiple-testing threshold—here we’ll use **FDR < 0.05**. These are the sites most likely to show a real association between Smoking (current vs never) and methylation.\n",
        "\n",
        "How to read the effect:\n",
        "- **Positive effect**: higher methylation in current smokers vs never (hypermethylation).\n",
        "- **Negative effect**: lower methylation in current smokers vs never (hypomethylation).\n",
        "\n"
      ],
      "metadata": {
        "id": "If43oCmTTpbc"
      }
    },
    {
      "cell_type": "code",
      "source": [
        "fdr_sig_results <- results_table[!is.na(results_table$fdr) & results_table$fdr < 0.05, , drop = FALSE]\n",
        "head(fdr_sig_results)"
      ],
      "metadata": {
        "id": "Zkw6yjZ7TssD",
        "colab": {
          "base_uri": "https://localhost:8080/",
          "height": 410
        },
        "outputId": "6463eaa5-fe73-4e5e-a6be-3597b46d2c36"
      },
      "execution_count": 26,
      "outputs": [
        {
          "output_type": "display_data",
          "data": {
            "text/html": [
              "<table class=\"dataframe\">\n",
              "<caption>A data.frame: 6 × 11</caption>\n",
              "<thead>\n",
              "\t<tr><th></th><th scope=col>p.value</th><th scope=col>fdr</th><th scope=col>p.holm</th><th scope=col>t.statistic</th><th scope=col>coefficient</th><th scope=col>coefficient.ci.high</th><th scope=col>coefficient.ci.low</th><th scope=col>coefficient.se</th><th scope=col>n</th><th scope=col>chromosome</th><th scope=col>position</th></tr>\n",
              "\t<tr><th></th><th scope=col>&lt;dbl&gt;</th><th scope=col>&lt;dbl&gt;</th><th scope=col>&lt;dbl&gt;</th><th scope=col>&lt;dbl&gt;</th><th scope=col>&lt;dbl&gt;</th><th scope=col>&lt;dbl&gt;</th><th scope=col>&lt;dbl&gt;</th><th scope=col>&lt;dbl&gt;</th><th scope=col>&lt;int&gt;</th><th scope=col>&lt;chr&gt;</th><th scope=col>&lt;int&gt;</th></tr>\n",
              "</thead>\n",
              "<tbody>\n",
              "\t<tr><th scope=row>cg03274069</th><td>6.321988e-05</td><td>0.003950910</td><td>1</td><td> 4.095863</td><td> 0.034592487</td><td> 0.051256589</td><td> 0.017928384</td><td>0.008445714</td><td>188</td><td>chrX</td><td>153906245</td></tr>\n",
              "\t<tr><th scope=row>cg05100261</th><td>2.269469e-03</td><td>0.038698613</td><td>1</td><td> 3.096326</td><td> 0.008914041</td><td> 0.014594370</td><td> 0.003233712</td><td>0.002878909</td><td>188</td><td>chrX</td><td>154398413</td></tr>\n",
              "\t<tr><th scope=row>cg07764473</th><td>6.531688e-04</td><td>0.018445681</td><td>1</td><td> 3.468532</td><td> 0.025497141</td><td> 0.040001260</td><td> 0.010993023</td><td>0.007350989</td><td>188</td><td>chrX</td><td> 40178257</td></tr>\n",
              "\t<tr><th scope=row>cg09626131</th><td>3.095986e-03</td><td>0.046662556</td><td>1</td><td>-2.998154</td><td>-0.014622173</td><td>-0.004999326</td><td>-0.024245021</td><td>0.004877059</td><td>188</td><td>chrX</td><td> 83509529</td></tr>\n",
              "\t<tr><th scope=row>cg12901451</th><td>7.107423e-05</td><td>0.004289619</td><td>1</td><td> 4.068289</td><td> 0.020200484</td><td> 0.029999013</td><td> 0.010401954</td><td>0.004965352</td><td>184</td><td>chrX</td><td> 48761757</td></tr>\n",
              "\t<tr><th scope=row>cg14393649</th><td>1.645993e-03</td><td>0.032146996</td><td>1</td><td> 3.195444</td><td> 0.013502175</td><td> 0.021839334</td><td> 0.005165016</td><td>0.004225446</td><td>188</td><td>chrX</td><td> 49178100</td></tr>\n",
              "</tbody>\n",
              "</table>\n"
            ],
            "text/markdown": "\nA data.frame: 6 × 11\n\n| <!--/--> | p.value &lt;dbl&gt; | fdr &lt;dbl&gt; | p.holm &lt;dbl&gt; | t.statistic &lt;dbl&gt; | coefficient &lt;dbl&gt; | coefficient.ci.high &lt;dbl&gt; | coefficient.ci.low &lt;dbl&gt; | coefficient.se &lt;dbl&gt; | n &lt;int&gt; | chromosome &lt;chr&gt; | position &lt;int&gt; |\n|---|---|---|---|---|---|---|---|---|---|---|---|\n| cg03274069 | 6.321988e-05 | 0.003950910 | 1 |  4.095863 |  0.034592487 |  0.051256589 |  0.017928384 | 0.008445714 | 188 | chrX | 153906245 |\n| cg05100261 | 2.269469e-03 | 0.038698613 | 1 |  3.096326 |  0.008914041 |  0.014594370 |  0.003233712 | 0.002878909 | 188 | chrX | 154398413 |\n| cg07764473 | 6.531688e-04 | 0.018445681 | 1 |  3.468532 |  0.025497141 |  0.040001260 |  0.010993023 | 0.007350989 | 188 | chrX |  40178257 |\n| cg09626131 | 3.095986e-03 | 0.046662556 | 1 | -2.998154 | -0.014622173 | -0.004999326 | -0.024245021 | 0.004877059 | 188 | chrX |  83509529 |\n| cg12901451 | 7.107423e-05 | 0.004289619 | 1 |  4.068289 |  0.020200484 |  0.029999013 |  0.010401954 | 0.004965352 | 184 | chrX |  48761757 |\n| cg14393649 | 1.645993e-03 | 0.032146996 | 1 |  3.195444 |  0.013502175 |  0.021839334 |  0.005165016 | 0.004225446 | 188 | chrX |  49178100 |\n\n",
            "text/latex": "A data.frame: 6 × 11\n\\begin{tabular}{r|lllllllllll}\n  & p.value & fdr & p.holm & t.statistic & coefficient & coefficient.ci.high & coefficient.ci.low & coefficient.se & n & chromosome & position\\\\\n  & <dbl> & <dbl> & <dbl> & <dbl> & <dbl> & <dbl> & <dbl> & <dbl> & <int> & <chr> & <int>\\\\\n\\hline\n\tcg03274069 & 6.321988e-05 & 0.003950910 & 1 &  4.095863 &  0.034592487 &  0.051256589 &  0.017928384 & 0.008445714 & 188 & chrX & 153906245\\\\\n\tcg05100261 & 2.269469e-03 & 0.038698613 & 1 &  3.096326 &  0.008914041 &  0.014594370 &  0.003233712 & 0.002878909 & 188 & chrX & 154398413\\\\\n\tcg07764473 & 6.531688e-04 & 0.018445681 & 1 &  3.468532 &  0.025497141 &  0.040001260 &  0.010993023 & 0.007350989 & 188 & chrX &  40178257\\\\\n\tcg09626131 & 3.095986e-03 & 0.046662556 & 1 & -2.998154 & -0.014622173 & -0.004999326 & -0.024245021 & 0.004877059 & 188 & chrX &  83509529\\\\\n\tcg12901451 & 7.107423e-05 & 0.004289619 & 1 &  4.068289 &  0.020200484 &  0.029999013 &  0.010401954 & 0.004965352 & 184 & chrX &  48761757\\\\\n\tcg14393649 & 1.645993e-03 & 0.032146996 & 1 &  3.195444 &  0.013502175 &  0.021839334 &  0.005165016 & 0.004225446 & 188 & chrX &  49178100\\\\\n\\end{tabular}\n",
            "text/plain": [
              "           p.value      fdr         p.holm t.statistic coefficient \n",
              "cg03274069 6.321988e-05 0.003950910 1       4.095863    0.034592487\n",
              "cg05100261 2.269469e-03 0.038698613 1       3.096326    0.008914041\n",
              "cg07764473 6.531688e-04 0.018445681 1       3.468532    0.025497141\n",
              "cg09626131 3.095986e-03 0.046662556 1      -2.998154   -0.014622173\n",
              "cg12901451 7.107423e-05 0.004289619 1       4.068289    0.020200484\n",
              "cg14393649 1.645993e-03 0.032146996 1       3.195444    0.013502175\n",
              "           coefficient.ci.high coefficient.ci.low coefficient.se n   chromosome\n",
              "cg03274069  0.051256589         0.017928384       0.008445714    188 chrX      \n",
              "cg05100261  0.014594370         0.003233712       0.002878909    188 chrX      \n",
              "cg07764473  0.040001260         0.010993023       0.007350989    188 chrX      \n",
              "cg09626131 -0.004999326        -0.024245021       0.004877059    188 chrX      \n",
              "cg12901451  0.029999013         0.010401954       0.004965352    184 chrX      \n",
              "cg14393649  0.021839334         0.005165016       0.004225446    188 chrX      \n",
              "           position \n",
              "cg03274069 153906245\n",
              "cg05100261 154398413\n",
              "cg07764473  40178257\n",
              "cg09626131  83509529\n",
              "cg12901451  48761757\n",
              "cg14393649  49178100"
            ]
          },
          "metadata": {}
        }
      ]
    },
    {
      "cell_type": "code",
      "source": [
        "cat(\"Number of FDR-significant CpGs (FDR < 0.05):\", nrow(fdr_sig_results), \"\\n\")\n",
        "cat(\"Positive effects (current > never):\", sum(fdr_sig_results$coefficient > 0, na.rm = TRUE), \"\\n\")\n",
        "cat(\"Negative effects (current < never):\", sum(fdr_sig_results$coefficient < 0, na.rm = TRUE), \"\\n\")"
      ],
      "metadata": {
        "id": "qSXRoB77TvXT",
        "colab": {
          "base_uri": "https://localhost:8080/"
        },
        "outputId": "40d03115-1020-4b8d-b3ef-5b714e2a6952"
      },
      "execution_count": 27,
      "outputs": [
        {
          "output_type": "stream",
          "name": "stdout",
          "text": [
            "Number of FDR-significant CpGs (FDR < 0.05): 2668 \n",
            "Positive effects (current > never): 931 \n",
            "Negative effects (current < never): 1737 \n"
          ]
        }
      ]
    },
    {
      "cell_type": "markdown",
      "source": [
        "**Comment:**\n",
        "We identified 2,668 significant CpGs (FDR < 0.05) out of 37,842 tested (≈ 7.1%). Among these, 931 (34.9%) show a positive effect—higher methylation in current smokers vs never—while 1,737 (65.1%) show a negative effect, indicating lower methylation in current smokers."
      ],
      "metadata": {
        "id": "CCnJW2miyRWd"
      }
    },
    {
      "cell_type": "markdown",
      "source": [
        "### **4.4.3 Volcano Plots**\n",
        "A volcano plot lets us to a look at the EWAS results quickly:\n",
        "- x-axis: effect size (regression coefficient; current − never on the modeling scale, e.g., M-values).\n",
        "  - Right side (positive) → higher methylation in current smokers.\n",
        "  - Left side (negative) → lower methylation in current smokers.\n",
        "\n",
        "* y-axis: statistical strength (−log10(p-value)); higher = more significant.\n",
        "\n",
        "We add a horizontal line at our significance threshold (e.g., the p-value that corresponds to FDR < 0.05) and, optionally, vertical lines to mark a practical effect-size cutoff. Points in the upper right are significant hypermethylated CpGs; points in the upper left are significant hypomethylated CpGs.\n",
        "\n",
        "We’ll also color the points by significance (e.g., red/blue for FDR < 0.05, grey otherwise) so significant CpGs stand out."
      ],
      "metadata": {
        "id": "H-MlNyRjUCuc"
      }
    },
    {
      "cell_type": "code",
      "source": [
        "# Use full results table (all CpGs), not only the FDR<0.05 subset\n",
        "res <- results_table\n",
        "\n",
        "# Flag direction + significance\n",
        "res$diffexpressed <- \"NO\"\n",
        "res$diffexpressed[!is.na(res$fdr) & res$fdr < 0.05 & res$coefficient > 0] <- \"POSITIVE\"\n",
        "res$diffexpressed[!is.na(res$fdr) & res$fdr < 0.05 & res$coefficient < 0] <- \"NEGATIVE\"\n",
        "\n",
        "# Colors\n",
        "mycolors <- c(\"POSITIVE\" = \"#157F8D\", \"NEGATIVE\" = \"#AF8D9B\", \"NO\" = \"grey\")\n",
        "\n",
        "# (Optional) draw a horizontal line at a p-value that corresponds to your chosen FDR cutoff.\n",
        "# If you have a p-value threshold (e.g., 3.86e-04), keep it; otherwise omit the hline.\n",
        "p_thresh <- 3.86e-04\n",
        "\n",
        "p <- ggplot(res, aes(x = coefficient, y = -log10(p.value), color = diffexpressed)) +\n",
        "  geom_point(size = 1.5, alpha = 0.9) +\n",
        "  scale_colour_manual(values = mycolors, name = \"Effect\") +\n",
        "  labs(title = \"\", x = \"Effect size (current − never)\", y = expression(-log[10](p))) +\n",
        "  theme_minimal(base_size = 14) +\n",
        "  theme(axis.title = element_text(color = \"black\"),\n",
        "        plot.title = element_text(face = \"bold\", hjust = 0.5),\n",
        "        legend.title = element_text(color = \"black\")) +\n",
        "  xlim(c(-0.3, 0.3)) + ylim(c(0, 35)) +\n",
        "  geom_hline(yintercept = -log10(p_thresh), linetype = \"dashed\", color = \"red\")\n",
        "\n",
        "p"
      ],
      "metadata": {
        "id": "JDURO9i6UHjd",
        "colab": {
          "base_uri": "https://localhost:8080/",
          "height": 489
        },
        "outputId": "4a2702e0-131a-4bda-b663-dc041e6155d7"
      },
      "execution_count": 28,
      "outputs": [
        {
          "output_type": "stream",
          "name": "stderr",
          "text": [
            "Warning message:\n",
            "\"\u001b[1m\u001b[22mRemoved 4 rows containing missing values or values outside the scale range\n",
            "(`geom_point()`).\"\n"
          ]
        },
        {
          "output_type": "display_data",
          "data": {
            "text/plain": [
              "plot without title"
            ],
            "image/png": "[encoded data removed]"
          },
          "metadata": {
            "image/png": {
              "width": 420,
              "height": 420
            }
          }
        }
      ]
    },
    {
      "cell_type": "markdown",
      "source": [
        "### **4.4.4 Manhattan Plot**\n",
        "\n",
        "A Manhattan plot displays p-values across the genome:\n",
        "- x-axis: chromosomal position (hg19).\n",
        "- y-axis: significance (−log10(p)).\n",
        "- Dashed lines often mark epigenome-wide (p = 1×10⁻⁷ → y = 7) and suggestive (p = 1×10⁻⁵ → y = 5) thresholds.\n",
        "- Points rising high on a chromosome indicate CpGs with strong associations.\n",
        "\n",
        "Addionally, we can color significant hits (e.g., FDR < 0.05) so they stand out against the background."
      ],
      "metadata": {
        "id": "kY4TOz9ZUJdM"
      }
    },
    {
      "cell_type": "code",
      "source": [
        "# PREPARE DATA FOR PLOTTING\n",
        "res <- results_table  # must have: chromosome, position, p.value\n",
        "\n",
        "# Build data.frame in qqman format\n",
        "df <- data.frame(SNP = rownames(res),\n",
        "                 CHR = gsub(\"^chr\", \"\", as.character(res$chromosome), ignore.case = TRUE),\n",
        "                 BP = as.integer(res$position),\n",
        "                 P = res$p.value,\n",
        "                 stringsAsFactors = FALSE)\n",
        "\n",
        "# Tidy chromosomes -> numeric (X=23, Y=24), drop weird ones\n",
        "df$CHR[df$CHR %in% c(\"X\",\"x\")] <- 23\n",
        "df$CHR[df$CHR %in% c(\"Y\",\"y\")] <- 24\n",
        "df$CHR <- suppressWarnings(as.integer(df$CHR))\n",
        "df <- df[!is.na(df$CHR) & !is.na(df$BP) & !is.na(df$P), ]\n",
        "\n",
        "# Highlight FDR<0.05 hits (optional)\n",
        "hl <- rownames(res)[!is.na(res$fdr) & res$fdr < 0.05]\n",
        "\n",
        "# Plot\n",
        "options(repr.plot.width = 14, repr.plot.height = 5)\n",
        "\n",
        "manhattan(df, ylim = c(0, 100),\n",
        "          cex = 0.7,     # point size\n",
        "          cex.axis = 1.0, cex.lab = 1.2, # axis/text sizes\n",
        "          col = c(\"grey30\",\"grey60\"), # alternating chrom colors\n",
        "          genomewideline = -log10(1e-7),\n",
        "          suggestiveline = -log10(1e-5),\n",
        "          highlight = hl)   # FDR<0.05 hits\n"
      ],
      "metadata": {
        "id": "1yf9iNoPUJkM",
        "colab": {
          "base_uri": "https://localhost:8080/",
          "height": 317
        },
        "outputId": "f1294721-1f21-430e-8736-132f2ba8c527"
      },
      "execution_count": 29,
      "outputs": [
        {
          "output_type": "display_data",
          "data": {
            "text/plain": [
              "plot without title"
            ],
            "image/png": "[encoded data removed]"
          },
          "metadata": {
            "image/png": {
              "width": 840,
              "height": 300
            }
          }
        }
      ]
    },
    {
      "cell_type": "markdown",
      "source": [
        "**Comment:**\n",
        "The Manhattan plot shows the strongest signals clustered on chromosome 5 (a classic smoking region around AHRR), with additional peaks on chromosomes 2 and 20. * cg05575921, it is located in chromosome 5"
      ],
      "metadata": {
        "id": "k76u7XyFKugI"
      }
    },
    {
      "cell_type": "markdown",
      "source": [
        "### **Additional: Report meffil**\n",
        "\n",
        "Addtiionally meffil allows to create a report by  meffil.ewas.parameters() and meffil.ewas.summary() functions. This report contains:\n",
        "- Sample characteristics\n",
        "- Covariate associations: Associations between the exposure variable (Smoking) and the covariates.\n",
        "- Lambdas and QQplots to examine inflation (none, all cov, sva)\n",
        "- Manhattan plots\n",
        "- Significant CpG sites. As threshold we will indicate FDR=0.05.\n",
        "- Specific CpGs Box plot: To observe the methylation differences between Never VS Current smokers, you can specify the CpGs that you are interested in.\n",
        "\n",
        "Today we will select our top significant CpG “cg05575921” that is annotated to AHRR gene and it is well known for its association with tabbacco."
      ],
      "metadata": {
        "id": "cFomQVZ-vCI6"
      }
    },
    {
      "cell_type": "code",
      "source": [
        "res <- results_table\n",
        "p_cut <- if (any(!is.na(res$fdr) & res$fdr < 0.05)) max(res$p.value[res$fdr < 0.05], na.rm=TRUE) else 1e-5\n",
        "p_cut"
      ],
      "metadata": {
        "id": "SOfdaavUNHCB",
        "outputId": "ae15353c-359d-413e-eb76-488fa86079ca",
        "colab": {
          "base_uri": "https://localhost:8080/",
          "height": 34
        }
      },
      "execution_count": 30,
      "outputs": [
        {
          "output_type": "display_data",
          "data": {
            "text/html": [
              "0.0035209799411943"
            ],
            "text/markdown": "0.0035209799411943",
            "text/latex": "0.0035209799411943",
            "text/plain": [
              "[1] 0.00352098"
            ]
          },
          "metadata": {}
        }
      ]
    },
    {
      "cell_type": "code",
      "source": [
        "ewas_parameters <- meffil.ewas.parameters(max.plots = 1,\n",
        "                                          model=\"all\",  # model label: \"none\" (unadj) or \"all\" (adj) (opt: \"sva\")\n",
        "                                          sig.threshold = p_cut) #FDR (0.05) = p.value (0.035)\n",
        "candidate_cpg <- c(\"cg05575921\")\n",
        "\n",
        "# Built summary object for the report\n",
        "ewas_summary <- meffil.ewas.summary(rlm_results_ewas_smokers, #meffil.ewas() results\n",
        "                                    methyl_smokers,     # methyaltion matrix\n",
        "                                    selected.cpg.sites = candidate_cpg,\n",
        "                                    parameters = ewas_parameters)\n",
        "\n",
        "# write the HTML report\n",
        "meffil.ewas.report(ewas_summary, output.file = \"EWAS_report_smoking.html\")"
      ],
      "metadata": {
        "id": "zV7a2s2BT9dU",
        "colab": {
          "base_uri": "https://localhost:8080/",
          "height": 1000
        },
        "collapsed": true,
        "outputId": "8ff1d605-9a60-4799-edf3-60b2d0ba9e4d"
      },
      "execution_count": 31,
      "outputs": [
        {
          "output_type": "stream",
          "name": "stdout",
          "text": [
            "[meffil.ewas.summary] Mon Oct 20 19:57:04 2025 QQ plots \n",
            "[meffil.ewas.summary] Mon Oct 20 19:57:05 2025 Manhattan plots \n"
          ]
        },
        {
          "output_type": "stream",
          "name": "stderr",
          "text": [
            "Warning message:\n",
            "\"\u001b[1m\u001b[22mThe `<scale>` argument of `guides()` cannot be `FALSE`. Use \"none\" instead as\n",
            "of ggplot2 3.3.4.\n",
            "\u001b[36mℹ\u001b[39m The deprecated feature was likely used in the \u001b[34mmeffil\u001b[39m package.\n",
            "  Please report the issue to the authors.\"\n"
          ]
        },
        {
          "output_type": "stream",
          "name": "stdout",
          "text": [
            "[meffil.ewas.summary] Mon Oct 20 19:57:06 2025 CpG site plots: 1 \n",
            "[FUN] Mon Oct 20 19:57:06 2025 Plotting cg05575921 \n",
            "[meffil.ewas.summary] Mon Oct 20 19:57:06 2025 Sample characteristics \n",
            "[meffil.ewas.sample.characteristics] Mon Oct 20 19:57:06 2025 summarizing variables \n",
            "[summarize.variable] Mon Oct 20 19:57:06 2025 variable of interest \n",
            "[summarize.variable] Mon Oct 20 19:57:06 2025 Age \n",
            "[summarize.variable] Mon Oct 20 19:57:06 2025 Sex \n",
            "[summarize.variable] Mon Oct 20 19:57:06 2025 Bcell \n",
            "[summarize.variable] Mon Oct 20 19:57:06 2025 CD4T \n",
            "[summarize.variable] Mon Oct 20 19:57:06 2025 CD8T \n",
            "[summarize.variable] Mon Oct 20 19:57:06 2025 Mono \n",
            "[meffil.ewas.covariate.associations] Mon Oct 20 19:57:06 2025 covariate associations \n",
            "[FUN] Mon Oct 20 19:57:06 2025 Age \n"
          ]
        },
        {
          "output_type": "stream",
          "name": "stderr",
          "text": [
            "Warning message in cor.test.default(vars[[var1]], as.integer(vars[[var2]]), method = \"s\"):\n",
            "\"Cannot compute exact p-value with ties\"\n"
          ]
        },
        {
          "output_type": "stream",
          "name": "stdout",
          "text": [
            "[FUN] Mon Oct 20 19:57:06 2025 Sex \n"
          ]
        },
        {
          "output_type": "stream",
          "name": "stderr",
          "text": [
            "Warning message in cor.test.default(as.integer(vars[[1]]), as.integer(vars[[2]]), :\n",
            "\"Cannot compute exact p-value with ties\"\n"
          ]
        },
        {
          "output_type": "stream",
          "name": "stdout",
          "text": [
            "[FUN] Mon Oct 20 19:57:06 2025 Bcell \n"
          ]
        },
        {
          "output_type": "stream",
          "name": "stderr",
          "text": [
            "Warning message in cor.test.default(vars[[var1]], as.integer(vars[[var2]]), method = \"s\"):\n",
            "\"Cannot compute exact p-value with ties\"\n"
          ]
        },
        {
          "output_type": "stream",
          "name": "stdout",
          "text": [
            "[FUN] Mon Oct 20 19:57:06 2025 CD4T \n"
          ]
        },
        {
          "output_type": "stream",
          "name": "stderr",
          "text": [
            "Warning message in cor.test.default(vars[[var1]], as.integer(vars[[var2]]), method = \"s\"):\n",
            "\"Cannot compute exact p-value with ties\"\n"
          ]
        },
        {
          "output_type": "stream",
          "name": "stdout",
          "text": [
            "[FUN] Mon Oct 20 19:57:06 2025 CD8T \n"
          ]
        },
        {
          "output_type": "stream",
          "name": "stderr",
          "text": [
            "Warning message in cor.test.default(vars[[var1]], as.integer(vars[[var2]]), method = \"s\"):\n",
            "\"Cannot compute exact p-value with ties\"\n"
          ]
        },
        {
          "output_type": "stream",
          "name": "stdout",
          "text": [
            "[FUN] Mon Oct 20 19:57:06 2025 Mono \n"
          ]
        },
        {
          "output_type": "stream",
          "name": "stderr",
          "text": [
            "Warning message in cor.test.default(vars[[var1]], as.integer(vars[[var2]]), method = \"s\"):\n",
            "\"Cannot compute exact p-value with ties\"\n"
          ]
        },
        {
          "output_type": "stream",
          "name": "stdout",
          "text": [
            "[meffil.ewas.report] Mon Oct 20 19:57:06 2025 Writing report as html file to EWAS_report_smoking.html \n"
          ]
        },
        {
          "output_type": "stream",
          "name": "stderr",
          "text": [
            "\n",
            "\n",
            "processing file: /usr/local/lib/R/site-library/meffil/reports/ewas-report.rmd\n",
            "\n"
          ]
        },
        {
          "output_type": "stream",
          "name": "stdout",
          "text": [
            "1/36                   \n",
            "2/36 [unnamed-chunk-1] \n",
            "3/36                   \n",
            "4/36 [unnamed-chunk-2] \n",
            "5/36                   \n",
            "6/36 [unnamed-chunk-3] \n"
          ]
        },
        {
          "output_type": "stream",
          "name": "stderr",
          "text": [
            "Warning message in in_dir(input_dir(), expr):\n",
            "\"You changed the working directory to /content (probably via setwd()). It will be restored to /usr/local/lib/R/site-library/meffil/reports. See the Note section in ?knitr::knit\"\n"
          ]
        },
        {
          "output_type": "stream",
          "name": "stdout",
          "text": [
            "7/36                   \n",
            "8/36 [unnamed-chunk-4] \n",
            "9/36                   \n",
            "10/36 [unnamed-chunk-5] \n"
          ]
        },
        {
          "output_type": "stream",
          "name": "stderr",
          "text": [
            "Warning message in in_dir(input_dir(), expr):\n",
            "\"You changed the working directory to /content (probably via setwd()). It will be restored to /usr/local/lib/R/site-library/meffil/reports. See the Note section in ?knitr::knit\"\n"
          ]
        },
        {
          "output_type": "stream",
          "name": "stdout",
          "text": [
            "11/36                   \n",
            "12/36 [unnamed-chunk-6] \n",
            "13/36                   \n",
            "14/36 [unnamed-chunk-7] \n"
          ]
        },
        {
          "output_type": "stream",
          "name": "stderr",
          "text": [
            "Warning message in in_dir(input_dir(), expr):\n",
            "\"You changed the working directory to /content (probably via setwd()). It will be restored to /usr/local/lib/R/site-library/meffil/reports. See the Note section in ?knitr::knit\"\n"
          ]
        },
        {
          "output_type": "stream",
          "name": "stdout",
          "text": [
            "15/36                   \n",
            "16/36 [unnamed-chunk-8] \n",
            "17/36                   \n",
            "18/36 [unnamed-chunk-9] \n",
            "19/36                   \n",
            "20/36 [unnamed-chunk-10]\n",
            "21/36                   \n",
            "22/36 [unnamed-chunk-11]\n",
            "23/36                   \n",
            "24/36 [unnamed-chunk-12]\n",
            "25/36                   \n",
            "26/36 [unnamed-chunk-13]\n"
          ]
        },
        {
          "output_type": "stream",
          "name": "stderr",
          "text": [
            "Warning message in in_dir(input_dir(), expr):\n",
            "\"You changed the working directory to /content (probably via setwd()). It will be restored to /usr/local/lib/R/site-library/meffil/reports. See the Note section in ?knitr::knit\"\n"
          ]
        },
        {
          "output_type": "stream",
          "name": "stdout",
          "text": [
            "27/36                   \n",
            "28/36 [unnamed-chunk-14]\n",
            "29/36                   \n",
            "30/36 [unnamed-chunk-15]\n",
            "31/36                   \n",
            "32/36 [unnamed-chunk-16]\n"
          ]
        },
        {
          "output_type": "stream",
          "name": "stderr",
          "text": [
            "Warning message in in_dir(input_dir(), expr):\n",
            "\"You changed the working directory to /content (probably via setwd()). It will be restored to /usr/local/lib/R/site-library/meffil/reports. See the Note section in ?knitr::knit\"\n"
          ]
        },
        {
          "output_type": "stream",
          "name": "stdout",
          "text": [
            "33/36                   \n",
            "34/36 [unnamed-chunk-17]\n",
            "35/36                   \n",
            "36/36 [unnamed-chunk-18]\n"
          ]
        },
        {
          "output_type": "stream",
          "name": "stderr",
          "text": [
            "output file: /content/EWAS_report_smoking.md\n",
            "\n",
            "\n"
          ]
        },
        {
          "output_type": "display_data",
          "data": {
            "text/html": [
              "'/content/EWAS_report_smoking.html'"
            ],
            "text/markdown": "'/content/EWAS_report_smoking.html'",
            "text/latex": "'/content/EWAS\\_report\\_smoking.html'",
            "text/plain": [
              "[1] \"/content/EWAS_report_smoking.html\""
            ]
          },
          "metadata": {}
        }
      ]
    },
    {
      "cell_type": "markdown",
      "source": [
        "# **5. Downstream analysis**\n",
        "\n",
        "Downstream analyses help interpret the findings and identify cell-type or tissue-specific signals in epigenomic data.\n",
        "\n",
        "- **Web pages resources:** EWAS Catalog / EWAS Atlas: paste your top CpG IDs to see prior associations, directions, tissues, and traits.\n",
        "\n",
        "- **Illumina Annotation:** The Illumina annotation links each CpG to genomic features (e.g., nearby genes, promoter/gene body/UTR, CpG island/shore status, etc.). This helps describe where your significant CpGs sit.\n",
        "\n",
        "- **Gene/pathway enrichment**: Using the gene(s) annotated to your CpGs, you can perform standard enrichment analyses (e.g., GO terms, Reactome).Each library (e.g., GO, Reactome) contains sets of biologically related genes (e.g., “inflammation”). Enrichment asks whether more of your CpG-annotated genes fall into a given term than expected by chance."
      ],
      "metadata": {
        "id": "BwEWXbEhU49v"
      }
    },
    {
      "cell_type": "code",
      "source": [
        "library(IlluminaHumanMethylation450kanno.ilmn12.hg19)\n",
        "library(clusterProfiler)\n",
        "library(org.Hs.eg.db)\n",
        "library(enrichplot)\n",
        "library(DOSE)"
      ],
      "metadata": {
        "id": "08Su8gJ6U9nG",
        "outputId": "d04e0d9a-9f60-4c20-f9ab-99e17d25c0c1",
        "colab": {
          "base_uri": "https://localhost:8080/",
          "height": 106
        }
      },
      "execution_count": 32,
      "outputs": [
        {
          "output_type": "error",
          "ename": "ERROR",
          "evalue": "Error in library(IlluminaHumanMethylation450kanno.ilmn12.hg19): there is no package called 'IlluminaHumanMethylation450kanno.ilmn12.hg19'\n",
          "traceback": [
            "Error in library(IlluminaHumanMethylation450kanno.ilmn12.hg19): there is no package called 'IlluminaHumanMethylation450kanno.ilmn12.hg19'\nTraceback:\n",
            "1. stop(packageNotFoundError(package, lib.loc, sys.call()))"
          ]
        }
      ]
    },
    {
      "cell_type": "markdown",
      "source": [
        "## **4.1 Annotation**\n",
        "\n",
        "We first load the Illumina 450K annotation and attach a few useful columns (there are many more you can explore).\n"
      ],
      "metadata": {
        "id": "7ni26h0_U-J9"
      }
    },
    {
      "cell_type": "code",
      "source": [
        "install.packages('IlluminaHumanMethylation450kanno.ilmn12.hg19')\n",
        "library(IlluminaHumanMethylation450kanno.ilmn12.hg19)\n"
      ],
      "metadata": {
        "collapsed": true,
        "colab": {
          "base_uri": "https://localhost:8080/"
        },
        "id": "8u1JZzd-lqLt",
        "outputId": "f170d23f-f507-4fba-ae0f-05bce504c054"
      },
      "execution_count": 33,
      "outputs": [
        {
          "output_type": "stream",
          "name": "stderr",
          "text": [
            "Installing package into '/usr/local/lib/R/site-library'\n",
            "(as 'lib' is unspecified)\n",
            "\n",
            "also installing the dependencies 'rngtools', 'rhdf5filters', 'Rhdf5lib', 'foreach', 'iterators', 'doRNG', 'multtest', 'scrime', 'sparseMatrixStats', 'h5mread', 'rhdf5', 'bumphunter', 'beanplot', 'nor1mix', 'siggenes', 'DelayedMatrixStats', 'mclust', 'reshape', 'HDF5Array', 'minfi'\n",
            "\n",
            "\n",
            "Loading required package: minfi\n",
            "\n",
            "Loading required package: SummarizedExperiment\n",
            "\n",
            "Loading required package: MatrixGenerics\n",
            "\n",
            "\n",
            "Attaching package: 'MatrixGenerics'\n",
            "\n",
            "\n",
            "The following objects are masked from 'package:matrixStats':\n",
            "\n",
            "    colAlls, colAnyNAs, colAnys, colAvgsPerRowSet, colCollapse,\n",
            "    colCounts, colCummaxs, colCummins, colCumprods, colCumsums,\n",
            "    colDiffs, colIQRDiffs, colIQRs, colLogSumExps, colMadDiffs,\n",
            "    colMads, colMaxs, colMeans2, colMedians, colMins, colOrderStats,\n",
            "    colProds, colQuantiles, colRanges, colRanks, colSdDiffs, colSds,\n",
            "    colSums2, colTabulates, colVarDiffs, colVars, colWeightedMads,\n",
            "    colWeightedMeans, colWeightedMedians, colWeightedSds,\n",
            "    colWeightedVars, rowAlls, rowAnyNAs, rowAnys, rowAvgsPerColSet,\n",
            "    rowCollapse, rowCounts, rowCummaxs, rowCummins, rowCumprods,\n",
            "    rowCumsums, rowDiffs, rowIQRDiffs, rowIQRs, rowLogSumExps,\n",
            "    rowMadDiffs, rowMads, rowMaxs, rowMeans2, rowMedians, rowMins,\n",
            "    rowOrderStats, rowProds, rowQuantiles, rowRanges, rowRanks,\n",
            "    rowSdDiffs, rowSds, rowSums2, rowTabulates, rowVarDiffs, rowVars,\n",
            "    rowWeightedMads, rowWeightedMeans, rowWeightedMedians,\n",
            "    rowWeightedSds, rowWeightedVars\n",
            "\n",
            "\n",
            "The following objects are masked from 'package:genefilter':\n",
            "\n",
            "    rowSds, rowVars\n",
            "\n",
            "\n",
            "The following object is masked from 'package:Biobase':\n",
            "\n",
            "    rowMedians\n",
            "\n",
            "\n",
            "Loading required package: Biostrings\n",
            "\n",
            "Loading required package: XVector\n",
            "\n",
            "\n",
            "Attaching package: 'XVector'\n",
            "\n",
            "\n",
            "The following object is masked from 'package:plyr':\n",
            "\n",
            "    compact\n",
            "\n",
            "\n",
            "\n",
            "Attaching package: 'Biostrings'\n",
            "\n",
            "\n",
            "The following object is masked from 'package:base':\n",
            "\n",
            "    strsplit\n",
            "\n",
            "\n",
            "Loading required package: bumphunter\n",
            "\n",
            "Loading required package: foreach\n",
            "\n",
            "Loading required package: iterators\n",
            "\n",
            "Loading required package: locfit\n",
            "\n",
            "locfit 1.5-9.12 \t 2025-03-05\n",
            "\n",
            "\n",
            "Attaching package: 'locfit'\n",
            "\n",
            "\n",
            "The following object is masked from 'package:mgcv':\n",
            "\n",
            "    lp\n",
            "\n",
            "\n"
          ]
        }
      ]
    },
    {
      "cell_type": "code",
      "source": [
        "data(\"IlluminaHumanMethylation450kanno.ilmn12.hg19\")\n",
        "annotation_table <- getAnnotation(IlluminaHumanMethylation450kanno.ilmn12.hg19)\n",
        "dim(annotation_table)"
      ],
      "metadata": {
        "id": "28GNRcB4Vsif",
        "colab": {
          "base_uri": "https://localhost:8080/",
          "height": 34
        },
        "outputId": "b711035d-863e-4dda-d0b2-e62f88790550"
      },
      "execution_count": 34,
      "outputs": [
        {
          "output_type": "display_data",
          "data": {
            "text/html": [
              "<style>\n",
              ".list-inline {list-style: none; margin:0; padding: 0}\n",
              ".list-inline>li {display: inline-block}\n",
              ".list-inline>li:not(:last-child)::after {content: \"\\00b7\"; padding: 0 .5ex}\n",
              "</style>\n",
              "<ol class=list-inline><li>485512</li><li>33</li></ol>\n"
            ],
            "text/markdown": "1. 485512\n2. 33\n\n\n",
            "text/latex": "\\begin{enumerate*}\n\\item 485512\n\\item 33\n\\end{enumerate*}\n",
            "text/plain": [
              "[1] 485512     33"
            ]
          },
          "metadata": {}
        }
      ]
    },
    {
      "cell_type": "code",
      "source": [
        "# Keep columns we're interested in\n",
        "annotation_df <- as.data.frame(annotation_table[,c(\"chr\",\"pos\",\"strand\",\n",
        "                                                    \"Name\",\"Islands_Name\",\n",
        "                                                    \"Relation_to_Island\",\n",
        "                                                    \"UCSC_RefGene_Name\",\n",
        "                                                    \"UCSC_RefGene_Group\")])\n",
        "head(annotation_df)"
      ],
      "metadata": {
        "id": "2YhLKmMGVu9Y",
        "colab": {
          "base_uri": "https://localhost:8080/",
          "height": 286
        },
        "outputId": "1e1a3c48-5253-47b6-807e-f853987f7724"
      },
      "execution_count": 35,
      "outputs": [
        {
          "output_type": "display_data",
          "data": {
            "text/html": [
              "<table class=\"dataframe\">\n",
              "<caption>A data.frame: 6 × 8</caption>\n",
              "<thead>\n",
              "\t<tr><th></th><th scope=col>chr</th><th scope=col>pos</th><th scope=col>strand</th><th scope=col>Name</th><th scope=col>Islands_Name</th><th scope=col>Relation_to_Island</th><th scope=col>UCSC_RefGene_Name</th><th scope=col>UCSC_RefGene_Group</th></tr>\n",
              "\t<tr><th></th><th scope=col>&lt;chr&gt;</th><th scope=col>&lt;int&gt;</th><th scope=col>&lt;chr&gt;</th><th scope=col>&lt;chr&gt;</th><th scope=col>&lt;chr&gt;</th><th scope=col>&lt;chr&gt;</th><th scope=col>&lt;chr&gt;</th><th scope=col>&lt;chr&gt;</th></tr>\n",
              "</thead>\n",
              "<tbody>\n",
              "\t<tr><th scope=row>cg00050873</th><td>chrY</td><td> 9363356</td><td>-</td><td>cg00050873</td><td>chrY:9363680-9363943  </td><td>N_Shore</td><td>TSPY4;FAM197Y2   </td><td>Body;TSS1500        </td></tr>\n",
              "\t<tr><th scope=row>cg00212031</th><td>chrY</td><td>21239348</td><td>-</td><td>cg00212031</td><td>chrY:21238448-21240005</td><td>Island </td><td>TTTY14           </td><td>TSS200              </td></tr>\n",
              "\t<tr><th scope=row>cg00213748</th><td>chrY</td><td> 8148233</td><td>-</td><td>cg00213748</td><td>chrY:8147877-8148210  </td><td>S_Shore</td><td>                 </td><td>                    </td></tr>\n",
              "\t<tr><th scope=row>cg00214611</th><td>chrY</td><td>15815688</td><td>-</td><td>cg00214611</td><td>chrY:15815488-15815779</td><td>Island </td><td>TMSB4Y;TMSB4Y    </td><td>1stExon;5'UTR       </td></tr>\n",
              "\t<tr><th scope=row>cg00455876</th><td>chrY</td><td> 9385539</td><td>-</td><td>cg00455876</td><td>chrY:9385471-9385777  </td><td>Island </td><td>                 </td><td>                    </td></tr>\n",
              "\t<tr><th scope=row>cg01707559</th><td>chrY</td><td> 6778695</td><td>+</td><td>cg01707559</td><td>chrY:6778574-6780028  </td><td>Island </td><td>TBL1Y;TBL1Y;TBL1Y</td><td>TSS200;TSS200;TSS200</td></tr>\n",
              "</tbody>\n",
              "</table>\n"
            ],
            "text/markdown": "\nA data.frame: 6 × 8\n\n| <!--/--> | chr &lt;chr&gt; | pos &lt;int&gt; | strand &lt;chr&gt; | Name &lt;chr&gt; | Islands_Name &lt;chr&gt; | Relation_to_Island &lt;chr&gt; | UCSC_RefGene_Name &lt;chr&gt; | UCSC_RefGene_Group &lt;chr&gt; |\n|---|---|---|---|---|---|---|---|---|\n| cg00050873 | chrY |  9363356 | - | cg00050873 | chrY:9363680-9363943   | N_Shore | TSPY4;FAM197Y2    | Body;TSS1500         |\n| cg00212031 | chrY | 21239348 | - | cg00212031 | chrY:21238448-21240005 | Island  | TTTY14            | TSS200               |\n| cg00213748 | chrY |  8148233 | - | cg00213748 | chrY:8147877-8148210   | S_Shore | <!----> | <!----> |\n| cg00214611 | chrY | 15815688 | - | cg00214611 | chrY:15815488-15815779 | Island  | TMSB4Y;TMSB4Y     | 1stExon;5'UTR        |\n| cg00455876 | chrY |  9385539 | - | cg00455876 | chrY:9385471-9385777   | Island  | <!----> | <!----> |\n| cg01707559 | chrY |  6778695 | + | cg01707559 | chrY:6778574-6780028   | Island  | TBL1Y;TBL1Y;TBL1Y | TSS200;TSS200;TSS200 |\n\n",
            "text/latex": "A data.frame: 6 × 8\n\\begin{tabular}{r|llllllll}\n  & chr & pos & strand & Name & Islands\\_Name & Relation\\_to\\_Island & UCSC\\_RefGene\\_Name & UCSC\\_RefGene\\_Group\\\\\n  & <chr> & <int> & <chr> & <chr> & <chr> & <chr> & <chr> & <chr>\\\\\n\\hline\n\tcg00050873 & chrY &  9363356 & - & cg00050873 & chrY:9363680-9363943   & N\\_Shore & TSPY4;FAM197Y2    & Body;TSS1500        \\\\\n\tcg00212031 & chrY & 21239348 & - & cg00212031 & chrY:21238448-21240005 & Island  & TTTY14            & TSS200              \\\\\n\tcg00213748 & chrY &  8148233 & - & cg00213748 & chrY:8147877-8148210   & S\\_Shore &                   &                     \\\\\n\tcg00214611 & chrY & 15815688 & - & cg00214611 & chrY:15815488-15815779 & Island  & TMSB4Y;TMSB4Y     & 1stExon;5'UTR       \\\\\n\tcg00455876 & chrY &  9385539 & - & cg00455876 & chrY:9385471-9385777   & Island  &                   &                     \\\\\n\tcg01707559 & chrY &  6778695 & + & cg01707559 & chrY:6778574-6780028   & Island  & TBL1Y;TBL1Y;TBL1Y & TSS200;TSS200;TSS200\\\\\n\\end{tabular}\n",
            "text/plain": [
              "           chr  pos      strand Name       Islands_Name          \n",
              "cg00050873 chrY  9363356 -      cg00050873 chrY:9363680-9363943  \n",
              "cg00212031 chrY 21239348 -      cg00212031 chrY:21238448-21240005\n",
              "cg00213748 chrY  8148233 -      cg00213748 chrY:8147877-8148210  \n",
              "cg00214611 chrY 15815688 -      cg00214611 chrY:15815488-15815779\n",
              "cg00455876 chrY  9385539 -      cg00455876 chrY:9385471-9385777  \n",
              "cg01707559 chrY  6778695 +      cg01707559 chrY:6778574-6780028  \n",
              "           Relation_to_Island UCSC_RefGene_Name UCSC_RefGene_Group  \n",
              "cg00050873 N_Shore            TSPY4;FAM197Y2    Body;TSS1500        \n",
              "cg00212031 Island             TTTY14            TSS200              \n",
              "cg00213748 S_Shore                                                  \n",
              "cg00214611 Island             TMSB4Y;TMSB4Y     1stExon;5'UTR       \n",
              "cg00455876 Island                                                   \n",
              "cg01707559 Island             TBL1Y;TBL1Y;TBL1Y TSS200;TSS200;TSS200"
            ]
          },
          "metadata": {}
        }
      ]
    },
    {
      "cell_type": "code",
      "source": [
        "head(results_table)"
      ],
      "metadata": {
        "colab": {
          "base_uri": "https://localhost:8080/",
          "height": 306
        },
        "id": "stk_vu6AsNKO",
        "outputId": "70ceda49-5199-41fe-c6aa-a98a740f4459"
      },
      "execution_count": 36,
      "outputs": [
        {
          "output_type": "display_data",
          "data": {
            "text/html": [
              "<table class=\"dataframe\">\n",
              "<caption>A data.frame: 6 × 11</caption>\n",
              "<thead>\n",
              "\t<tr><th></th><th scope=col>p.value</th><th scope=col>fdr</th><th scope=col>p.holm</th><th scope=col>t.statistic</th><th scope=col>coefficient</th><th scope=col>coefficient.ci.high</th><th scope=col>coefficient.ci.low</th><th scope=col>coefficient.se</th><th scope=col>n</th><th scope=col>chromosome</th><th scope=col>position</th></tr>\n",
              "\t<tr><th></th><th scope=col>&lt;dbl&gt;</th><th scope=col>&lt;dbl&gt;</th><th scope=col>&lt;dbl&gt;</th><th scope=col>&lt;dbl&gt;</th><th scope=col>&lt;dbl&gt;</th><th scope=col>&lt;dbl&gt;</th><th scope=col>&lt;dbl&gt;</th><th scope=col>&lt;dbl&gt;</th><th scope=col>&lt;int&gt;</th><th scope=col>&lt;chr&gt;</th><th scope=col>&lt;int&gt;</th></tr>\n",
              "</thead>\n",
              "<tbody>\n",
              "\t<tr><th scope=row>cg02432075</th><td>0.53486945</td><td>0.7685430</td><td>1</td><td> 0.6217726</td><td> 0.0021649232</td><td>0.009034919</td><td>-0.004705073</td><td>0.003481857</td><td>188</td><td>chrY</td><td>  4870822</td></tr>\n",
              "\t<tr><th scope=row>cg03515901</th><td>0.42731987</td><td>0.6920881</td><td>1</td><td> 0.7955773</td><td> 0.0027648782</td><td>0.009622212</td><td>-0.004092455</td><td>0.003475311</td><td>187</td><td>chrY</td><td>  3447157</td></tr>\n",
              "\t<tr><th scope=row>cg04023335</th><td>0.20037631</td><td>0.4687007</td><td>1</td><td>-1.2851402</td><td>-0.0061511571</td><td>0.003292754</td><td>-0.015595068</td><td>0.004786370</td><td>188</td><td>chrY</td><td> 14100573</td></tr>\n",
              "\t<tr><th scope=row>cg08455548</th><td>0.90398307</td><td>0.9627875</td><td>1</td><td>-0.1207995</td><td>-0.0003976968</td><td>0.006098099</td><td>-0.006893493</td><td>0.003292205</td><td>188</td><td>chrY</td><td>  4867968</td></tr>\n",
              "\t<tr><th scope=row>cg00006815</th><td>0.08455268</td><td>0.2989203</td><td>1</td><td>-1.7343301</td><td>-0.0095942150</td><td>0.001320773</td><td>-0.020509203</td><td>0.005531943</td><td>188</td><td>chrX</td><td>104566227</td></tr>\n",
              "\t<tr><th scope=row>cg00018204</th><td>0.11938951</td><td>0.3587658</td><td>1</td><td> 1.5647036</td><td> 0.0061711139</td><td>0.013952860</td><td>-0.001610632</td><td>0.003943951</td><td>188</td><td>chrX</td><td>151960304</td></tr>\n",
              "</tbody>\n",
              "</table>\n"
            ],
            "text/markdown": "\nA data.frame: 6 × 11\n\n| <!--/--> | p.value &lt;dbl&gt; | fdr &lt;dbl&gt; | p.holm &lt;dbl&gt; | t.statistic &lt;dbl&gt; | coefficient &lt;dbl&gt; | coefficient.ci.high &lt;dbl&gt; | coefficient.ci.low &lt;dbl&gt; | coefficient.se &lt;dbl&gt; | n &lt;int&gt; | chromosome &lt;chr&gt; | position &lt;int&gt; |\n|---|---|---|---|---|---|---|---|---|---|---|---|\n| cg02432075 | 0.53486945 | 0.7685430 | 1 |  0.6217726 |  0.0021649232 | 0.009034919 | -0.004705073 | 0.003481857 | 188 | chrY |   4870822 |\n| cg03515901 | 0.42731987 | 0.6920881 | 1 |  0.7955773 |  0.0027648782 | 0.009622212 | -0.004092455 | 0.003475311 | 187 | chrY |   3447157 |\n| cg04023335 | 0.20037631 | 0.4687007 | 1 | -1.2851402 | -0.0061511571 | 0.003292754 | -0.015595068 | 0.004786370 | 188 | chrY |  14100573 |\n| cg08455548 | 0.90398307 | 0.9627875 | 1 | -0.1207995 | -0.0003976968 | 0.006098099 | -0.006893493 | 0.003292205 | 188 | chrY |   4867968 |\n| cg00006815 | 0.08455268 | 0.2989203 | 1 | -1.7343301 | -0.0095942150 | 0.001320773 | -0.020509203 | 0.005531943 | 188 | chrX | 104566227 |\n| cg00018204 | 0.11938951 | 0.3587658 | 1 |  1.5647036 |  0.0061711139 | 0.013952860 | -0.001610632 | 0.003943951 | 188 | chrX | 151960304 |\n\n",
            "text/latex": "A data.frame: 6 × 11\n\\begin{tabular}{r|lllllllllll}\n  & p.value & fdr & p.holm & t.statistic & coefficient & coefficient.ci.high & coefficient.ci.low & coefficient.se & n & chromosome & position\\\\\n  & <dbl> & <dbl> & <dbl> & <dbl> & <dbl> & <dbl> & <dbl> & <dbl> & <int> & <chr> & <int>\\\\\n\\hline\n\tcg02432075 & 0.53486945 & 0.7685430 & 1 &  0.6217726 &  0.0021649232 & 0.009034919 & -0.004705073 & 0.003481857 & 188 & chrY &   4870822\\\\\n\tcg03515901 & 0.42731987 & 0.6920881 & 1 &  0.7955773 &  0.0027648782 & 0.009622212 & -0.004092455 & 0.003475311 & 187 & chrY &   3447157\\\\\n\tcg04023335 & 0.20037631 & 0.4687007 & 1 & -1.2851402 & -0.0061511571 & 0.003292754 & -0.015595068 & 0.004786370 & 188 & chrY &  14100573\\\\\n\tcg08455548 & 0.90398307 & 0.9627875 & 1 & -0.1207995 & -0.0003976968 & 0.006098099 & -0.006893493 & 0.003292205 & 188 & chrY &   4867968\\\\\n\tcg00006815 & 0.08455268 & 0.2989203 & 1 & -1.7343301 & -0.0095942150 & 0.001320773 & -0.020509203 & 0.005531943 & 188 & chrX & 104566227\\\\\n\tcg00018204 & 0.11938951 & 0.3587658 & 1 &  1.5647036 &  0.0061711139 & 0.013952860 & -0.001610632 & 0.003943951 & 188 & chrX & 151960304\\\\\n\\end{tabular}\n",
            "text/plain": [
              "           p.value    fdr       p.holm t.statistic coefficient  \n",
              "cg02432075 0.53486945 0.7685430 1       0.6217726   0.0021649232\n",
              "cg03515901 0.42731987 0.6920881 1       0.7955773   0.0027648782\n",
              "cg04023335 0.20037631 0.4687007 1      -1.2851402  -0.0061511571\n",
              "cg08455548 0.90398307 0.9627875 1      -0.1207995  -0.0003976968\n",
              "cg00006815 0.08455268 0.2989203 1      -1.7343301  -0.0095942150\n",
              "cg00018204 0.11938951 0.3587658 1       1.5647036   0.0061711139\n",
              "           coefficient.ci.high coefficient.ci.low coefficient.se n   chromosome\n",
              "cg02432075 0.009034919         -0.004705073       0.003481857    188 chrY      \n",
              "cg03515901 0.009622212         -0.004092455       0.003475311    187 chrY      \n",
              "cg04023335 0.003292754         -0.015595068       0.004786370    188 chrY      \n",
              "cg08455548 0.006098099         -0.006893493       0.003292205    188 chrY      \n",
              "cg00006815 0.001320773         -0.020509203       0.005531943    188 chrX      \n",
              "cg00018204 0.013952860         -0.001610632       0.003943951    188 chrX      \n",
              "           position \n",
              "cg02432075   4870822\n",
              "cg03515901   3447157\n",
              "cg04023335  14100573\n",
              "cg08455548   4867968\n",
              "cg00006815 104566227\n",
              "cg00018204 151960304"
            ]
          },
          "metadata": {}
        }
      ]
    },
    {
      "cell_type": "code",
      "source": [
        "# CpG IDs in results tabble are rownames; in the annotation they’re in column \"Name\"\n",
        "# Add probe ID as a column, merge, and keep all results\n",
        "results_table$Probe <- rownames(results_table)\n",
        "\n",
        "# Merge/Add new annotaiton columns to our resullts\n",
        "results_table_anno <- merge(results_table, annotation_df, by.x = \"Probe\", by.y = \"Name\", all.x = TRUE, sort = FALSE)\n",
        "\n",
        "# put Probe back as rownames\n",
        "rownames(results_table_anno) <- results_table_anno$Probe\n",
        "\n",
        "# Order by p-value (ascending)\n",
        "results_table_anno <- results_table_anno[order(results_table_anno$p.value), ]\n",
        "\n",
        "results_table_anno[1:10,]\n"
      ],
      "metadata": {
        "id": "oebyFlHqVwz4",
        "colab": {
          "base_uri": "https://localhost:8080/",
          "height": 605
        },
        "outputId": "5204503c-6ed9-45ec-8813-d69a522769a4"
      },
      "execution_count": 37,
      "outputs": [
        {
          "output_type": "display_data",
          "data": {
            "text/html": [
              "<table class=\"dataframe\">\n",
              "<caption>A data.frame: 10 × 19</caption>\n",
              "<thead>\n",
              "\t<tr><th></th><th scope=col>Probe</th><th scope=col>p.value</th><th scope=col>fdr</th><th scope=col>p.holm</th><th scope=col>t.statistic</th><th scope=col>coefficient</th><th scope=col>coefficient.ci.high</th><th scope=col>coefficient.ci.low</th><th scope=col>coefficient.se</th><th scope=col>n</th><th scope=col>chromosome</th><th scope=col>position</th><th scope=col>chr</th><th scope=col>pos</th><th scope=col>strand</th><th scope=col>Islands_Name</th><th scope=col>Relation_to_Island</th><th scope=col>UCSC_RefGene_Name</th><th scope=col>UCSC_RefGene_Group</th></tr>\n",
              "\t<tr><th></th><th scope=col>&lt;chr&gt;</th><th scope=col>&lt;dbl&gt;</th><th scope=col>&lt;dbl&gt;</th><th scope=col>&lt;dbl&gt;</th><th scope=col>&lt;dbl&gt;</th><th scope=col>&lt;dbl&gt;</th><th scope=col>&lt;dbl&gt;</th><th scope=col>&lt;dbl&gt;</th><th scope=col>&lt;dbl&gt;</th><th scope=col>&lt;int&gt;</th><th scope=col>&lt;chr&gt;</th><th scope=col>&lt;int&gt;</th><th scope=col>&lt;chr&gt;</th><th scope=col>&lt;int&gt;</th><th scope=col>&lt;chr&gt;</th><th scope=col>&lt;chr&gt;</th><th scope=col>&lt;chr&gt;</th><th scope=col>&lt;chr&gt;</th><th scope=col>&lt;chr&gt;</th></tr>\n",
              "</thead>\n",
              "<tbody>\n",
              "\t<tr><th scope=row>cg05575921</th><td>cg05575921</td><td>1.092977e-76</td><td>4.136045e-72</td><td>4.136045e-72</td><td>-32.01506</td><td>-0.24375516</td><td>-0.22873256</td><td>-0.25877776</td><td>0.007613766</td><td>188</td><td>chr5 </td><td>   373263</td><td>chr5 </td><td>   373378</td><td>+</td><td>chr5:373842-374426      </td><td>N_Shore</td><td>AHRR          </td><td>Body             </td></tr>\n",
              "\t<tr><th scope=row>cg23576855</th><td>cg23576855</td><td>1.661856e-56</td><td>3.144398e-52</td><td>6.288630e-52</td><td>-23.29780</td><td>-0.23729734</td><td>-0.21720069</td><td>-0.25739399</td><td>0.010185399</td><td>188</td><td>chr5 </td><td>   373299</td><td>chr5 </td><td>   373299</td><td>-</td><td>chr5:373842-374426      </td><td>N_Shore</td><td>AHRR          </td><td>Body             </td></tr>\n",
              "\t<tr><th scope=row>cg05951221</th><td>cg05951221</td><td>5.365715e-41</td><td>6.768313e-37</td><td>2.030387e-36</td><td>-17.54984</td><td>-0.11681691</td><td>-0.10368348</td><td>-0.12995034</td><td>0.006656296</td><td>188</td><td>chr2 </td><td>233284402</td><td>chr2 </td><td>233284402</td><td>+</td><td>chr2:233283397-233285959</td><td>Island </td><td>              </td><td>                 </td></tr>\n",
              "\t<tr><th scope=row>cg21566642</th><td>cg21566642</td><td>8.394078e-41</td><td>7.941217e-37</td><td>3.176235e-36</td><td>-17.48144</td><td>-0.16984745</td><td>-0.15067722</td><td>-0.18901768</td><td>0.009715872</td><td>188</td><td>chr2 </td><td>232419951</td><td>chr2 </td><td>233284661</td><td>-</td><td>chr2:233283397-233285959</td><td>Island </td><td>              </td><td>                 </td></tr>\n",
              "\t<tr><th scope=row>cg01940273</th><td>cg01940273</td><td>2.260473e-32</td><td>1.710816e-28</td><td>8.553176e-28</td><td>-14.56908</td><td>-0.09901592</td><td>-0.08560624</td><td>-0.11242560</td><td>0.006796305</td><td>188</td><td>chr2 </td><td>232420224</td><td>chr2 </td><td>233284934</td><td>-</td><td>chr2:233283397-233285959</td><td>Island </td><td>              </td><td>                 </td></tr>\n",
              "\t<tr><th scope=row>cg03636183</th><td>cg03636183</td><td>4.530138e-29</td><td>2.857158e-25</td><td>1.714068e-24</td><td>-13.44648</td><td>-0.11366698</td><td>-0.09698793</td><td>-0.13034604</td><td>0.008453292</td><td>188</td><td>chr19</td><td> 16889774</td><td>chr19</td><td> 17000585</td><td>-</td><td>chr19:17000627-17001398 </td><td>N_Shore</td><td>F2RL3         </td><td>Body             </td></tr>\n",
              "\t<tr><th scope=row>cg06126421</th><td>cg06126421</td><td>1.994295e-26</td><td>1.078116e-22</td><td>7.545614e-22</td><td>-12.54843</td><td>-0.13094919</td><td>-0.11035906</td><td>-0.15153932</td><td>0.010435504</td><td>188</td><td>chr6 </td><td> 30752303</td><td>chr6 </td><td> 30720080</td><td>-</td><td>                        </td><td>OpenSea</td><td>              </td><td>                 </td></tr>\n",
              "\t<tr><th scope=row>cg19572487</th><td>cg19572487</td><td>2.340553e-23</td><td>1.107140e-19</td><td>8.855484e-19</td><td>-11.50040</td><td>-0.08704351</td><td>-0.07210976</td><td>-0.10197726</td><td>0.007568736</td><td>188</td><td>chr17</td><td> 40319772</td><td>chr17</td><td> 38476024</td><td>-</td><td>chr17:38474197-38474980 </td><td>S_Shore</td><td>RARA;RARA;RARA</td><td>5'UTR;5'UTR;5'UTR</td></tr>\n",
              "\t<tr><th scope=row>cg09935388</th><td>cg09935388</td><td>3.376891e-23</td><td>1.419870e-19</td><td>1.277613e-18</td><td>-11.44575</td><td>-0.12073480</td><td>-0.09992184</td><td>-0.14154775</td><td>0.010548440</td><td>188</td><td>chr1 </td><td> 92482031</td><td>chr1 </td><td> 92947588</td><td>+</td><td>chr1:92945907-92952609  </td><td>Island </td><td>GFI1;GFI1;GFI1</td><td>Body;Body;Body   </td></tr>\n",
              "\t<tr><th scope=row>cg21161138</th><td>cg21161138</td><td>1.012255e-22</td><td>3.830577e-19</td><td>3.829666e-18</td><td>-11.28183</td><td>-0.07389070</td><td>-0.06096793</td><td>-0.08681347</td><td>0.006549529</td><td>188</td><td>chr5 </td><td>   399245</td><td>chr5 </td><td>   399360</td><td>-</td><td>                        </td><td>OpenSea</td><td>AHRR          </td><td>Body             </td></tr>\n",
              "</tbody>\n",
              "</table>\n"
            ],
            "text/markdown": "\nA data.frame: 10 × 19\n\n| <!--/--> | Probe &lt;chr&gt; | p.value &lt;dbl&gt; | fdr &lt;dbl&gt; | p.holm &lt;dbl&gt; | t.statistic &lt;dbl&gt; | coefficient &lt;dbl&gt; | coefficient.ci.high &lt;dbl&gt; | coefficient.ci.low &lt;dbl&gt; | coefficient.se &lt;dbl&gt; | n &lt;int&gt; | chromosome &lt;chr&gt; | position &lt;int&gt; | chr &lt;chr&gt; | pos &lt;int&gt; | strand &lt;chr&gt; | Islands_Name &lt;chr&gt; | Relation_to_Island &lt;chr&gt; | UCSC_RefGene_Name &lt;chr&gt; | UCSC_RefGene_Group &lt;chr&gt; |\n|---|---|---|---|---|---|---|---|---|---|---|---|---|---|---|---|---|---|---|---|\n| cg05575921 | cg05575921 | 1.092977e-76 | 4.136045e-72 | 4.136045e-72 | -32.01506 | -0.24375516 | -0.22873256 | -0.25877776 | 0.007613766 | 188 | chr5  |    373263 | chr5  |    373378 | + | chr5:373842-374426       | N_Shore | AHRR           | Body              |\n| cg23576855 | cg23576855 | 1.661856e-56 | 3.144398e-52 | 6.288630e-52 | -23.29780 | -0.23729734 | -0.21720069 | -0.25739399 | 0.010185399 | 188 | chr5  |    373299 | chr5  |    373299 | - | chr5:373842-374426       | N_Shore | AHRR           | Body              |\n| cg05951221 | cg05951221 | 5.365715e-41 | 6.768313e-37 | 2.030387e-36 | -17.54984 | -0.11681691 | -0.10368348 | -0.12995034 | 0.006656296 | 188 | chr2  | 233284402 | chr2  | 233284402 | + | chr2:233283397-233285959 | Island  | <!----> | <!----> |\n| cg21566642 | cg21566642 | 8.394078e-41 | 7.941217e-37 | 3.176235e-36 | -17.48144 | -0.16984745 | -0.15067722 | -0.18901768 | 0.009715872 | 188 | chr2  | 232419951 | chr2  | 233284661 | - | chr2:233283397-233285959 | Island  | <!----> | <!----> |\n| cg01940273 | cg01940273 | 2.260473e-32 | 1.710816e-28 | 8.553176e-28 | -14.56908 | -0.09901592 | -0.08560624 | -0.11242560 | 0.006796305 | 188 | chr2  | 232420224 | chr2  | 233284934 | - | chr2:233283397-233285959 | Island  | <!----> | <!----> |\n| cg03636183 | cg03636183 | 4.530138e-29 | 2.857158e-25 | 1.714068e-24 | -13.44648 | -0.11366698 | -0.09698793 | -0.13034604 | 0.008453292 | 188 | chr19 |  16889774 | chr19 |  17000585 | - | chr19:17000627-17001398  | N_Shore | F2RL3          | Body              |\n| cg06126421 | cg06126421 | 1.994295e-26 | 1.078116e-22 | 7.545614e-22 | -12.54843 | -0.13094919 | -0.11035906 | -0.15153932 | 0.010435504 | 188 | chr6  |  30752303 | chr6  |  30720080 | - | <!----> | OpenSea | <!----> | <!----> |\n| cg19572487 | cg19572487 | 2.340553e-23 | 1.107140e-19 | 8.855484e-19 | -11.50040 | -0.08704351 | -0.07210976 | -0.10197726 | 0.007568736 | 188 | chr17 |  40319772 | chr17 |  38476024 | - | chr17:38474197-38474980  | S_Shore | RARA;RARA;RARA | 5'UTR;5'UTR;5'UTR |\n| cg09935388 | cg09935388 | 3.376891e-23 | 1.419870e-19 | 1.277613e-18 | -11.44575 | -0.12073480 | -0.09992184 | -0.14154775 | 0.010548440 | 188 | chr1  |  92482031 | chr1  |  92947588 | + | chr1:92945907-92952609   | Island  | GFI1;GFI1;GFI1 | Body;Body;Body    |\n| cg21161138 | cg21161138 | 1.012255e-22 | 3.830577e-19 | 3.829666e-18 | -11.28183 | -0.07389070 | -0.06096793 | -0.08681347 | 0.006549529 | 188 | chr5  |    399245 | chr5  |    399360 | - | <!----> | OpenSea | AHRR           | Body              |\n\n",
            "text/latex": "A data.frame: 10 × 19\n\\begin{tabular}{r|lllllllllllllllllll}\n  & Probe & p.value & fdr & p.holm & t.statistic & coefficient & coefficient.ci.high & coefficient.ci.low & coefficient.se & n & chromosome & position & chr & pos & strand & Islands\\_Name & Relation\\_to\\_Island & UCSC\\_RefGene\\_Name & UCSC\\_RefGene\\_Group\\\\\n  & <chr> & <dbl> & <dbl> & <dbl> & <dbl> & <dbl> & <dbl> & <dbl> & <dbl> & <int> & <chr> & <int> & <chr> & <int> & <chr> & <chr> & <chr> & <chr> & <chr>\\\\\n\\hline\n\tcg05575921 & cg05575921 & 1.092977e-76 & 4.136045e-72 & 4.136045e-72 & -32.01506 & -0.24375516 & -0.22873256 & -0.25877776 & 0.007613766 & 188 & chr5  &    373263 & chr5  &    373378 & + & chr5:373842-374426       & N\\_Shore & AHRR           & Body             \\\\\n\tcg23576855 & cg23576855 & 1.661856e-56 & 3.144398e-52 & 6.288630e-52 & -23.29780 & -0.23729734 & -0.21720069 & -0.25739399 & 0.010185399 & 188 & chr5  &    373299 & chr5  &    373299 & - & chr5:373842-374426       & N\\_Shore & AHRR           & Body             \\\\\n\tcg05951221 & cg05951221 & 5.365715e-41 & 6.768313e-37 & 2.030387e-36 & -17.54984 & -0.11681691 & -0.10368348 & -0.12995034 & 0.006656296 & 188 & chr2  & 233284402 & chr2  & 233284402 & + & chr2:233283397-233285959 & Island  &                &                  \\\\\n\tcg21566642 & cg21566642 & 8.394078e-41 & 7.941217e-37 & 3.176235e-36 & -17.48144 & -0.16984745 & -0.15067722 & -0.18901768 & 0.009715872 & 188 & chr2  & 232419951 & chr2  & 233284661 & - & chr2:233283397-233285959 & Island  &                &                  \\\\\n\tcg01940273 & cg01940273 & 2.260473e-32 & 1.710816e-28 & 8.553176e-28 & -14.56908 & -0.09901592 & -0.08560624 & -0.11242560 & 0.006796305 & 188 & chr2  & 232420224 & chr2  & 233284934 & - & chr2:233283397-233285959 & Island  &                &                  \\\\\n\tcg03636183 & cg03636183 & 4.530138e-29 & 2.857158e-25 & 1.714068e-24 & -13.44648 & -0.11366698 & -0.09698793 & -0.13034604 & 0.008453292 & 188 & chr19 &  16889774 & chr19 &  17000585 & - & chr19:17000627-17001398  & N\\_Shore & F2RL3          & Body             \\\\\n\tcg06126421 & cg06126421 & 1.994295e-26 & 1.078116e-22 & 7.545614e-22 & -12.54843 & -0.13094919 & -0.11035906 & -0.15153932 & 0.010435504 & 188 & chr6  &  30752303 & chr6  &  30720080 & - &                          & OpenSea &                &                  \\\\\n\tcg19572487 & cg19572487 & 2.340553e-23 & 1.107140e-19 & 8.855484e-19 & -11.50040 & -0.08704351 & -0.07210976 & -0.10197726 & 0.007568736 & 188 & chr17 &  40319772 & chr17 &  38476024 & - & chr17:38474197-38474980  & S\\_Shore & RARA;RARA;RARA & 5'UTR;5'UTR;5'UTR\\\\\n\tcg09935388 & cg09935388 & 3.376891e-23 & 1.419870e-19 & 1.277613e-18 & -11.44575 & -0.12073480 & -0.09992184 & -0.14154775 & 0.010548440 & 188 & chr1  &  92482031 & chr1  &  92947588 & + & chr1:92945907-92952609   & Island  & GFI1;GFI1;GFI1 & Body;Body;Body   \\\\\n\tcg21161138 & cg21161138 & 1.012255e-22 & 3.830577e-19 & 3.829666e-18 & -11.28183 & -0.07389070 & -0.06096793 & -0.08681347 & 0.006549529 & 188 & chr5  &    399245 & chr5  &    399360 & - &                          & OpenSea & AHRR           & Body             \\\\\n\\end{tabular}\n",
            "text/plain": [
              "           Probe      p.value      fdr          p.holm       t.statistic\n",
              "cg05575921 cg05575921 1.092977e-76 4.136045e-72 4.136045e-72 -32.01506  \n",
              "cg23576855 cg23576855 1.661856e-56 3.144398e-52 6.288630e-52 -23.29780  \n",
              "cg05951221 cg05951221 5.365715e-41 6.768313e-37 2.030387e-36 -17.54984  \n",
              "cg21566642 cg21566642 8.394078e-41 7.941217e-37 3.176235e-36 -17.48144  \n",
              "cg01940273 cg01940273 2.260473e-32 1.710816e-28 8.553176e-28 -14.56908  \n",
              "cg03636183 cg03636183 4.530138e-29 2.857158e-25 1.714068e-24 -13.44648  \n",
              "cg06126421 cg06126421 1.994295e-26 1.078116e-22 7.545614e-22 -12.54843  \n",
              "cg19572487 cg19572487 2.340553e-23 1.107140e-19 8.855484e-19 -11.50040  \n",
              "cg09935388 cg09935388 3.376891e-23 1.419870e-19 1.277613e-18 -11.44575  \n",
              "cg21161138 cg21161138 1.012255e-22 3.830577e-19 3.829666e-18 -11.28183  \n",
              "           coefficient coefficient.ci.high coefficient.ci.low coefficient.se\n",
              "cg05575921 -0.24375516 -0.22873256         -0.25877776        0.007613766   \n",
              "cg23576855 -0.23729734 -0.21720069         -0.25739399        0.010185399   \n",
              "cg05951221 -0.11681691 -0.10368348         -0.12995034        0.006656296   \n",
              "cg21566642 -0.16984745 -0.15067722         -0.18901768        0.009715872   \n",
              "cg01940273 -0.09901592 -0.08560624         -0.11242560        0.006796305   \n",
              "cg03636183 -0.11366698 -0.09698793         -0.13034604        0.008453292   \n",
              "cg06126421 -0.13094919 -0.11035906         -0.15153932        0.010435504   \n",
              "cg19572487 -0.08704351 -0.07210976         -0.10197726        0.007568736   \n",
              "cg09935388 -0.12073480 -0.09992184         -0.14154775        0.010548440   \n",
              "cg21161138 -0.07389070 -0.06096793         -0.08681347        0.006549529   \n",
              "           n   chromosome position  chr   pos       strand\n",
              "cg05575921 188 chr5          373263 chr5     373378 +     \n",
              "cg23576855 188 chr5          373299 chr5     373299 -     \n",
              "cg05951221 188 chr2       233284402 chr2  233284402 +     \n",
              "cg21566642 188 chr2       232419951 chr2  233284661 -     \n",
              "cg01940273 188 chr2       232420224 chr2  233284934 -     \n",
              "cg03636183 188 chr19       16889774 chr19  17000585 -     \n",
              "cg06126421 188 chr6        30752303 chr6   30720080 -     \n",
              "cg19572487 188 chr17       40319772 chr17  38476024 -     \n",
              "cg09935388 188 chr1        92482031 chr1   92947588 +     \n",
              "cg21161138 188 chr5          399245 chr5     399360 -     \n",
              "           Islands_Name             Relation_to_Island UCSC_RefGene_Name\n",
              "cg05575921 chr5:373842-374426       N_Shore            AHRR             \n",
              "cg23576855 chr5:373842-374426       N_Shore            AHRR             \n",
              "cg05951221 chr2:233283397-233285959 Island                              \n",
              "cg21566642 chr2:233283397-233285959 Island                              \n",
              "cg01940273 chr2:233283397-233285959 Island                              \n",
              "cg03636183 chr19:17000627-17001398  N_Shore            F2RL3            \n",
              "cg06126421                          OpenSea                             \n",
              "cg19572487 chr17:38474197-38474980  S_Shore            RARA;RARA;RARA   \n",
              "cg09935388 chr1:92945907-92952609   Island             GFI1;GFI1;GFI1   \n",
              "cg21161138                          OpenSea            AHRR             \n",
              "           UCSC_RefGene_Group\n",
              "cg05575921 Body              \n",
              "cg23576855 Body              \n",
              "cg05951221                   \n",
              "cg21566642                   \n",
              "cg01940273                   \n",
              "cg03636183 Body              \n",
              "cg06126421                   \n",
              "cg19572487 5'UTR;5'UTR;5'UTR \n",
              "cg09935388 Body;Body;Body    \n",
              "cg21161138 Body              "
            ]
          },
          "metadata": {}
        }
      ]
    },
    {
      "cell_type": "markdown",
      "source": [
        "We can manually inspect the top hits to see where the genomic context (promoter/body/UTR, island/shore) and which genes they annotate to. In our top 10, we observe:\n",
        "- cg05575921 and cg23576855 → annotated to AHRR (a well-known smoking locus).\n",
        "- cg03636183 → annotated to F2RL3 (frequently reported in smoking EWAS).\n",
        "- cg09935388 → annotated to GFI1.\n",
        "- Several others (e.g., cg05951221, cg21566642, cg01940273, cg06126421, cg19572487) are located in CpG islands without a nearby annotated gene.\n",
        "\n",
        "This quick check helps put the results into biological context before moving on to enrichment or region-based analyses. Also, when the number of significant CpGs is small, gene set enrichment can be hard (few or no annotated genes), so it’s always helpful to manually inspect the top hits"
      ],
      "metadata": {
        "id": "CSpzQp3OVzzg"
      }
    },
    {
      "cell_type": "markdown",
      "source": [
        "## **4.2. Enrichment**\n",
        "To gain more biological insight we can perform enrichment analyses. This step is especially useful when we have many FDR-significant CpG–gene hits.\n",
        "\n",
        "The idea is to compare the genes that overlap our FDR-significant CpGs with background gene sets from public databases (such as GO or Reactome) to check whether our genes are over-represented in any biological pathways or functions—meaning they appear more often than expected by chance.\n",
        "\n",
        "From the annotated results, we’ll keep only the CpGs with FDR < 0.05 and extract their corresponding gene symbols.\n",
        "Next, we’ll convert those gene symbols into standard identifiers—Ensembl and Entrez IDs."
      ],
      "metadata": {
        "id": "3JejtZDZV-rd"
      }
    },
    {
      "cell_type": "code",
      "source": [
        "# Get genes from CpGs with FDR < 0.05\n",
        "fdr_genes <- results_table_anno$UCSC_RefGene_Name[results_table_anno$fdr < 0.05]\n",
        "\n",
        "# Split multiple genes separated by \";\" and keep unique entries\n",
        "fdr_genes <- unique(unlist(strsplit(fdr_genes, \";\")))\n",
        "fdr_genes <- fdr_genes[fdr_genes != \"\"]\n",
        "fdr_genes[1:10]"
      ],
      "metadata": {
        "colab": {
          "base_uri": "https://localhost:8080/",
          "height": 34
        },
        "id": "9BL3X7N6-RTe",
        "outputId": "0da23c45-e5b4-4326-c369-0174e061f095"
      },
      "execution_count": 38,
      "outputs": [
        {
          "output_type": "display_data",
          "data": {
            "text/html": [
              "<style>\n",
              ".list-inline {list-style: none; margin:0; padding: 0}\n",
              ".list-inline>li {display: inline-block}\n",
              ".list-inline>li:not(:last-child)::after {content: \"\\00b7\"; padding: 0 .5ex}\n",
              "</style>\n",
              "<ol class=list-inline><li>'AHRR'</li><li>'F2RL3'</li><li>'RARA'</li><li>'GFI1'</li><li>'GPR15'</li><li>'ANPEP'</li><li>'MYO1G'</li><li>'CNTNAP2'</li><li>'SMAP2'</li><li>'GNG12'</li></ol>\n"
            ],
            "text/markdown": "1. 'AHRR'\n2. 'F2RL3'\n3. 'RARA'\n4. 'GFI1'\n5. 'GPR15'\n6. 'ANPEP'\n7. 'MYO1G'\n8. 'CNTNAP2'\n9. 'SMAP2'\n10. 'GNG12'\n\n\n",
            "text/latex": "\\begin{enumerate*}\n\\item 'AHRR'\n\\item 'F2RL3'\n\\item 'RARA'\n\\item 'GFI1'\n\\item 'GPR15'\n\\item 'ANPEP'\n\\item 'MYO1G'\n\\item 'CNTNAP2'\n\\item 'SMAP2'\n\\item 'GNG12'\n\\end{enumerate*}\n",
            "text/plain": [
              " [1] \"AHRR\"    \"F2RL3\"   \"RARA\"    \"GFI1\"    \"GPR15\"   \"ANPEP\"   \"MYO1G\"  \n",
              " [8] \"CNTNAP2\" \"SMAP2\"   \"GNG12\"  "
            ]
          },
          "metadata": {}
        }
      ]
    },
    {
      "cell_type": "markdown",
      "source": [
        "### **4.2.1. GO terms**\n",
        "We’ll start with Gene Ontology (GO) to test whether particular biological functions or pathways are over-represented in our gene list derived from FDR-significant CpGs.\n",
        "For this, we’ll use the`clusterProfiler::enrichGO()`)."
      ],
      "metadata": {
        "id": "MwFyZTAvV-0X"
      }
    },
    {
      "cell_type": "code",
      "source": [
        "install.packages('clusterProfiler')\n",
        "install.packages('org.Hs.eg.db')\n",
        "library(clusterProfiler)\n",
        "library(org.Hs.eg.db)"
      ],
      "metadata": {
        "colab": {
          "base_uri": "https://localhost:8080/"
        },
        "collapsed": true,
        "id": "3N7kZhP6-b28",
        "outputId": "b73bddc2-ea9b-4f5a-9285-1dd90b5f7559"
      },
      "execution_count": 39,
      "outputs": [
        {
          "output_type": "stream",
          "name": "stderr",
          "text": [
            "Installing package into '/usr/local/lib/R/site-library'\n",
            "(as 'lib' is unspecified)\n",
            "\n",
            "also installing the dependencies 'gridGraphics', 'tweenr', 'polyclip', 'cowplot', 'fastmatch', 'ggplotify', 'patchwork', 'ggforce', 'ape', 'tidytree', 'treeio', 'fgsea', 'aplot', 'ggfun', 'ggnewscale', 'ggtangle', 'scatterpie', 'ggtree', 'DOSE', 'enrichplot', 'GO.db', 'GOSemSim', 'gson', 'igraph', 'yulab.utils'\n",
            "\n",
            "\n",
            "Installing package into '/usr/local/lib/R/site-library'\n",
            "(as 'lib' is unspecified)\n",
            "\n",
            "\n",
            "\n",
            "clusterProfiler v4.16.0 Learn more at https://yulab-smu.top/contribution-knowledge-mining/\n",
            "\n",
            "Please cite:\n",
            "\n",
            "S Xu, E Hu, Y Cai, Z Xie, X Luo, L Zhan, W Tang, Q Wang, B Liu, R Wang,\n",
            "W Xie, T Wu, L Xie, G Yu. Using clusterProfiler to characterize\n",
            "multiomics data. Nature Protocols. 2024, 19(11):3292-3320\n",
            "\n",
            "\n",
            "Attaching package: 'clusterProfiler'\n",
            "\n",
            "\n",
            "The following object is masked from 'package:XVector':\n",
            "\n",
            "    slice\n",
            "\n",
            "\n",
            "The following objects are masked from 'package:plyr':\n",
            "\n",
            "    arrange, mutate, rename, summarise\n",
            "\n",
            "\n",
            "The following object is masked from 'package:MASS':\n",
            "\n",
            "    select\n",
            "\n",
            "\n",
            "The following object is masked from 'package:IRanges':\n",
            "\n",
            "    slice\n",
            "\n",
            "\n",
            "The following object is masked from 'package:S4Vectors':\n",
            "\n",
            "    rename\n",
            "\n",
            "\n",
            "The following object is masked from 'package:stats':\n",
            "\n",
            "    filter\n",
            "\n",
            "\n",
            "Loading required package: AnnotationDbi\n",
            "\n",
            "\n",
            "Attaching package: 'AnnotationDbi'\n",
            "\n",
            "\n",
            "The following object is masked from 'package:clusterProfiler':\n",
            "\n",
            "    select\n",
            "\n",
            "\n",
            "The following object is masked from 'package:MASS':\n",
            "\n",
            "    select\n",
            "\n",
            "\n",
            "\n",
            "\n"
          ]
        }
      ]
    },
    {
      "cell_type": "code",
      "source": [
        "fdr_genes_ids <- bitr(fdr_genes,\n",
        "                      fromType = \"SYMBOL\",\n",
        "                      toType = c(\"ENSEMBL\", \"ENTREZID\"),\n",
        "                      OrgDb = org.Hs.eg.db)\n",
        "\n",
        "head(fdr_genes_ids)"
      ],
      "metadata": {
        "colab": {
          "base_uri": "https://localhost:8080/",
          "height": 355
        },
        "id": "16MgN_Qs-SWV",
        "outputId": "5552df71-7a37-45a2-9339-b0a956302a4b"
      },
      "execution_count": 40,
      "outputs": [
        {
          "output_type": "stream",
          "name": "stderr",
          "text": [
            "'select()' returned 1:many mapping between keys and columns\n",
            "\n",
            "Warning message in bitr(fdr_genes, fromType = \"SYMBOL\", toType = c(\"ENSEMBL\", \"ENTREZID\"), :\n",
            "\"14.09% of input gene IDs are fail to map...\"\n"
          ]
        },
        {
          "output_type": "display_data",
          "data": {
            "text/html": [
              "<table class=\"dataframe\">\n",
              "<caption>A data.frame: 6 × 3</caption>\n",
              "<thead>\n",
              "\t<tr><th></th><th scope=col>SYMBOL</th><th scope=col>ENSEMBL</th><th scope=col>ENTREZID</th></tr>\n",
              "\t<tr><th></th><th scope=col>&lt;chr&gt;</th><th scope=col>&lt;chr&gt;</th><th scope=col>&lt;chr&gt;</th></tr>\n",
              "</thead>\n",
              "<tbody>\n",
              "\t<tr><th scope=row>1</th><td>AHRR </td><td>ENSG00000063438</td><td>57491</td></tr>\n",
              "\t<tr><th scope=row>2</th><td>F2RL3</td><td>ENSG00000127533</td><td>9002 </td></tr>\n",
              "\t<tr><th scope=row>3</th><td>RARA </td><td>ENSG00000131759</td><td>5914 </td></tr>\n",
              "\t<tr><th scope=row>4</th><td>GFI1 </td><td>ENSG00000162676</td><td>2672 </td></tr>\n",
              "\t<tr><th scope=row>5</th><td>GPR15</td><td>ENSG00000154165</td><td>2838 </td></tr>\n",
              "\t<tr><th scope=row>6</th><td>ANPEP</td><td>ENSG00000166825</td><td>290  </td></tr>\n",
              "</tbody>\n",
              "</table>\n"
            ],
            "text/markdown": "\nA data.frame: 6 × 3\n\n| <!--/--> | SYMBOL &lt;chr&gt; | ENSEMBL &lt;chr&gt; | ENTREZID &lt;chr&gt; |\n|---|---|---|---|\n| 1 | AHRR  | ENSG00000063438 | 57491 |\n| 2 | F2RL3 | ENSG00000127533 | 9002  |\n| 3 | RARA  | ENSG00000131759 | 5914  |\n| 4 | GFI1  | ENSG00000162676 | 2672  |\n| 5 | GPR15 | ENSG00000154165 | 2838  |\n| 6 | ANPEP | ENSG00000166825 | 290   |\n\n",
            "text/latex": "A data.frame: 6 × 3\n\\begin{tabular}{r|lll}\n  & SYMBOL & ENSEMBL & ENTREZID\\\\\n  & <chr> & <chr> & <chr>\\\\\n\\hline\n\t1 & AHRR  & ENSG00000063438 & 57491\\\\\n\t2 & F2RL3 & ENSG00000127533 & 9002 \\\\\n\t3 & RARA  & ENSG00000131759 & 5914 \\\\\n\t4 & GFI1  & ENSG00000162676 & 2672 \\\\\n\t5 & GPR15 & ENSG00000154165 & 2838 \\\\\n\t6 & ANPEP & ENSG00000166825 & 290  \\\\\n\\end{tabular}\n",
            "text/plain": [
              "  SYMBOL ENSEMBL         ENTREZID\n",
              "1 AHRR   ENSG00000063438 57491   \n",
              "2 F2RL3  ENSG00000127533 9002    \n",
              "3 RARA   ENSG00000131759 5914    \n",
              "4 GFI1   ENSG00000162676 2672    \n",
              "5 GPR15  ENSG00000154165 2838    \n",
              "6 ANPEP  ENSG00000166825 290     "
            ]
          },
          "metadata": {}
        }
      ]
    },
    {
      "cell_type": "code",
      "source": [
        "df <- as.data.frame(org.Hs.egGO)\n",
        "go_gene_list = unique(sort(df$gene_id))\n",
        "results_enrich_go <- enrichGO(gene = fdr_genes_ids$ENTREZID,\n",
        "                   ont = \"BP\",\n",
        "                   OrgDb =\"org.Hs.eg.db\",\n",
        "                   universe = go_gene_list,\n",
        "                   readable=TRUE,\n",
        "                   pvalueCutoff = 0.05)"
      ],
      "metadata": {
        "id": "N2HY6J9zWGXh"
      },
      "execution_count": 44,
      "outputs": []
    },
    {
      "cell_type": "code",
      "source": [
        "results_enrich_go_df  <- as.data.frame(results_enrich_go)\n",
        "results_enrich_go_df  <- subset(results_enrich_go_df, Count>5)\n",
        "head(results_enrich_go_df)"
      ],
      "metadata": {
        "id": "xBIq_T03WRtZ",
        "outputId": "050f8441-1496-4458-fff8-ea215c7ba913",
        "colab": {
          "base_uri": "https://localhost:8080/",
          "height": 549
        }
      },
      "execution_count": 45,
      "outputs": [
        {
          "output_type": "display_data",
          "data": {
            "text/html": [
              "<table class=\"dataframe\">\n",
              "<caption>A data.frame: 6 × 12</caption>\n",
              "<thead>\n",
              "\t<tr><th></th><th scope=col>ID</th><th scope=col>Description</th><th scope=col>GeneRatio</th><th scope=col>BgRatio</th><th scope=col>RichFactor</th><th scope=col>FoldEnrichment</th><th scope=col>zScore</th><th scope=col>pvalue</th><th scope=col>p.adjust</th><th scope=col>qvalue</th><th scope=col>geneID</th><th scope=col>Count</th></tr>\n",
              "\t<tr><th></th><th scope=col>&lt;chr&gt;</th><th scope=col>&lt;chr&gt;</th><th scope=col>&lt;chr&gt;</th><th scope=col>&lt;chr&gt;</th><th scope=col>&lt;dbl&gt;</th><th scope=col>&lt;dbl&gt;</th><th scope=col>&lt;dbl&gt;</th><th scope=col>&lt;dbl&gt;</th><th scope=col>&lt;dbl&gt;</th><th scope=col>&lt;dbl&gt;</th><th scope=col>&lt;chr&gt;</th><th scope=col>&lt;int&gt;</th></tr>\n",
              "</thead>\n",
              "<tbody>\n",
              "\t<tr><th scope=row>GO:0031589</th><td>GO:0031589</td><td>cell-substrate adhesion                                      </td><td>58/1434</td><td>361/18805</td><td>0.1606648</td><td>2.106905</td><td>6.101319</td><td>4.732788e-08</td><td>0.0002697216</td><td>0.0002383830</td><td>MYO1G/PTK2/HOXA7/ITGAL/SORBS1/ITGB2/PTPRJ/CTTN/COL1A1/CD96/SMAD6/ITGA1/DOCK5/LPXN/CORO2B/MIR92A1/SMAD3/BCL6/EFNA5/ITGB5/CDK6/CDC42/DOCK1/LAMB1/TBCD/CLASP2/SPRY4/NEDD9/CD44/PRKCZ/MAP4K4/PTPRO/ANTXR1/CRK/PARVA/EFEMP2/TNN/TMEM8B/ITGA2B/SNED1/TRIOBP/LIMS1/PIK3R1/ARHGEF7/PKHD1/ZYX/CLASP1/CDK5/RAB1A/KIF14/PTK2B/JAM3/ITGAM/SGCE/TNXB/PHLDB2/THBS1/EPB41L5                                                                                                 </td><td>58</td></tr>\n",
              "\t<tr><th scope=row>GO:0071559</th><td>GO:0071559</td><td>response to transforming growth factor beta                  </td><td>52/1434</td><td>315/18805</td><td>0.1650794</td><td>2.164796</td><td>5.989961</td><td>9.586962e-08</td><td>0.0002731805</td><td>0.0002414401</td><td>PTK2/ZMIZ1/RUNX3/COL1A1/SMAD6/LPXN/MIR19A/MIR20A/MIR17/MIR19B1/MIR18A/CFLAR/SMAD3/HIPK2/PRDM16/ITGB5/IGF1R/PMEPA1/LTBP4/TET1/SKI/ARRB2/NLK/NFATC1/ZFHX3/COL4A2/LRRC32/CRK/BMPR1A/WFIKKN2/ACTA2/LIMS1/CDH3/ZYX/FBN2/STRAP/PPARA/ZBTB7A/SMURF2/FURIN/TP53/SPRED2/PEG10/GDF10/LATS2/THBS1/ING2/MTMR4/HDAC1/FKBP1A/LATS1/EPB41L5                                                                                                                                 </td><td>52</td></tr>\n",
              "\t<tr><th scope=row>GO:0002181</th><td>GO:0002181</td><td>cytoplasmic translation                                      </td><td>34/1434</td><td>169/18805</td><td>0.2011834</td><td>2.638253</td><td>6.146603</td><td>1.473149e-07</td><td>0.0002798492</td><td>0.0002473340</td><td>RPL35/RPL23A/RPS18/RPL8/RPS12/RPL37/RPL4/EIF4G1/RPL7A/RPL13A/RPS6/RPL17/RPL28/RPL27A/UNK/RPS11/RPS25/EIF4A2/RPL18A/RPS2/RPL23/NMNAT2/RPS28/RPL12/METTL3/RPSA/RPL3/EIF4A1/NCK1/RPL10/RPS8/DHX29/ALKBH3/NCBP1                                                                                                                                                                                                                                                  </td><td>34</td></tr>\n",
              "\t<tr><th scope=row>GO:0071560</th><td>GO:0071560</td><td>cellular response to transforming growth factor beta stimulus</td><td>50/1434</td><td>308/18805</td><td>0.1623377</td><td>2.128842</td><td>5.739119</td><td>2.856948e-07</td><td>0.0004070437</td><td>0.0003597499</td><td>PTK2/ZMIZ1/COL1A1/SMAD6/LPXN/MIR19A/MIR20A/MIR17/MIR19B1/MIR18A/CFLAR/SMAD3/HIPK2/PRDM16/ITGB5/IGF1R/PMEPA1/LTBP4/TET1/SKI/ARRB2/NLK/NFATC1/COL4A2/LRRC32/CRK/BMPR1A/WFIKKN2/ACTA2/LIMS1/CDH3/ZYX/FBN2/STRAP/PPARA/ZBTB7A/SMURF2/FURIN/TP53/SPRED2/PEG10/GDF10/LATS2/THBS1/ING2/MTMR4/HDAC1/FKBP1A/LATS1/EPB41L5                                                                                                                                             </td><td>50</td></tr>\n",
              "\t<tr><th scope=row>GO:0007264</th><td>GO:0007264</td><td>small GTPase-mediated signal transduction                    </td><td>69/1434</td><td>487/18805</td><td>0.1416838</td><td>1.857994</td><td>5.511845</td><td>4.008609e-07</td><td>0.0004569012</td><td>0.0004038146</td><td>ARRB1/CDKN1A/CDC42SE1/GNB1/PLEKHG1/CCDC88C/ARHGEF2/GIT1/ARHGAP12/RAPGEF1/DOCK5/TIAM2/DENND4A/MCF2L/SH2B2/BCL6/RHOG/NGF/CDC42/CCDC88A/DOCK1/ARHGEF19/RALA/GPR55/ARHGEF3/ITPKB/TSC2/PLEKHG4/FGF2/SPRY4/ABR/SH2D3A/DOCK9/ARHGEF10/DOCK2/RAPGEF5/MAP4K4/GNA12/RAPGEF2/PSD3/FLOT1/CRK/DHCR24/TRIO/ARHGEF18/KRIT1/FARP1/BCAR3/ARHGEF7/SIAH2/SYNGAP1/CHN1/DAB1/ARHGEF11/RALGPS2/RIT1/RGL2/KIF14/SQSTM1/ARHGAP26/TP53/RALGDS/KALRN/PSD2/CYTH4/CYTH1/RUFY1/DENND3/GMIP</td><td>69</td></tr>\n",
              "\t<tr><th scope=row>GO:0007160</th><td>GO:0007160</td><td>cell-matrix adhesion                                         </td><td>40/1434</td><td>240/18805</td><td>0.1666667</td><td>2.185611</td><td>5.311140</td><td>2.205030e-06</td><td>0.0020944113</td><td>0.0018510649</td><td>PTK2/HOXA7/ITGAL/SORBS1/ITGB2/PTPRJ/CTTN/CD96/ITGA1/CORO2B/MIR92A1/SMAD3/BCL6/EFNA5/ITGB5/CDK6/CLASP2/CD44/PRKCZ/MAP4K4/EFEMP2/TNN/TMEM8B/ITGA2B/SNED1/LIMS1/PIK3R1/ARHGEF7/PKHD1/ZYX/CLASP1/CDK5/PTK2B/JAM3/ITGAM/SGCE/TNXB/PHLDB2/THBS1/EPB41L5                                                                                                                                                                                                            </td><td>40</td></tr>\n",
              "</tbody>\n",
              "</table>\n"
            ],
            "text/markdown": "\nA data.frame: 6 × 12\n\n| <!--/--> | ID &lt;chr&gt; | Description &lt;chr&gt; | GeneRatio &lt;chr&gt; | BgRatio &lt;chr&gt; | RichFactor &lt;dbl&gt; | FoldEnrichment &lt;dbl&gt; | zScore &lt;dbl&gt; | pvalue &lt;dbl&gt; | p.adjust &lt;dbl&gt; | qvalue &lt;dbl&gt; | geneID &lt;chr&gt; | Count &lt;int&gt; |\n|---|---|---|---|---|---|---|---|---|---|---|---|---|\n| GO:0031589 | GO:0031589 | cell-substrate adhesion                                       | 58/1434 | 361/18805 | 0.1606648 | 2.106905 | 6.101319 | 4.732788e-08 | 0.0002697216 | 0.0002383830 | MYO1G/PTK2/HOXA7/ITGAL/SORBS1/ITGB2/PTPRJ/CTTN/COL1A1/CD96/SMAD6/ITGA1/DOCK5/LPXN/CORO2B/MIR92A1/SMAD3/BCL6/EFNA5/ITGB5/CDK6/CDC42/DOCK1/LAMB1/TBCD/CLASP2/SPRY4/NEDD9/CD44/PRKCZ/MAP4K4/PTPRO/ANTXR1/CRK/PARVA/EFEMP2/TNN/TMEM8B/ITGA2B/SNED1/TRIOBP/LIMS1/PIK3R1/ARHGEF7/PKHD1/ZYX/CLASP1/CDK5/RAB1A/KIF14/PTK2B/JAM3/ITGAM/SGCE/TNXB/PHLDB2/THBS1/EPB41L5                                                                                                  | 58 |\n| GO:0071559 | GO:0071559 | response to transforming growth factor beta                   | 52/1434 | 315/18805 | 0.1650794 | 2.164796 | 5.989961 | 9.586962e-08 | 0.0002731805 | 0.0002414401 | PTK2/ZMIZ1/RUNX3/COL1A1/SMAD6/LPXN/MIR19A/MIR20A/MIR17/MIR19B1/MIR18A/CFLAR/SMAD3/HIPK2/PRDM16/ITGB5/IGF1R/PMEPA1/LTBP4/TET1/SKI/ARRB2/NLK/NFATC1/ZFHX3/COL4A2/LRRC32/CRK/BMPR1A/WFIKKN2/ACTA2/LIMS1/CDH3/ZYX/FBN2/STRAP/PPARA/ZBTB7A/SMURF2/FURIN/TP53/SPRED2/PEG10/GDF10/LATS2/THBS1/ING2/MTMR4/HDAC1/FKBP1A/LATS1/EPB41L5                                                                                                                                  | 52 |\n| GO:0002181 | GO:0002181 | cytoplasmic translation                                       | 34/1434 | 169/18805 | 0.2011834 | 2.638253 | 6.146603 | 1.473149e-07 | 0.0002798492 | 0.0002473340 | RPL35/RPL23A/RPS18/RPL8/RPS12/RPL37/RPL4/EIF4G1/RPL7A/RPL13A/RPS6/RPL17/RPL28/RPL27A/UNK/RPS11/RPS25/EIF4A2/RPL18A/RPS2/RPL23/NMNAT2/RPS28/RPL12/METTL3/RPSA/RPL3/EIF4A1/NCK1/RPL10/RPS8/DHX29/ALKBH3/NCBP1                                                                                                                                                                                                                                                   | 34 |\n| GO:0071560 | GO:0071560 | cellular response to transforming growth factor beta stimulus | 50/1434 | 308/18805 | 0.1623377 | 2.128842 | 5.739119 | 2.856948e-07 | 0.0004070437 | 0.0003597499 | PTK2/ZMIZ1/COL1A1/SMAD6/LPXN/MIR19A/MIR20A/MIR17/MIR19B1/MIR18A/CFLAR/SMAD3/HIPK2/PRDM16/ITGB5/IGF1R/PMEPA1/LTBP4/TET1/SKI/ARRB2/NLK/NFATC1/COL4A2/LRRC32/CRK/BMPR1A/WFIKKN2/ACTA2/LIMS1/CDH3/ZYX/FBN2/STRAP/PPARA/ZBTB7A/SMURF2/FURIN/TP53/SPRED2/PEG10/GDF10/LATS2/THBS1/ING2/MTMR4/HDAC1/FKBP1A/LATS1/EPB41L5                                                                                                                                              | 50 |\n| GO:0007264 | GO:0007264 | small GTPase-mediated signal transduction                     | 69/1434 | 487/18805 | 0.1416838 | 1.857994 | 5.511845 | 4.008609e-07 | 0.0004569012 | 0.0004038146 | ARRB1/CDKN1A/CDC42SE1/GNB1/PLEKHG1/CCDC88C/ARHGEF2/GIT1/ARHGAP12/RAPGEF1/DOCK5/TIAM2/DENND4A/MCF2L/SH2B2/BCL6/RHOG/NGF/CDC42/CCDC88A/DOCK1/ARHGEF19/RALA/GPR55/ARHGEF3/ITPKB/TSC2/PLEKHG4/FGF2/SPRY4/ABR/SH2D3A/DOCK9/ARHGEF10/DOCK2/RAPGEF5/MAP4K4/GNA12/RAPGEF2/PSD3/FLOT1/CRK/DHCR24/TRIO/ARHGEF18/KRIT1/FARP1/BCAR3/ARHGEF7/SIAH2/SYNGAP1/CHN1/DAB1/ARHGEF11/RALGPS2/RIT1/RGL2/KIF14/SQSTM1/ARHGAP26/TP53/RALGDS/KALRN/PSD2/CYTH4/CYTH1/RUFY1/DENND3/GMIP | 69 |\n| GO:0007160 | GO:0007160 | cell-matrix adhesion                                          | 40/1434 | 240/18805 | 0.1666667 | 2.185611 | 5.311140 | 2.205030e-06 | 0.0020944113 | 0.0018510649 | PTK2/HOXA7/ITGAL/SORBS1/ITGB2/PTPRJ/CTTN/CD96/ITGA1/CORO2B/MIR92A1/SMAD3/BCL6/EFNA5/ITGB5/CDK6/CLASP2/CD44/PRKCZ/MAP4K4/EFEMP2/TNN/TMEM8B/ITGA2B/SNED1/LIMS1/PIK3R1/ARHGEF7/PKHD1/ZYX/CLASP1/CDK5/PTK2B/JAM3/ITGAM/SGCE/TNXB/PHLDB2/THBS1/EPB41L5                                                                                                                                                                                                             | 40 |\n\n",
            "text/latex": "A data.frame: 6 × 12\n\\begin{tabular}{r|llllllllllll}\n  & ID & Description & GeneRatio & BgRatio & RichFactor & FoldEnrichment & zScore & pvalue & p.adjust & qvalue & geneID & Count\\\\\n  & <chr> & <chr> & <chr> & <chr> & <dbl> & <dbl> & <dbl> & <dbl> & <dbl> & <dbl> & <chr> & <int>\\\\\n\\hline\n\tGO:0031589 & GO:0031589 & cell-substrate adhesion                                       & 58/1434 & 361/18805 & 0.1606648 & 2.106905 & 6.101319 & 4.732788e-08 & 0.0002697216 & 0.0002383830 & MYO1G/PTK2/HOXA7/ITGAL/SORBS1/ITGB2/PTPRJ/CTTN/COL1A1/CD96/SMAD6/ITGA1/DOCK5/LPXN/CORO2B/MIR92A1/SMAD3/BCL6/EFNA5/ITGB5/CDK6/CDC42/DOCK1/LAMB1/TBCD/CLASP2/SPRY4/NEDD9/CD44/PRKCZ/MAP4K4/PTPRO/ANTXR1/CRK/PARVA/EFEMP2/TNN/TMEM8B/ITGA2B/SNED1/TRIOBP/LIMS1/PIK3R1/ARHGEF7/PKHD1/ZYX/CLASP1/CDK5/RAB1A/KIF14/PTK2B/JAM3/ITGAM/SGCE/TNXB/PHLDB2/THBS1/EPB41L5                                                                                                  & 58\\\\\n\tGO:0071559 & GO:0071559 & response to transforming growth factor beta                   & 52/1434 & 315/18805 & 0.1650794 & 2.164796 & 5.989961 & 9.586962e-08 & 0.0002731805 & 0.0002414401 & PTK2/ZMIZ1/RUNX3/COL1A1/SMAD6/LPXN/MIR19A/MIR20A/MIR17/MIR19B1/MIR18A/CFLAR/SMAD3/HIPK2/PRDM16/ITGB5/IGF1R/PMEPA1/LTBP4/TET1/SKI/ARRB2/NLK/NFATC1/ZFHX3/COL4A2/LRRC32/CRK/BMPR1A/WFIKKN2/ACTA2/LIMS1/CDH3/ZYX/FBN2/STRAP/PPARA/ZBTB7A/SMURF2/FURIN/TP53/SPRED2/PEG10/GDF10/LATS2/THBS1/ING2/MTMR4/HDAC1/FKBP1A/LATS1/EPB41L5                                                                                                                                  & 52\\\\\n\tGO:0002181 & GO:0002181 & cytoplasmic translation                                       & 34/1434 & 169/18805 & 0.2011834 & 2.638253 & 6.146603 & 1.473149e-07 & 0.0002798492 & 0.0002473340 & RPL35/RPL23A/RPS18/RPL8/RPS12/RPL37/RPL4/EIF4G1/RPL7A/RPL13A/RPS6/RPL17/RPL28/RPL27A/UNK/RPS11/RPS25/EIF4A2/RPL18A/RPS2/RPL23/NMNAT2/RPS28/RPL12/METTL3/RPSA/RPL3/EIF4A1/NCK1/RPL10/RPS8/DHX29/ALKBH3/NCBP1                                                                                                                                                                                                                                                   & 34\\\\\n\tGO:0071560 & GO:0071560 & cellular response to transforming growth factor beta stimulus & 50/1434 & 308/18805 & 0.1623377 & 2.128842 & 5.739119 & 2.856948e-07 & 0.0004070437 & 0.0003597499 & PTK2/ZMIZ1/COL1A1/SMAD6/LPXN/MIR19A/MIR20A/MIR17/MIR19B1/MIR18A/CFLAR/SMAD3/HIPK2/PRDM16/ITGB5/IGF1R/PMEPA1/LTBP4/TET1/SKI/ARRB2/NLK/NFATC1/COL4A2/LRRC32/CRK/BMPR1A/WFIKKN2/ACTA2/LIMS1/CDH3/ZYX/FBN2/STRAP/PPARA/ZBTB7A/SMURF2/FURIN/TP53/SPRED2/PEG10/GDF10/LATS2/THBS1/ING2/MTMR4/HDAC1/FKBP1A/LATS1/EPB41L5                                                                                                                                              & 50\\\\\n\tGO:0007264 & GO:0007264 & small GTPase-mediated signal transduction                     & 69/1434 & 487/18805 & 0.1416838 & 1.857994 & 5.511845 & 4.008609e-07 & 0.0004569012 & 0.0004038146 & ARRB1/CDKN1A/CDC42SE1/GNB1/PLEKHG1/CCDC88C/ARHGEF2/GIT1/ARHGAP12/RAPGEF1/DOCK5/TIAM2/DENND4A/MCF2L/SH2B2/BCL6/RHOG/NGF/CDC42/CCDC88A/DOCK1/ARHGEF19/RALA/GPR55/ARHGEF3/ITPKB/TSC2/PLEKHG4/FGF2/SPRY4/ABR/SH2D3A/DOCK9/ARHGEF10/DOCK2/RAPGEF5/MAP4K4/GNA12/RAPGEF2/PSD3/FLOT1/CRK/DHCR24/TRIO/ARHGEF18/KRIT1/FARP1/BCAR3/ARHGEF7/SIAH2/SYNGAP1/CHN1/DAB1/ARHGEF11/RALGPS2/RIT1/RGL2/KIF14/SQSTM1/ARHGAP26/TP53/RALGDS/KALRN/PSD2/CYTH4/CYTH1/RUFY1/DENND3/GMIP & 69\\\\\n\tGO:0007160 & GO:0007160 & cell-matrix adhesion                                          & 40/1434 & 240/18805 & 0.1666667 & 2.185611 & 5.311140 & 2.205030e-06 & 0.0020944113 & 0.0018510649 & PTK2/HOXA7/ITGAL/SORBS1/ITGB2/PTPRJ/CTTN/CD96/ITGA1/CORO2B/MIR92A1/SMAD3/BCL6/EFNA5/ITGB5/CDK6/CLASP2/CD44/PRKCZ/MAP4K4/EFEMP2/TNN/TMEM8B/ITGA2B/SNED1/LIMS1/PIK3R1/ARHGEF7/PKHD1/ZYX/CLASP1/CDK5/PTK2B/JAM3/ITGAM/SGCE/TNXB/PHLDB2/THBS1/EPB41L5                                                                                                                                                                                                             & 40\\\\\n\\end{tabular}\n",
            "text/plain": [
              "           ID        \n",
              "GO:0031589 GO:0031589\n",
              "GO:0071559 GO:0071559\n",
              "GO:0002181 GO:0002181\n",
              "GO:0071560 GO:0071560\n",
              "GO:0007264 GO:0007264\n",
              "GO:0007160 GO:0007160\n",
              "           Description                                                  \n",
              "GO:0031589 cell-substrate adhesion                                      \n",
              "GO:0071559 response to transforming growth factor beta                  \n",
              "GO:0002181 cytoplasmic translation                                      \n",
              "GO:0071560 cellular response to transforming growth factor beta stimulus\n",
              "GO:0007264 small GTPase-mediated signal transduction                    \n",
              "GO:0007160 cell-matrix adhesion                                         \n",
              "           GeneRatio BgRatio   RichFactor FoldEnrichment zScore   pvalue      \n",
              "GO:0031589 58/1434   361/18805 0.1606648  2.106905       6.101319 4.732788e-08\n",
              "GO:0071559 52/1434   315/18805 0.1650794  2.164796       5.989961 9.586962e-08\n",
              "GO:0002181 34/1434   169/18805 0.2011834  2.638253       6.146603 1.473149e-07\n",
              "GO:0071560 50/1434   308/18805 0.1623377  2.128842       5.739119 2.856948e-07\n",
              "GO:0007264 69/1434   487/18805 0.1416838  1.857994       5.511845 4.008609e-07\n",
              "GO:0007160 40/1434   240/18805 0.1666667  2.185611       5.311140 2.205030e-06\n",
              "           p.adjust     qvalue      \n",
              "GO:0031589 0.0002697216 0.0002383830\n",
              "GO:0071559 0.0002731805 0.0002414401\n",
              "GO:0002181 0.0002798492 0.0002473340\n",
              "GO:0071560 0.0004070437 0.0003597499\n",
              "GO:0007264 0.0004569012 0.0004038146\n",
              "GO:0007160 0.0020944113 0.0018510649\n",
              "           geneID                                                                                                                                                                                                                                                                                                                                                                                                                                                       \n",
              "GO:0031589 MYO1G/PTK2/HOXA7/ITGAL/SORBS1/ITGB2/PTPRJ/CTTN/COL1A1/CD96/SMAD6/ITGA1/DOCK5/LPXN/CORO2B/MIR92A1/SMAD3/BCL6/EFNA5/ITGB5/CDK6/CDC42/DOCK1/LAMB1/TBCD/CLASP2/SPRY4/NEDD9/CD44/PRKCZ/MAP4K4/PTPRO/ANTXR1/CRK/PARVA/EFEMP2/TNN/TMEM8B/ITGA2B/SNED1/TRIOBP/LIMS1/PIK3R1/ARHGEF7/PKHD1/ZYX/CLASP1/CDK5/RAB1A/KIF14/PTK2B/JAM3/ITGAM/SGCE/TNXB/PHLDB2/THBS1/EPB41L5                                                                                                 \n",
              "GO:0071559 PTK2/ZMIZ1/RUNX3/COL1A1/SMAD6/LPXN/MIR19A/MIR20A/MIR17/MIR19B1/MIR18A/CFLAR/SMAD3/HIPK2/PRDM16/ITGB5/IGF1R/PMEPA1/LTBP4/TET1/SKI/ARRB2/NLK/NFATC1/ZFHX3/COL4A2/LRRC32/CRK/BMPR1A/WFIKKN2/ACTA2/LIMS1/CDH3/ZYX/FBN2/STRAP/PPARA/ZBTB7A/SMURF2/FURIN/TP53/SPRED2/PEG10/GDF10/LATS2/THBS1/ING2/MTMR4/HDAC1/FKBP1A/LATS1/EPB41L5                                                                                                                                 \n",
              "GO:0002181 RPL35/RPL23A/RPS18/RPL8/RPS12/RPL37/RPL4/EIF4G1/RPL7A/RPL13A/RPS6/RPL17/RPL28/RPL27A/UNK/RPS11/RPS25/EIF4A2/RPL18A/RPS2/RPL23/NMNAT2/RPS28/RPL12/METTL3/RPSA/RPL3/EIF4A1/NCK1/RPL10/RPS8/DHX29/ALKBH3/NCBP1                                                                                                                                                                                                                                                  \n",
              "GO:0071560 PTK2/ZMIZ1/COL1A1/SMAD6/LPXN/MIR19A/MIR20A/MIR17/MIR19B1/MIR18A/CFLAR/SMAD3/HIPK2/PRDM16/ITGB5/IGF1R/PMEPA1/LTBP4/TET1/SKI/ARRB2/NLK/NFATC1/COL4A2/LRRC32/CRK/BMPR1A/WFIKKN2/ACTA2/LIMS1/CDH3/ZYX/FBN2/STRAP/PPARA/ZBTB7A/SMURF2/FURIN/TP53/SPRED2/PEG10/GDF10/LATS2/THBS1/ING2/MTMR4/HDAC1/FKBP1A/LATS1/EPB41L5                                                                                                                                             \n",
              "GO:0007264 ARRB1/CDKN1A/CDC42SE1/GNB1/PLEKHG1/CCDC88C/ARHGEF2/GIT1/ARHGAP12/RAPGEF1/DOCK5/TIAM2/DENND4A/MCF2L/SH2B2/BCL6/RHOG/NGF/CDC42/CCDC88A/DOCK1/ARHGEF19/RALA/GPR55/ARHGEF3/ITPKB/TSC2/PLEKHG4/FGF2/SPRY4/ABR/SH2D3A/DOCK9/ARHGEF10/DOCK2/RAPGEF5/MAP4K4/GNA12/RAPGEF2/PSD3/FLOT1/CRK/DHCR24/TRIO/ARHGEF18/KRIT1/FARP1/BCAR3/ARHGEF7/SIAH2/SYNGAP1/CHN1/DAB1/ARHGEF11/RALGPS2/RIT1/RGL2/KIF14/SQSTM1/ARHGAP26/TP53/RALGDS/KALRN/PSD2/CYTH4/CYTH1/RUFY1/DENND3/GMIP\n",
              "GO:0007160 PTK2/HOXA7/ITGAL/SORBS1/ITGB2/PTPRJ/CTTN/CD96/ITGA1/CORO2B/MIR92A1/SMAD3/BCL6/EFNA5/ITGB5/CDK6/CLASP2/CD44/PRKCZ/MAP4K4/EFEMP2/TNN/TMEM8B/ITGA2B/SNED1/LIMS1/PIK3R1/ARHGEF7/PKHD1/ZYX/CLASP1/CDK5/PTK2B/JAM3/ITGAM/SGCE/TNXB/PHLDB2/THBS1/EPB41L5                                                                                                                                                                                                            \n",
              "           Count\n",
              "GO:0031589 58   \n",
              "GO:0071559 52   \n",
              "GO:0002181 34   \n",
              "GO:0071560 50   \n",
              "GO:0007264 69   \n",
              "GO:0007160 40   "
            ]
          },
          "metadata": {}
        }
      ]
    },
    {
      "cell_type": "code",
      "source": [
        "p1 <- barplot(results_enrich_go, showCategory=10) +\n",
        "  ggtitle('Never vs Current Smokers') +\n",
        "  theme(plot.title = element_text(size = 18))\n",
        "p1"
      ],
      "metadata": {
        "id": "Bo2-ueAAWLHL",
        "outputId": "967f7af1-4566-4802-dc77-c45713748bc9",
        "colab": {
          "base_uri": "https://localhost:8080/",
          "height": 525
        }
      },
      "execution_count": 48,
      "outputs": [
        {
          "output_type": "stream",
          "name": "stderr",
          "text": [
            "Warning message in fortify(object, showCategory = showCategory, by = x, ...):\n",
            "\"\u001b[1m\u001b[22mArguments in `...` must be used.\n",
            "\u001b[31m✖\u001b[39m Problematic argument:\n",
            "\u001b[36m•\u001b[39m by = x\n",
            "\u001b[36mℹ\u001b[39m Did you misspell an argument name?\"\n",
            "Warning message:\n",
            "\"\u001b[1m\u001b[22m`aes_string()` was deprecated in ggplot2 3.0.0.\n",
            "\u001b[36mℹ\u001b[39m Please use tidy evaluation idioms with `aes()`.\n",
            "\u001b[36mℹ\u001b[39m See also `vignette(\"ggplot2-in-packages\")` for more information.\n",
            "\u001b[36mℹ\u001b[39m The deprecated feature was likely used in the \u001b[34menrichplot\u001b[39m package.\n",
            "  Please report the issue at\n",
            "  \u001b[3m\u001b[34m<https://github.com/GuangchuangYu/enrichplot/issues>\u001b[39m\u001b[23m.\"\n"
          ]
        },
        {
          "output_type": "display_data",
          "data": {
            "text/plain": [
              "plot without title"
            ],
            "image/png": "[encoded data removed]"
          },
          "metadata": {
            "image/png": {
              "width": 840,
              "height": 300
            }
          }
        }
      ]
    },
    {
      "cell_type": "code",
      "source": [
        "results_enrich_go_pair <- pairwise_termsim(results_enrich_go)\n",
        "p2 <- emapplot(results_enrich_go_pair, cex_label_category = 0.5, showCategory = 20) +\n",
        "  ggtitle('Never vs Current Smokers') +\n",
        "  theme(plot.title = element_text(size = 18))\n",
        "p2"
      ],
      "metadata": {
        "id": "dqAVVL_qWOXC",
        "outputId": "e7a9e521-c733-40a6-e713-2f3bdfe99279",
        "colab": {
          "base_uri": "https://localhost:8080/",
          "height": 72
        }
      },
      "execution_count": 49,
      "outputs": [
        {
          "output_type": "error",
          "ename": "ERROR",
          "evalue": "Error in pairwise_termsim(results_enrich_go): could not find function \"pairwise_termsim\"\n",
          "traceback": [
            "Error in pairwise_termsim(results_enrich_go): could not find function \"pairwise_termsim\"\nTraceback:\n"
          ]
        }
      ]
    },
    {
      "cell_type": "code",
      "source": [
        "p3 <- cnetplot(ans.go, circular = FALSE, colorEdge = TRUE, showCategory = 2)\n",
        "p3"
      ],
      "metadata": {
        "id": "6g5DVresWQvK"
      },
      "execution_count": null,
      "outputs": []
    },
    {
      "cell_type": "markdown",
      "source": [
        "### 4.2.2 Reactome"
      ],
      "metadata": {
        "id": "gkqTJtw8WWBe"
      }
    },
    {
      "cell_type": "code",
      "source": [
        "ans.react <- enrichPathway(gene=ids$ENTREZID,\n",
        "                           pvalueCutoff = 0.05,\n",
        "                           readable=TRUE)\n",
        "tab.react <- as.data.frame(ans.react)\n",
        "head(tab.react)"
      ],
      "metadata": {
        "id": "AT6Z1TK-WYu2"
      },
      "execution_count": null,
      "outputs": []
    },
    {
      "cell_type": "markdown",
      "source": [
        "In this case, it exists a function that allows us to graphically investigate each of the pathwaysto see how the genes interact between them. We need to prepare a named list with the entrez gene ids and their fold change"
      ],
      "metadata": {
        "id": "xYdigdCpWbNm"
      }
    },
    {
      "cell_type": "code",
      "source": [
        "ids_coef_df <- merge(ids, metaEWAS.ann.ord[,c('UCSC_RefGene_Name', 'coef.fe')],\n",
        "                     by.x = 'SYMBOL',\n",
        "                     by.y='UCSC_RefGene_Name')\n",
        "\n",
        "pathway_genes <- str_split(tab.react$geneID[[1]], '/')[[1]]\n",
        "\n",
        "ids_coef_df <- ids_coef_df[ids_coef_df$SYMBOL %in% pathway_genes,]\n",
        "ids_coef_df <- ids_coef_df[!duplicated(ids_coef_df$ENTREZID),]\n",
        "ids_coef <- ids_coef_df$coef.fe\n",
        "names(ids_coef) <- ids_coef_df$ENTREZID\n",
        "\n",
        "\n",
        "p3 <- viewPathway(\"Platelet activation, signaling and aggregation\",\n",
        "            readable = TRUE,\n",
        "            foldChange = ids_coef)\n",
        "p3"
      ],
      "metadata": {
        "id": "kr52NXnQWcYm"
      },
      "execution_count": null,
      "outputs": []
    },
    {
      "cell_type": "markdown",
      "source": [
        "If the net is too busy, we can re-plot keeping just the genes on our list (the coloured ones)"
      ],
      "metadata": {
        "id": "-6uV1wGyWgX9"
      }
    },
    {
      "cell_type": "code",
      "source": [
        "p3$data <- p3$data[!is.na(p3$data$color),]\n",
        "p3"
      ],
      "metadata": {
        "id": "DyMTCTH2WgeA"
      },
      "execution_count": null,
      "outputs": []
    },
    {
      "cell_type": "markdown",
      "source": [
        "t the end of the practice, please answer these questions:\n",
        "\n",
        "Which is the top 1 enriched GO term in current smokers? and in former smokers?\n",
        "Which are the enriched Reactome pathways in current smokers? and in former smokers?\n",
        "Which are the enriched tissues in current smokers? and informer smokers?"
      ],
      "metadata": {
        "id": "NMM5lgQEVANW"
      }
    },
    {
      "cell_type": "markdown",
      "source": [
        "For current smokers it is the regulation of neuron projection development. For former smokers it is embryonic organ development\n",
        "For current smokers it is Platelet activation, signaling and aggregation. For former smokers it is Neuronal System\n",
        "In current smokers they are blood and muscle. In former smokers they are blood and ESC"
      ],
      "metadata": {
        "id": "XH37UA4RUbYF"
      }
    },
    {
      "cell_type": "markdown",
      "source": [
        "** RECAP **\n",
        "Input: ExpressionSet with matrix of beta values + covariates dataframe (exposure, covariates, cells)\n",
        "Output (for current and former):\n",
        "- results dataframes (not adj, adj, adj and sva)\n",
        "- report (descriptive, QQ plot and lambda, Manhattan plot, Box plots)\n",
        "- Volcano plot and Manhattan plot"
      ],
      "metadata": {
        "id": "jtDlnQbktwqi"
      }
    }
  ]
}