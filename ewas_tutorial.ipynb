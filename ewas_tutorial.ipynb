{
  "nbformat": 4,
  "nbformat_minor": 0,
  "metadata": {
    "colab": {
      "provenance": [],
      "authorship_tag": "ABX9TyNNaDnqu5PWrr+F5pVN6Vsd",
      "include_colab_link": true
    },
    "kernelspec": {
      "name": "ir",
      "display_name": "R"
    },
    "language_info": {
      "name": "R"
    }
  },
  "cells": [
    {
      "cell_type": "markdown",
      "metadata": {
        "id": "view-in-github",
        "colab_type": "text"
      },
      "source": [
        "<a href=\"https://colab.research.google.com/github/joanall/Hands-On-Epigenome-Wide-Analysis-EWAS-/blob/main/ewas_tutorial.ipynb\" target=\"_parent\"><img src=\"https://colab.research.google.com/assets/colab-badge.svg\" alt=\"Open In Colab\"/></a>"
      ]
    },
    {
      "cell_type": "markdown",
      "source": [
        "# **Hands-on Data EWAS Analysis Tutorial**  \n",
        "\n",
        "Joana Llauradó, Predoctoral Researcher at the Barcelona Institute for Global Health (ISGlobal).\n",
        "\n",
        "Mariona Bustamante, Senior Research Scientist at the Barcelona Institute for Global Health (ISGlobal).\n",
        "\n",
        "\n",
        "**Objective:** his hands-on exercise focuses on the analysis phase of an Epigenome-Wide Association Study (EWAS). Using preprocessed DNA methylation data, participants will learn how to identify associations between an environmental exposure—such as smoking—and methylation levels across the genome.\n",
        "\n",
        "\n",
        "**Description:** During this practical, we will perform EWAS analysis and basic downstream interpretation to gain biological insight from the results. Participants will learn how to run association models, correct for multiple testing, visualize significant findings (e.g., using Manhattan and QQ plots), and interpret the top CpG sites and enriched pathways related to the exposure of interest.\n",
        "\n",
        "**Based on/adapted from** Previous course Summer School in Global Health 2023-EWAS [https://github.com/isglobal-brge/course_methylation?tab=readme-ov-file]\n",
        "\n",
        "**Considerations**\n",
        "* The data quality control (QC) step will not be assessed in this session. However, participants can explore QC independently using the example code provided [here: insert link], which demonstrates h ow to perform standard preprocessing and QC steps.\n",
        "\n",
        "* Public data from [link] It must be noted that this data is public and has been revied/selcetd to be able tor un this nalaysis in a short period of time. Ewas data usually is upt to XXXX GB and a compute with enough memory or clsuter is nneded to run this nalaysis. Also the time needed is higher than the one for this Hands-on."
      ],
      "metadata": {
        "id": "5Bh7E_PxwTUs"
      }
    },
    {
      "cell_type": "markdown",
      "source": [
        "•\n",
        "Recommendations for the design and analysis of epigenome wide association studies\n",
        "https://clinicalepigeneticsjournal.biomedcentral.com/articles/10.1186/s13148 021 01200 8\n",
        "•\n",
        "\n",
        "•\n",
        "Meffil : efficient normalization and analysis of very large DNA methylation datasets (ADDED\n",
        "https://www.ncbi.nlm.nih.gov/pmc/articles/PMC6247925/\n",
        "•\n",
        "Orchestrating high throughput genomic analysis with Bioconductor\n",
        "https://www.nature.com/articles/nmeth.3252"
      ],
      "metadata": {
        "id": "r7y9sOwSJZen"
      }
    },
    {
      "cell_type": "markdown",
      "source": [
        "**Reminder: Introduction to NoteBook**\n",
        "Within this notebook (NoteBook), you will be guided step by step from loading a dataset to performing analysis of its content.\n",
        "\n",
        "The Jupyter (Python) notebook is an approach that combines text blocks (like this one) together with code blocks or cells. The great advantage of this type of cell is its interactivity, as they can be executed to check the results directly within them. Very important: the order of instructions is fundamental, so each cell in this notebook must be executed sequentially. If any are omitted, the program may throw an error, so you should start from the beginning if in doubt.\n",
        "\n",
        "First of all:\n",
        "\n",
        "It is very very important that at the start you select \"Open in draft mode\" (draft mode), at the top left. Otherwise, it will not allow you to execute any code block, for security reasons. When the first of the blocks is executed, the following message will appear: \"Warning: This notebook was not created by Google.\". Do not worry, you should trust the content of the notebook (NoteBook) and click \"Run anyway\".\n",
        "\n",
        "Let’s go!\n",
        "\n",
        "Click the \"play\" button on the left side of each code cell. Lines of code that begin with a hashtag (#) are comments and do not affect the execution of the program.\n",
        "\n",
        "You can also click on each cell and press \"ctrl+enter\" (cmd+enter on Mac).\n",
        "\n",
        "Each time you run a block, you will see the output just below it. The information is usually always related to the last instruction, along with all the print() commands in the code."
      ],
      "metadata": {
        "id": "ntfkhAdXwgN-"
      }
    },
    {
      "cell_type": "markdown",
      "source": [
        "## **INDEX**\n",
        "1. [Installation of the R environment and required libraries for EWAS](#install-libraries)\n",
        "2. [Load data](#load-data)\n",
        "3. [Descriptive analysis](#descriptive)   \n",
        "4. [Epigenome wide association analysis](#association)\n",
        "3. [Other tutorials for previours-further steps](#tutorials)   \n",
        "4. [Acknowledgement](#acknowledgement)   \n"
      ],
      "metadata": {
        "id": "04w9VvjKwllH"
      }
    },
    {
      "cell_type": "markdown",
      "source": [
        "## **1. Installation of the R Environment and Libraries for EWAS Analysis** <a name=\"install-libraries\"></a>\n",
        "\n",
        "# Below, we install/load the libraries necessary for this session. In the context of exposome analysis, R libraries offer us a much more convenient way to process, manipulate, and analyze the data. Some of these libraries: `tidyverse`, `name_library`  \n",
        "  \n",
        "The installation of R in our Google Colab environment will be carried out in the following code block. It should be remembered that all library installations we perform in the Google Colab environment will only remain active for a few hours, after which the installed libraries are removed. Therefore, it will be necessary for you to re-run the library installation code in this section whenever you need to run the notebook again after this time.\n",
        "\n",
        "**Note:** We recommend installing the libraries **30 minutes** before the start of the session❗❗❗"
      ],
      "metadata": {
        "id": "2FJKIHVZw-8p"
      }
    },
    {
      "cell_type": "code",
      "source": [
        "# Estimated execution time: 7 minutes approx.\n",
        "t0 <- Sys.time()\n",
        "\n",
        "if (!requireNamespace(\"BiocManager\", quietly = TRUE)) {\n",
        "  install.packages(\"BiocManager\")\n",
        "}\n",
        "\n",
        "packages <- c(\"GenomicRanges\", \"GEOquery\", \"meffil\", \"Biobase\", \"qqman\",\n",
        "\"ggplot2\", \"ggrepel\", \"karyoplotR\")\n",
        "\n",
        "# other we may need: \"IlluminaHumanMethylation450kanno.ilmn12.hg19\", \"clusterProfiler\",\n",
        "#                       \"org.Hs.eg.db\", \"ReactomePA\", \"enrichplot\", metafor, reshape plyr\n",
        "\n",
        "to_install <- setdiff(packages, rownames(installed.packages()))\n",
        "if (length(to_install)) {\n",
        "  BiocManager::install(to_install, ask = FALSE, update = FALSE)\n",
        "}\n",
        "\n",
        "invisible(lapply(packages, require, character.only = TRUE))\n",
        "elapsed_min <- as.numeric(difftime(Sys.time(), t0, units = \"mins\"))\n",
        "cat(sprintf(\"Execution time: %.1f minutes\\n\", elapsed_min))\n"
      ],
      "metadata": {
        "colab": {
          "base_uri": "https://localhost:8080/"
        },
        "collapsed": true,
        "id": "PUcL7UVkTzGK",
        "outputId": "9af1f524-f1c4-4090-bedf-401222401ead"
      },
      "execution_count": 1,
      "outputs": [
        {
          "output_type": "stream",
          "name": "stderr",
          "text": [
            "Installing package into ‘/usr/local/lib/R/site-library’\n",
            "(as ‘lib’ is unspecified)\n",
            "\n",
            "'getOption(\"repos\")' replaces Bioconductor standard repositories, see\n",
            "'help(\"repositories\", package = \"BiocManager\")' for details.\n",
            "Replacement repositories:\n",
            "    CRAN: https://cran.rstudio.com\n",
            "\n",
            "Bioconductor version 3.21 (BiocManager 1.30.26), R 4.5.1 (2025-06-13)\n",
            "\n",
            "Installing package(s) 'BiocVersion', 'GenomicRanges', 'GEOquery', 'meffil',\n",
            "  'Biobase', 'qqman', 'ggrepel', 'karyoplotR'\n",
            "\n",
            "Warning message:\n",
            "“packages ‘meffil’, ‘karyoplotR’ are not available for Bioconductor version '3.21'\n",
            "\n",
            "Versions of these packages for your version of R might be available elsewhere,\n",
            "see the ideas at\n",
            "https://cran.r-project.org/doc/manuals/r-patched/R-admin.html#Installing-packages”\n",
            "also installing the dependencies ‘matrixStats’, ‘abind’, ‘SparseArray’, ‘UCSC.utils’, ‘GenomeInfoDbData’, ‘statmod’, ‘XML’, ‘R.oo’, ‘R.methodsS3’, ‘MatrixGenerics’, ‘S4Arrays’, ‘DelayedArray’, ‘BiocGenerics’, ‘S4Vectors’, ‘IRanges’, ‘GenomeInfoDb’, ‘XVector’, ‘limma’, ‘rentrez’, ‘R.utils’, ‘SummarizedExperiment’, ‘calibrate’\n",
            "\n",
            "\n",
            "Loading required package: GenomicRanges\n",
            "\n",
            "Loading required package: stats4\n",
            "\n",
            "Loading required package: BiocGenerics\n",
            "\n",
            "Loading required package: generics\n",
            "\n",
            "\n",
            "Attaching package: ‘generics’\n",
            "\n",
            "\n",
            "The following objects are masked from ‘package:base’:\n",
            "\n",
            "    as.difftime, as.factor, as.ordered, intersect, is.element, setdiff,\n",
            "    setequal, union\n",
            "\n",
            "\n",
            "\n",
            "Attaching package: ‘BiocGenerics’\n",
            "\n",
            "\n",
            "The following objects are masked from ‘package:stats’:\n",
            "\n",
            "    IQR, mad, sd, var, xtabs\n",
            "\n",
            "\n",
            "The following objects are masked from ‘package:base’:\n",
            "\n",
            "    anyDuplicated, aperm, append, as.data.frame, basename, cbind,\n",
            "    colnames, dirname, do.call, duplicated, eval, evalq, Filter, Find,\n",
            "    get, grep, grepl, is.unsorted, lapply, Map, mapply, match, mget,\n",
            "    order, paste, pmax, pmax.int, pmin, pmin.int, Position, rank,\n",
            "    rbind, Reduce, rownames, sapply, saveRDS, table, tapply, unique,\n",
            "    unsplit, which.max, which.min\n",
            "\n",
            "\n",
            "Loading required package: S4Vectors\n",
            "\n",
            "\n",
            "Attaching package: ‘S4Vectors’\n",
            "\n",
            "\n",
            "The following object is masked from ‘package:utils’:\n",
            "\n",
            "    findMatches\n",
            "\n",
            "\n",
            "The following objects are masked from ‘package:base’:\n",
            "\n",
            "    expand.grid, I, unname\n",
            "\n",
            "\n",
            "Loading required package: IRanges\n",
            "\n",
            "Loading required package: GenomeInfoDb\n",
            "\n",
            "Loading required package: GEOquery\n",
            "\n",
            "Loading required package: Biobase\n",
            "\n",
            "Welcome to Bioconductor\n",
            "\n",
            "    Vignettes contain introductory material; view with\n",
            "    'browseVignettes()'. To cite Bioconductor, see\n",
            "    'citation(\"Biobase\")', and for packages 'citation(\"pkgname\")'.\n",
            "\n",
            "\n",
            "Setting options('download.file.method.GEOquery'='auto')\n",
            "\n",
            "Setting options('GEOquery.inmemory.gpl'=FALSE)\n",
            "\n",
            "Loading required package: meffil\n",
            "\n",
            "Warning message in library(package, lib.loc = lib.loc, character.only = TRUE, logical.return = TRUE, :\n",
            "“there is no package called ‘meffil’”\n",
            "Loading required package: qqman\n",
            "\n",
            "\n",
            "\n",
            "For example usage please run: vignette('qqman')\n",
            "\n",
            "\n",
            "\n",
            "Citation appreciated but not required:\n",
            "\n",
            "Turner, (2018). qqman: an R package for visualizing GWAS results using Q-Q and manhattan plots. Journal of Open Source Software, 3(25), 731, https://doi.org/10.21105/joss.00731.\n",
            "\n",
            "\n",
            "\n",
            "Loading required package: ggplot2\n",
            "\n",
            "Loading required package: ggrepel\n",
            "\n",
            "Loading required package: karyoplotR\n",
            "\n",
            "Warning message in library(package, lib.loc = lib.loc, character.only = TRUE, logical.return = TRUE, :\n",
            "“there is no package called ‘karyoplotR’”\n"
          ]
        },
        {
          "output_type": "stream",
          "name": "stdout",
          "text": [
            "Execution time: 8.3 minutes\n"
          ]
        }
      ]
    },
    {
      "cell_type": "markdown",
      "source": [
        "If the installation of the package `meffil` throws errors, try this alternative command:\n",
        "\n"
      ],
      "metadata": {
        "id": "zoelhtpIJoUS"
      }
    },
    {
      "cell_type": "code",
      "source": [
        "# install.packages(\"devtools\")\n",
        "# devtools::install_github(\"perishky/meffil\")"
      ],
      "metadata": {
        "id": "Kfi7RX-zJonS"
      },
      "execution_count": null,
      "outputs": []
    },
    {
      "cell_type": "markdown",
      "source": [
        "##1.1  Load libraries\n",
        "\n",
        "Before starting, make sure the required R packages are available.\n",
        "\n",
        "* **On your local machine (RStudio, etc.)**: you usually install once, then just load them in each new R session.\n",
        "\n",
        "* **In Google Colab:** the runtime is temporary, when it resets or disconnects, previously installed packages can disappear. Therefore we need to install each time at the start of every session.\n"
      ],
      "metadata": {
        "id": "ebEKRQVhKdR3"
      }
    },
    {
      "cell_type": "code",
      "source": [
        "library(BiocManager)\n",
        "library(GenomicRanges)\n",
        "library(GEOquery)\n",
        "\n",
        "library(Biobase)# to be able to access and modify data in the ExpressionSet\n",
        "library(meffil) # to run the EWAS\n",
        "library(ggplot2)# plots\n",
        "library(ggrepel)\n",
        "library(GenomicRanges) # prepare db for Manhattan plot\n",
        "library(karyoploteR) #  Manhattan plot\n",
        "\n"
      ],
      "metadata": {
        "id": "sDj116U0KjqB",
        "colab": {
          "base_uri": "https://localhost:8080/",
          "height": 106
        },
        "outputId": "10dca0dd-977c-4276-85bd-a163fb8be414"
      },
      "execution_count": 2,
      "outputs": [
        {
          "output_type": "error",
          "ename": "ERROR",
          "evalue": "Error in library(meffil): there is no package called ‘meffil’\n",
          "traceback": [
            "Error in library(meffil): there is no package called ‘meffil’\nTraceback:\n",
            "1. stop(packageNotFoundError(package, lib.loc, sys.call()))"
          ]
        }
      ]
    },
    {
      "cell_type": "markdown",
      "source": [
        "**Tip:** if you want to learn more about any package or function, check the built-in docs. Use `help()` for functions/topics, and `vignette()` for longer, tutorial-style guides."
      ],
      "metadata": {
        "id": "2iR76EL_LS0H"
      }
    },
    {
      "cell_type": "code",
      "source": [
        "help(package=\"GenomicRanges\")\n",
        "vignette(package=\"GenomicRanges\")\n",
        "vignette(package=\"GenomicRanges\", \"GenomicRangesHOWTOs\")\n",
        "?GRanges"
      ],
      "metadata": {
        "id": "97Mo-01cLSq_"
      },
      "execution_count": null,
      "outputs": []
    },
    {
      "cell_type": "markdown",
      "source": [
        "## **2. Load the Data** <a name=\"load-data\"></a>\n",
        "\n",
        "For this practical we’ll use public methylation data derived from the GEO study GSE42861 (Epigenome-wide DNA methylation in blood). To make the tutorial fast and Colab/GitHub-friendly, we’ve prepared a lightweight subset where we keep a subset of CpGs and round beta values to 3 decimals. This keeps the file small enough for GitHub and runs quickly in Colab, while preserving the look and feel of real EWAS data.\n",
        "\n",
        "Original public dataset (reference): GSE42861 on GEO.\n",
        "\n",
        "Workshop dataset (ready-to-use): a preprocessed ExpressionSet hosted in this repo.\n",
        "\n",
        "How to use it\n",
        "\n",
        "* Option 1 (this tutorial): load the data (from GitHub).\n",
        "\n",
        "* Option 2 (not in this practice): uncomment the GEO download code to fetch the original public data and work end-to-end. Note that full methylation data are large and may take longer to download/process."
      ],
      "metadata": {
        "id": "HgQ374jkw_E6"
      }
    },
    {
      "cell_type": "code",
      "execution_count": 4,
      "metadata": {
        "id": "5krvz-V-TNO6"
      },
      "outputs": [],
      "source": [
        "input_data_url <- \"https://raw.githubusercontent.com/joanall/Hands-On-Epigenome-Wide-Analysis-EWAS-/main/data/GSE42861_norm_cohort1_round3.xz.rds\"\n",
        "\n",
        "tmp <- tempfile(fileext = \".rds\")\n",
        "download.file(input_data_url, destfile = tmp, mode = \"wb\")  # binary mode\n",
        "input_data <- readRDS(tmp)"
      ]
    },
    {
      "cell_type": "markdown",
      "source": [
        "### 2.1 Type of InputData: ExpressionSet\n",
        "\n",
        "Using `str()` we can get a quick description of what’s inside our data object.\n",
        "We’re working with an **ExpressionSet** object (from Biobase), which is  derived after preprocessing with the meffil package.\n",
        "\n",
        "An `ExpressionSet` stores several coordinated tables (slots):\n",
        "\n",
        "* **Expression data:** probe-by-sample matrix of methylation values (betas) — stored in `assayData` and accessed with `exprs()`.\n",
        "\n",
        "* **Phenotype data:** sample-level traits/covariates (age, sex, smoking, cell counts) — stored in `phenoData` and accessed with `pData()` or `phenoData()`.\n",
        "\n",
        "* **Feature (probe) data:** probe-level information/annotation — stored in `featureData` and accessed with `fData()`.\n",
        "* **Metadata:** `experimentData`, `protocolData`, and an `annotation`."
      ],
      "metadata": {
        "id": "00hRErdUOAaI"
      }
    },
    {
      "cell_type": "code",
      "source": [
        "str(input_data)"
      ],
      "metadata": {
        "colab": {
          "base_uri": "https://localhost:8080/"
        },
        "id": "otnf26rnonNA",
        "outputId": "53117faf-8276-4581-9b67-8f2dc0dec44e"
      },
      "execution_count": 5,
      "outputs": [
        {
          "output_type": "stream",
          "name": "stdout",
          "text": [
            "Formal class 'ExpressionSet' [package \"Biobase\"] with 7 slots\n",
            "  ..@ experimentData   :Formal class 'MIAME' [package \"Biobase\"] with 13 slots\n",
            "  .. .. ..@ name             : chr \"\"\n",
            "  .. .. ..@ lab              : chr \"\"\n",
            "  .. .. ..@ contact          : chr \"\"\n",
            "  .. .. ..@ title            : chr \"\"\n",
            "  .. .. ..@ abstract         : chr \"\"\n",
            "  .. .. ..@ url              : chr \"\"\n",
            "  .. .. ..@ pubMedIds        : chr \"\"\n",
            "  .. .. ..@ samples          : list()\n",
            "  .. .. ..@ hybridizations   : list()\n",
            "  .. .. ..@ normControls     : list()\n",
            "  .. .. ..@ preprocessing    : list()\n",
            "  .. .. ..@ other            : list()\n",
            "  .. .. ..@ .__classVersion__:Formal class 'Versions' [package \"Biobase\"] with 1 slot\n",
            "  .. .. .. .. ..@ .Data:List of 2\n",
            "  .. .. .. .. .. ..$ : int [1:3] 1 0 0\n",
            "  .. .. .. .. .. ..$ : int [1:3] 1 1 0\n",
            "  .. .. .. .. ..$ names: chr [1:2] \"MIAxE\" \"MIAME\"\n",
            "  ..@ assayData        :<environment: 0x57ea702d5a08> \n",
            "  ..@ phenoData        :Formal class 'AnnotatedDataFrame' [package \"Biobase\"] with 4 slots\n",
            "  .. .. ..@ varMetadata      :'data.frame':\t10 obs. of  1 variable:\n",
            "  .. .. .. ..$ labelDescription: chr [1:10] \"Sample cell type\" \"Patient Age\" \"Patient Sex\" \"Smoking Status (never/current/former)\" ...\n",
            "  .. .. ..@ data             :'data.frame':\t294 obs. of  10 variables:\n",
            "  .. .. .. ..$ Celltype: chr [1:294] \"PBL\" \"PBL\" \"PBL\" \"PBL\" ...\n",
            "  .. .. .. ..$ Age     : int [1:294] 55 37 59 49 47 69 69 66 58 62 ...\n",
            "  .. .. .. ..$ Sex     : chr [1:294] \"M\" \"M\" \"M\" \"M\" ...\n",
            "  .. .. .. ..$ Smoking : chr [1:294] \"current\" \"never\" \"former\" \"former\" ...\n",
            "  .. .. .. ..$ Bcell   : num [1:294] 0.0578 0.0436 0.0865 0.0572 0.0332 ...\n",
            "  .. .. .. ..$ CD4T    : num [1:294] 0.125 0.175 0.257 0.157 0.207 ...\n",
            "  .. .. .. ..$ CD8T    : num [1:294] 0.1505 0.1103 0.1128 0.1046 0.0545 ...\n",
            "  .. .. .. ..$ Mono    : num [1:294] 0.0649 0.0877 0.1078 0.0477 0.0813 ...\n",
            "  .. .. .. ..$ Neu     : num [1:294] 0.536 0.591 0.383 0.638 0.583 ...\n",
            "  .. .. .. ..$ NK      : num [1:294] 0.1227 0.0342 0.1158 0.0455 0.0839 ...\n",
            "  .. .. ..@ dimLabels        : chr [1:2] \"sampleNames\" \"sampleColumns\"\n",
            "  .. .. ..@ .__classVersion__:Formal class 'Versions' [package \"Biobase\"] with 1 slot\n",
            "  .. .. .. .. ..@ .Data:List of 1\n",
            "  .. .. .. .. .. ..$ : int [1:3] 1 1 0\n",
            "  .. .. .. .. ..$ names: chr \"AnnotatedDataFrame\"\n",
            "  ..@ featureData      :Formal class 'AnnotatedDataFrame' [package \"Biobase\"] with 4 slots\n",
            "  .. .. ..@ varMetadata      :'data.frame':\t0 obs. of  1 variable:\n",
            "  .. .. .. ..$ labelDescription: chr(0) \n",
            "  .. .. ..@ data             :'data.frame':\t37842 obs. of  0 variables\n",
            "  .. .. ..@ dimLabels        : chr [1:2] \"featureNames\" \"featureColumns\"\n",
            "  .. .. ..@ .__classVersion__:Formal class 'Versions' [package \"Biobase\"] with 1 slot\n",
            "  .. .. .. .. ..@ .Data:List of 1\n",
            "  .. .. .. .. .. ..$ : int [1:3] 1 1 0\n",
            "  .. .. .. .. ..$ names: chr \"AnnotatedDataFrame\"\n",
            "  ..@ annotation       : chr(0) \n",
            "  ..@ protocolData     :Formal class 'AnnotatedDataFrame' [package \"Biobase\"] with 4 slots\n",
            "  .. .. ..@ varMetadata      :'data.frame':\t0 obs. of  1 variable:\n",
            "  .. .. .. ..$ labelDescription: chr(0) \n",
            "  .. .. ..@ data             :'data.frame':\t294 obs. of  0 variables\n",
            "  .. .. ..@ dimLabels        : chr [1:2] \"sampleNames\" \"sampleColumns\"\n",
            "  .. .. ..@ .__classVersion__:Formal class 'Versions' [package \"Biobase\"] with 1 slot\n",
            "  .. .. .. .. ..@ .Data:List of 1\n",
            "  .. .. .. .. .. ..$ : int [1:3] 1 1 0\n",
            "  .. .. .. .. ..$ names: chr \"AnnotatedDataFrame\"\n",
            "  ..@ .__classVersion__:Formal class 'Versions' [package \"Biobase\"] with 1 slot\n",
            "  .. .. ..@ .Data:List of 4\n",
            "  .. .. .. ..$ : int [1:3] 4 2 0\n",
            "  .. .. .. ..$ : int [1:3] 2 56 0\n",
            "  .. .. .. ..$ : int [1:3] 1 3 0\n",
            "  .. .. .. ..$ : int [1:3] 1 0 0\n",
            "  .. .. ..$ names: chr [1:4] \"R\" \"Biobase\" \"eSet\" \"ExpressionSet\"\n"
          ]
        }
      ]
    },
    {
      "cell_type": "markdown",
      "source": [
        "# 2.2 General Descriptives\n",
        "\n",
        "Using this common accesor we can quickly inspect the dataset: size, key phenotypes, and basic distributions.\n"
      ],
      "metadata": {
        "id": "nyqH0jWuhJZ-"
      }
    },
    {
      "cell_type": "code",
      "source": [
        "# Get mehtyl and pheno data\n",
        "methyl <- Biobase::exprs(input_data)   # CpGs x samples\n",
        "pheno  <- Biobase::pData(input_data)   # samples x covariates\n",
        "\n",
        "# Dimensions\n",
        "cat(\"CpGs:\", nrow(methyl), \" | Samples:\", ncol(methyl), \"\\n\")"
      ],
      "metadata": {
        "id": "pUxvt_ZBNHl3",
        "colab": {
          "base_uri": "https://localhost:8080/"
        },
        "outputId": "3f528cd4-3c01-491d-fe27-b8c540c75d3a"
      },
      "execution_count": 7,
      "outputs": [
        {
          "output_type": "stream",
          "name": "stdout",
          "text": [
            "CpGs: 37842  | Samples: 294 \n"
          ]
        }
      ]
    },
    {
      "cell_type": "code",
      "source": [
        "head(pheno)"
      ],
      "metadata": {
        "id": "jTHaHn2DNJGl",
        "colab": {
          "base_uri": "https://localhost:8080/",
          "height": 306
        },
        "outputId": "8dfbe7fc-e0f4-42a6-95ac-ca1f8c822c23"
      },
      "execution_count": 8,
      "outputs": [
        {
          "output_type": "display_data",
          "data": {
            "text/html": [
              "<table class=\"dataframe\">\n",
              "<caption>A data.frame: 6 × 10</caption>\n",
              "<thead>\n",
              "\t<tr><th></th><th scope=col>Celltype</th><th scope=col>Age</th><th scope=col>Sex</th><th scope=col>Smoking</th><th scope=col>Bcell</th><th scope=col>CD4T</th><th scope=col>CD8T</th><th scope=col>Mono</th><th scope=col>Neu</th><th scope=col>NK</th></tr>\n",
              "\t<tr><th></th><th scope=col>&lt;chr&gt;</th><th scope=col>&lt;int&gt;</th><th scope=col>&lt;chr&gt;</th><th scope=col>&lt;chr&gt;</th><th scope=col>&lt;dbl&gt;</th><th scope=col>&lt;dbl&gt;</th><th scope=col>&lt;dbl&gt;</th><th scope=col>&lt;dbl&gt;</th><th scope=col>&lt;dbl&gt;</th><th scope=col>&lt;dbl&gt;</th></tr>\n",
              "</thead>\n",
              "<tbody>\n",
              "\t<tr><th scope=row>GSM1051533</th><td>PBL</td><td>55</td><td>M</td><td>current</td><td>0.05776289</td><td>0.1247670</td><td>0.1504868</td><td>0.06491293</td><td>0.5358684</td><td>0.12265971</td></tr>\n",
              "\t<tr><th scope=row>GSM1051534</th><td>PBL</td><td>37</td><td>M</td><td>never  </td><td>0.04361658</td><td>0.1745954</td><td>0.1103084</td><td>0.08771190</td><td>0.5912413</td><td>0.03415583</td></tr>\n",
              "\t<tr><th scope=row>GSM1051536</th><td>PBL</td><td>59</td><td>M</td><td>former </td><td>0.08652383</td><td>0.2567549</td><td>0.1127774</td><td>0.10776822</td><td>0.3831736</td><td>0.11577982</td></tr>\n",
              "\t<tr><th scope=row>GSM1051537</th><td>PBL</td><td>49</td><td>M</td><td>former </td><td>0.05720053</td><td>0.1568934</td><td>0.1046096</td><td>0.04774298</td><td>0.6380837</td><td>0.04546749</td></tr>\n",
              "\t<tr><th scope=row>GSM1051538</th><td>PBL</td><td>47</td><td>M</td><td>former </td><td>0.03323647</td><td>0.2066790</td><td>0.0545260</td><td>0.08125238</td><td>0.5832287</td><td>0.08392876</td></tr>\n",
              "\t<tr><th scope=row>GSM1051539</th><td>PBL</td><td>69</td><td>M</td><td>never  </td><td>0.03967494</td><td>0.1508131</td><td>0.1469707</td><td>0.09975280</td><td>0.5362770</td><td>0.07770261</td></tr>\n",
              "</tbody>\n",
              "</table>\n"
            ],
            "text/markdown": "\nA data.frame: 6 × 10\n\n| <!--/--> | Celltype &lt;chr&gt; | Age &lt;int&gt; | Sex &lt;chr&gt; | Smoking &lt;chr&gt; | Bcell &lt;dbl&gt; | CD4T &lt;dbl&gt; | CD8T &lt;dbl&gt; | Mono &lt;dbl&gt; | Neu &lt;dbl&gt; | NK &lt;dbl&gt; |\n|---|---|---|---|---|---|---|---|---|---|---|\n| GSM1051533 | PBL | 55 | M | current | 0.05776289 | 0.1247670 | 0.1504868 | 0.06491293 | 0.5358684 | 0.12265971 |\n| GSM1051534 | PBL | 37 | M | never   | 0.04361658 | 0.1745954 | 0.1103084 | 0.08771190 | 0.5912413 | 0.03415583 |\n| GSM1051536 | PBL | 59 | M | former  | 0.08652383 | 0.2567549 | 0.1127774 | 0.10776822 | 0.3831736 | 0.11577982 |\n| GSM1051537 | PBL | 49 | M | former  | 0.05720053 | 0.1568934 | 0.1046096 | 0.04774298 | 0.6380837 | 0.04546749 |\n| GSM1051538 | PBL | 47 | M | former  | 0.03323647 | 0.2066790 | 0.0545260 | 0.08125238 | 0.5832287 | 0.08392876 |\n| GSM1051539 | PBL | 69 | M | never   | 0.03967494 | 0.1508131 | 0.1469707 | 0.09975280 | 0.5362770 | 0.07770261 |\n\n",
            "text/latex": "A data.frame: 6 × 10\n\\begin{tabular}{r|llllllllll}\n  & Celltype & Age & Sex & Smoking & Bcell & CD4T & CD8T & Mono & Neu & NK\\\\\n  & <chr> & <int> & <chr> & <chr> & <dbl> & <dbl> & <dbl> & <dbl> & <dbl> & <dbl>\\\\\n\\hline\n\tGSM1051533 & PBL & 55 & M & current & 0.05776289 & 0.1247670 & 0.1504868 & 0.06491293 & 0.5358684 & 0.12265971\\\\\n\tGSM1051534 & PBL & 37 & M & never   & 0.04361658 & 0.1745954 & 0.1103084 & 0.08771190 & 0.5912413 & 0.03415583\\\\\n\tGSM1051536 & PBL & 59 & M & former  & 0.08652383 & 0.2567549 & 0.1127774 & 0.10776822 & 0.3831736 & 0.11577982\\\\\n\tGSM1051537 & PBL & 49 & M & former  & 0.05720053 & 0.1568934 & 0.1046096 & 0.04774298 & 0.6380837 & 0.04546749\\\\\n\tGSM1051538 & PBL & 47 & M & former  & 0.03323647 & 0.2066790 & 0.0545260 & 0.08125238 & 0.5832287 & 0.08392876\\\\\n\tGSM1051539 & PBL & 69 & M & never   & 0.03967494 & 0.1508131 & 0.1469707 & 0.09975280 & 0.5362770 & 0.07770261\\\\\n\\end{tabular}\n",
            "text/plain": [
              "           Celltype Age Sex Smoking Bcell      CD4T      CD8T      Mono      \n",
              "GSM1051533 PBL      55  M   current 0.05776289 0.1247670 0.1504868 0.06491293\n",
              "GSM1051534 PBL      37  M   never   0.04361658 0.1745954 0.1103084 0.08771190\n",
              "GSM1051536 PBL      59  M   former  0.08652383 0.2567549 0.1127774 0.10776822\n",
              "GSM1051537 PBL      49  M   former  0.05720053 0.1568934 0.1046096 0.04774298\n",
              "GSM1051538 PBL      47  M   former  0.03323647 0.2066790 0.0545260 0.08125238\n",
              "GSM1051539 PBL      69  M   never   0.03967494 0.1508131 0.1469707 0.09975280\n",
              "           Neu       NK        \n",
              "GSM1051533 0.5358684 0.12265971\n",
              "GSM1051534 0.5912413 0.03415583\n",
              "GSM1051536 0.3831736 0.11577982\n",
              "GSM1051537 0.6380837 0.04546749\n",
              "GSM1051538 0.5832287 0.08392876\n",
              "GSM1051539 0.5362770 0.07770261"
            ]
          },
          "metadata": {}
        }
      ]
    },
    {
      "cell_type": "markdown",
      "source": [
        "We can make quick descriptives"
      ],
      "metadata": {
        "id": "Xnr_m4JN0wkh"
      }
    },
    {
      "cell_type": "code",
      "source": [
        "# See available phenotype columns\n",
        "print(colnames(pheno))"
      ],
      "metadata": {
        "colab": {
          "base_uri": "https://localhost:8080/"
        },
        "id": "aewYhnCn01In",
        "outputId": "7d6796bd-9a00-4428-9099-3ca662c0ed84"
      },
      "execution_count": 9,
      "outputs": [
        {
          "output_type": "stream",
          "name": "stdout",
          "text": [
            " [1] \"Celltype\" \"Age\"      \"Sex\"      \"Smoking\"  \"Bcell\"    \"CD4T\"    \n",
            " [7] \"CD8T\"     \"Mono\"     \"Neu\"      \"NK\"      \n"
          ]
        }
      ]
    },
    {
      "cell_type": "code",
      "source": [
        "# Choose variables to include in the descriptives\n",
        "cont_vars <- intersect(c(\"Age\"), names(pheno))\n",
        "cat_vars  <- intersect(c(\"Sex\",\"Smoking\",\"Batch\",\"Array\",\"Slide\",\"Plate\"), names(pheno))\n",
        "vars <- c(cont_vars, cat_vars)\n",
        "\n",
        "Build Table 1\n",
        "tab1 <- CreateTableOne(vars = vars,\n",
        "                       strata = strata_var,\n",
        "                       data = pheno,\n",
        "                       factorVars = cat_vars)\n",
        "\n",
        "# 5) Print to console\n",
        "print(tab1, showAllLevels = TRUE, quote = FALSE, noSpaces = TRUE)\n",
        "\n",
        "# 6) Save outputs\n",
        "out_dir <- getwd()  # change if you want\n",
        "txt_path <- file.path(out_dir, if (is.null(strata_var)) \"Table1_overall.txt\" else paste0(\"Table1_by_\", strata_var, \".txt\"))\n",
        "csv_path <- sub(\"\\\\.txt$\", \".csv\", txt_path)"
      ],
      "metadata": {
        "id": "FpUxXmax0yoQ"
      },
      "execution_count": null,
      "outputs": []
    },
    {
      "cell_type": "code",
      "source": [
        "# Stratified tale smokers non-smkoers\n",
        "strata_var <- intersect(c(\"Smoking\"), names(pheno))\n",
        "\n",
        "tab1_strata <- CreateTableOne(vars = vars, strata = strata_var, data = pheno, factorVars = cat_vars)\n",
        "print(tab1, showAllLevels = TRUE, quote = FALSE, noSpaces = TRUE)\n",
        "save_to <- \"\"\n",
        "write.table(\"\")"
      ],
      "metadata": {
        "id": "GIyKd6BC11St"
      },
      "execution_count": null,
      "outputs": []
    },
    {
      "cell_type": "markdown",
      "source": [
        "To summarizewe have\n",
        "Data: Cohort 1 (N = 294)\n",
        "- Array: 450K\n",
        "- Tissue: blood\n",
        "- Ancestry: White European\n",
        "- Sex: males and females\n",
        "- Smoking: never, former, current\n",
        "- Age: yes\n",
        "- Array batch: yes\n",
        "- Cells: yes\n"
      ],
      "metadata": {
        "id": "_5v0d0Xn0Gwy"
      }
    },
    {
      "cell_type": "code",
      "source": [
        "pheno.cohort1<-pData(eset.cohort1)\n",
        "dim(pheno.cohort1)\n",
        "methyl.cohort1<-exprs(eset.cohort1)\n",
        "dim(methyl.cohort1)"
      ],
      "metadata": {
        "id": "fZ5CyP84NtWn"
      },
      "execution_count": null,
      "outputs": []
    },
    {
      "cell_type": "markdown",
      "source": [
        "# 3 Quick QC\n",
        "\n",
        "lambda"
      ],
      "metadata": {
        "id": "k2O0vFaiUlQg"
      }
    },
    {
      "cell_type": "code",
      "source": [
        "qchisq(median(EWASres.cohort1$p.value,na.rm=T), df = 1,\n",
        "                        lower.tail = F)/qchisq(0.5, 1)"
      ],
      "metadata": {
        "id": "5-_UqItjUnrF"
      },
      "execution_count": null,
      "outputs": []
    },
    {
      "cell_type": "code",
      "source": [
        "#cohort 1\n",
        "pvals.cohort1<-EWASres.cohort1$p.value\n",
        "qq(pvals.cohort1,main=(\"QQPlot EWAS cohort 1 smoking Never VS Current\"))"
      ],
      "metadata": {
        "id": "SC-4_zIQUq6l"
      },
      "execution_count": null,
      "outputs": []
    },
    {
      "cell_type": "markdown",
      "source": [
        "# 3 Run EWAS"
      ],
      "metadata": {
        "id": "MXCk5nulRbqY"
      }
    },
    {
      "cell_type": "markdown",
      "source": [
        "## 3.1. Data preparation\n",
        "\n",
        "Here we will show an example to run the analysis testing never smokers against current smokers.\n",
        "The first step is to subset the ExpressionSet with only the samples that we need. In this case, we only keep the never smokers and the current smokers, getting rid of the former smokers.\n"
      ],
      "metadata": {
        "id": "LlPQ7p9cRgWw"
      }
    },
    {
      "cell_type": "code",
      "source": [
        "table(pheno.cohort1$Smoking)"
      ],
      "metadata": {
        "id": "yMWheBZORnKh"
      },
      "execution_count": null,
      "outputs": []
    },
    {
      "cell_type": "code",
      "source": [
        "current <- pheno.cohort1[pheno.cohort1$Smoking %in% c('never','current'),]\n",
        "dim(current)"
      ],
      "metadata": {
        "id": "oD-h0d21Rpag"
      },
      "execution_count": null,
      "outputs": []
    },
    {
      "cell_type": "code",
      "source": [
        "eset.current <- eset.cohort1[,rownames(current)] #subset the eset eset.current"
      ],
      "metadata": {
        "id": "yXfKxbpBR9vK"
      },
      "execution_count": null,
      "outputs": []
    },
    {
      "cell_type": "code",
      "source": [
        "table(eset.current$Smoking)"
      ],
      "metadata": {
        "id": "2SXw_tuRR8Pw"
      },
      "execution_count": null,
      "outputs": []
    },
    {
      "cell_type": "markdown",
      "source": [
        "Extract phenodata from the ExpressionSet with never and current smokers using pData() function from Biobase R package."
      ],
      "metadata": {
        "id": "4Y0F4dwRSBZh"
      }
    },
    {
      "cell_type": "code",
      "source": [
        "pheno.current<-pData(eset.current)\n",
        "head(pheno.current)"
      ],
      "metadata": {
        "id": "jfoYv-LhSByx"
      },
      "execution_count": null,
      "outputs": []
    },
    {
      "cell_type": "markdown",
      "source": [
        "Now, we need to check the exposure variable (Smoking). We need this variable as factor."
      ],
      "metadata": {
        "id": "9vJhct6dSEzS"
      }
    },
    {
      "cell_type": "code",
      "source": [
        "pheno.current$Smoking<-as.factor(pheno.current$Smoking)\n",
        "class(pheno.current$Smoking)"
      ],
      "metadata": {
        "id": "A3LtRGHhSE-R"
      },
      "execution_count": null,
      "outputs": []
    },
    {
      "cell_type": "markdown",
      "source": [
        "Check the levels. We want “never” to be the reference level.To this end, you can use the relevel()function."
      ],
      "metadata": {
        "id": "HF8n-hcPSJzx"
      }
    },
    {
      "cell_type": "code",
      "source": [
        "levels(pheno.current$Smoking)"
      ],
      "metadata": {
        "id": "I4NXsMTkSJ6N"
      },
      "execution_count": null,
      "outputs": []
    },
    {
      "cell_type": "code",
      "source": [
        "pheno.current$Smoking <- relevel(pheno.current$Smoking, \"never\")\n",
        "levels(pheno.current$Smoking)"
      ],
      "metadata": {
        "id": "DvoYQPQJSMuG"
      },
      "execution_count": null,
      "outputs": []
    },
    {
      "cell_type": "markdown",
      "source": [
        "Finally, create an object with the exposure variable (Smoking). You will need this object to run the meffil.ewas() function."
      ],
      "metadata": {
        "id": "SdmBRjRwSPBa"
      }
    },
    {
      "cell_type": "code",
      "source": [
        "variable <- pheno.current$Smoking\n",
        "class(variable)"
      ],
      "metadata": {
        "id": "F6LkLnsjSPV5"
      },
      "execution_count": null,
      "outputs": []
    },
    {
      "cell_type": "markdown",
      "source": [
        "The next step is to select the covariates of interest for the EWAS. We are interested in sex, age and cell type proportions. Check the class of these covariates before running the analysis."
      ],
      "metadata": {
        "id": "K5D2SkOxSSkA"
      }
    },
    {
      "cell_type": "code",
      "source": [
        "class(pheno.current$Age)\n",
        "class(pheno.current$Sex)\n",
        "class(pheno.current$Bcell)\n",
        "class(pheno.current$CD4T)\n",
        "class(pheno.current$CD8T)\n",
        "class(pheno.current$Mono)\n",
        "class(pheno.current$Neu)\n",
        "class(pheno.current$NK)"
      ],
      "metadata": {
        "id": "LtraGhbFSS5B"
      },
      "execution_count": null,
      "outputs": []
    },
    {
      "cell_type": "markdown",
      "source": [
        "Then, create a new data.framewith the covariates of interest. You will need this object to run the meffil.ewas() function."
      ],
      "metadata": {
        "id": "Le70lGs_SftO"
      }
    },
    {
      "cell_type": "code",
      "source": [
        "pheno.current$Sex<-as.factor(pheno.current$Sex)\n",
        "covariates <- pheno.current[,c(\"Age\",\"Sex\",\n",
        "                               \"Bcell\",\"CD4T\",\"CD8T\",\"Mono\",\"Neu\",\"NK\")]"
      ],
      "metadata": {
        "id": "caStqnQoSf0Z"
      },
      "execution_count": null,
      "outputs": []
    },
    {
      "cell_type": "markdown",
      "source": [
        "After having the exposure and the covariates objects ready, you will need to extract the methylation matrix from the ExpressionSet using exprs() function from Biobase R package. You will need this object to run the meffil.ewas() function."
      ],
      "metadata": {
        "id": "uEAY01U6Sk1C"
      }
    },
    {
      "cell_type": "code",
      "source": [
        "methyl.current<-exprs(eset.current)\n",
        "methyl.current[1:5,1:5]"
      ],
      "metadata": {
        "id": "cUQ5Kx9GSkgC"
      },
      "execution_count": null,
      "outputs": []
    },
    {
      "cell_type": "markdown",
      "source": [
        "Check order of the samples between the pheno and the methylation matrix. If samples are not in the same order, you could incorrectly assign the values of the variables to the samples and therefore also to the methylation."
      ],
      "metadata": {
        "id": "7-p_hvLwSrkD"
      }
    },
    {
      "cell_type": "code",
      "source": [
        "table(ifelse(rownames(pheno.current)==colnames(methyl.current),\n",
        "             \"Matched\",\"--NOT MATCHED--\"))"
      ],
      "metadata": {
        "id": "oPVIlfGWSrJK"
      },
      "execution_count": null,
      "outputs": []
    },
    {
      "cell_type": "markdown",
      "source": [
        "## 3.2 Run Models\n",
        "To run the EWAS we will use the function meffil.ewas() from meffil R package.\n",
        "\n",
        "We need as arguments:\n",
        "\n",
        "beta: Methylation matrix\n",
        "variable: Vector with the exposure variable.\n",
        "covariates: A dataframe with the covariates to include in the regression model\n",
        "rlm: As we want to run a robust linear regression model, we need to specify “TRUE” in the argument “rlm”\n",
        "winsorize.pct: To reduce the impact of severe outliers in the DNA methylation data, we will winsorize the methylation beta values (1%), with 0.5% at upper and lower ends of the distribution (Ghosh 2012)\n",
        "sva (by default TRUE). This function will apply Surrogate Variable Analysis (SVA) to the methylation levels and covariates and include the resulting variables as covariates in the regression model to correct for technical batch (noise)"
      ],
      "metadata": {
        "id": "d3DffJZXS5Db"
      }
    },
    {
      "cell_type": "code",
      "source": [
        "ewas.current <- meffil.ewas(methyl.current,\n",
        "                            variable=variable,\n",
        "                            covariates=covariates,\n",
        "                            rlm=TRUE,\n",
        "                            winsorize.pct=0.05)"
      ],
      "metadata": {
        "id": "IE77TT77TF2U"
      },
      "execution_count": null,
      "outputs": []
    },
    {
      "cell_type": "markdown",
      "source": [
        "## 3.3 Results"
      ],
      "metadata": {
        "id": "2cA-7T6WTMlj"
      }
    },
    {
      "cell_type": "code",
      "source": [
        "summary(ewas.current)"
      ],
      "metadata": {
        "id": "ezribdSkTQYT"
      },
      "execution_count": null,
      "outputs": []
    },
    {
      "cell_type": "markdown",
      "source": [
        "We are interested in the EWAS results. This function calculated the results\n",
        "1) without adjusting for covariates, 2) adjusting for the covariates we specified above and also 3) adjusting for the covariates and the surrogate variables to correct the batch (noise)"
      ],
      "metadata": {
        "id": "xzHnNYhNTStc"
      }
    },
    {
      "cell_type": "code",
      "source": [
        "summary(ewas.current$analyses)"
      ],
      "metadata": {
        "id": "f8yz499dTSyb"
      },
      "execution_count": null,
      "outputs": []
    },
    {
      "cell_type": "markdown",
      "source": [
        "We will use the results from the analysis adjusted for the covariates and the surrogate variables"
      ],
      "metadata": {
        "id": "bSHYNKKqTWDz"
      }
    },
    {
      "cell_type": "code",
      "source": [
        "res.current<-ewas.current$analyses$sva\n",
        "res.current<-res.current$table"
      ],
      "metadata": {
        "id": "CzqabRIxTV0L"
      },
      "execution_count": null,
      "outputs": []
    },
    {
      "cell_type": "markdown",
      "source": [
        "We will create a column with the Probe ID, which now is in the rows of the results dataframe"
      ],
      "metadata": {
        "id": "aqzP5Jf0TY6E"
      }
    },
    {
      "cell_type": "code",
      "source": [
        "res.current$probeID<-rownames(res.current)"
      ],
      "metadata": {
        "id": "KDMGdPvdTZH7"
      },
      "execution_count": null,
      "outputs": []
    },
    {
      "cell_type": "markdown",
      "source": [
        "We order the results by p.value\n",
        "\n"
      ],
      "metadata": {
        "id": "d7kB-uUEThK3"
      }
    },
    {
      "cell_type": "code",
      "source": [
        "res.current.ord<-res.current[order(res.current$p.value),]\n",
        "head(res.current.ord)"
      ],
      "metadata": {
        "id": "lk7dwaeqThQU"
      },
      "execution_count": null,
      "outputs": []
    },
    {
      "cell_type": "markdown",
      "source": [
        "The column names stand for:\n",
        "\n",
        "p.value: pval significance of the association\n",
        "fdr: p.value corrected by the FALSE DISCOVERY RATE method\n",
        "p.holm: p.value corrected by Holm-Bonferroni method (we are not going to use it)\n",
        "t.statistic\n",
        "coefficient: coefficient of the association (the effect or beta)\n",
        "coefficient.ci.high: confidence interval up\n",
        "coefficient.ci.low: confindence interval down\n",
        "coefficient.se: standard error of the coefficient\n",
        "n: sample size included in the analysis\n",
        "chromosome: chromosome in which the CpG is located in the genome (hg19)\n",
        "position: position of the CpG in the genome (hg19)"
      ],
      "metadata": {
        "id": "xOhElhJJTl88"
      }
    },
    {
      "cell_type": "markdown",
      "source": [
        "Significant hits\n",
        "\n",
        "Our results were corrected for multiple testing using FDR method. Significance was defined at FDR p-value < 0.05. We tested 37,842 CpGs."
      ],
      "metadata": {
        "id": "WqiOI7qVTmEc"
      }
    },
    {
      "cell_type": "code",
      "source": [
        "dim(res.current.ord)"
      ],
      "metadata": {
        "id": "GUqxfBZoTpUE"
      },
      "execution_count": null,
      "outputs": []
    },
    {
      "cell_type": "markdown",
      "source": [
        "Significant CpGs with a FDR p-value <0.05\n",
        "\n"
      ],
      "metadata": {
        "id": "If43oCmTTpbc"
      }
    },
    {
      "cell_type": "code",
      "source": [
        "head(res.current.sig)"
      ],
      "metadata": {
        "id": "Zkw6yjZ7TssD"
      },
      "execution_count": null,
      "outputs": []
    },
    {
      "cell_type": "markdown",
      "source": [
        "Number of significant CpGs with a positive or negative effect\n",
        "\n"
      ],
      "metadata": {
        "id": "zyEs3mn-TvsT"
      }
    },
    {
      "cell_type": "code",
      "source": [
        "dim(res.current.sig[res.current.sig$coefficient <0,])"
      ],
      "metadata": {
        "id": "qSXRoB77TvXT"
      },
      "execution_count": null,
      "outputs": []
    },
    {
      "cell_type": "code",
      "source": [
        "dim(res.current.sig[res.current.sig$coefficient >0,])"
      ],
      "metadata": {
        "id": "k1PQuBGxTyy9"
      },
      "execution_count": null,
      "outputs": []
    },
    {
      "cell_type": "markdown",
      "source": [
        "### 3.3.1 Report\n",
        "\n",
        "To explore the results, we will create a report using meffil.ewas.parameters() and meffil.ewas.summary() functions from meffil R package.\n",
        "\n",
        "This report contains:\n",
        "\n",
        "Sample characteristics\n",
        "Covariate associations: Associations between the exposure variable (Smoking) and the covariates.\n",
        "Lambdas and QQplots to examine inflation (none, all cov, sva)\n",
        "Manhattan plots\n",
        "Significant CpG sites. As threshold we will indicate FDR=0.05.\n",
        "Specific CpGs Box plot: To observe the methylation differences between Never VS Current smokers, you can specify the CpGs that you are interested in. Today we will select our top significant CpG “cg05575921” that is annotated to AHRR gene and it is well known for its association with tabbacco."
      ],
      "metadata": {
        "id": "48qYaydnT3W8"
      }
    },
    {
      "cell_type": "code",
      "source": [
        "ewas.parameters <- meffil.ewas.parameters(max.plots = 1,model=\"sva\", sig.threshold = 3.86e-04) #FDR (0.05) = p.value (3.86e-04)\n",
        "candidate.site <- c(\"cg05575921\")\n",
        "ewas.summary <- meffil.ewas.summary(ewas.current,\n",
        "                                    methyl.current,\n",
        "                                    selected.cpg.sites=candidate.site,\n",
        "                                    parameters=ewas.parameters)"
      ],
      "metadata": {
        "id": "zV7a2s2BT9dU"
      },
      "execution_count": null,
      "outputs": []
    },
    {
      "cell_type": "markdown",
      "source": [
        "### 3.3.2 Plots\n",
        "VOLCANO"
      ],
      "metadata": {
        "id": "H-MlNyRjUCuc"
      }
    },
    {
      "cell_type": "code",
      "source": [
        "res.current.ord$diffexpressed <- \"NO\"\n",
        "res.current.ord$diffexpressed[res.current.ord$coefficient > 0\n",
        "                              & res.current.ord$fdr <0.05] <- \"POSITIVE\"\n",
        "res.current.ord$diffexpressed[res.current.ord$coefficient < 0\n",
        "                              & res.current.ord$fdr <0.05] <- \"NEGATIVE\"\n",
        "\n",
        "p <- ggplot(data=res.current.ord, aes(x=res.current.ord$coefficient, y=-log10(res.current.ord$p.value), col=res.current.ord$diffexpressed)) +\n",
        "  xlim(c(-0.3,0.3))+ ylim(c(0,35)) +\n",
        "  geom_point(size = 1.5) + theme_minimal() +\n",
        "  labs(title = \" \", x = \"beta\", y = \"-log10(P-value)\", colour = \"Effect\") +\n",
        "  theme(axis.title = element_text(size = 14, color = \"black\",vjust=0.5)) +\n",
        "  theme(plot.title = element_text(size = 14,face=\"bold\",color=\"black\",\n",
        "                                  hjust= 0.5, vjust=0.5)) +\n",
        "  theme(legend.title = element_text(color = \"black\", size = 14))\n",
        "\n",
        "\n",
        "# Add lines as before...\n",
        "p2 <- p + geom_hline(yintercept=c(-log10(3.86e-04)), col=c(\"red\"),\n",
        "                     linetype = \"dashed\") +\n",
        "  theme(axis.text = element_text(size = 14)) #thres FDR (0.05) = p.val 3.86-04\n",
        "mycolors<-c(\"#157F8D\",\"#AF8D9B\", \"grey\")\n",
        "names(mycolors) <- c(\"POSITIVE\", \"NEGATIVE\", \"NO\")\n",
        "\n",
        "p3 <- p2 + scale_colour_manual(values = mycolors)\n",
        "\n",
        "p3"
      ],
      "metadata": {
        "id": "JDURO9i6UHjd"
      },
      "execution_count": null,
      "outputs": []
    },
    {
      "cell_type": "markdown",
      "source": [
        "MANHATTAN PLOT"
      ],
      "metadata": {
        "id": "kY4TOz9ZUJdM"
      }
    },
    {
      "cell_type": "code",
      "source": [
        "# Create a dataframe with chr, start, end and pval\n",
        "df.current<-res.current.ord[,c(\"chromosome\",\"position\",\"p.value\")]\n",
        "head(df.current)"
      ],
      "metadata": {
        "id": "1yf9iNoPUJkM"
      },
      "execution_count": null,
      "outputs": []
    },
    {
      "cell_type": "code",
      "source": [
        "df.current$start<-df.current$position\n",
        "df.current$end<-df.current$position + 1\n",
        "colnames(df.current)<-c(\"chr\",\"position\",\"p.value\",\"start\",\"end\")\n",
        "df.current<-df.current[,c(\"chr\",\"start\",\"end\",\"p.value\")]\n",
        "\n",
        "# Create GRanges object needed\n",
        "df.GRanges<-makeGRangesFromDataFrame(df.current, keep.extra.columns = TRUE)\n",
        "\n",
        "kp <- plotKaryotype(plot.type=4, labels.plotter = NULL)\n",
        "kp <- kpAddChromosomeNames(kp, cex=0.6, srt=45)\n",
        "kp <- kpPlotManhattan(kp, data=df.GRanges,pval=df.current$p.value, ymax=40,genomewideline =3.42)\n",
        "kp <- kpAxis(kp, ymin=0, ymax=40, cex=0.7)"
      ],
      "metadata": {
        "id": "9UrnEP3gUPuM"
      },
      "execution_count": null,
      "outputs": []
    },
    {
      "cell_type": "markdown",
      "source": [
        "# Questions-results\n",
        "At the end of the practice, please answer these questions:\n",
        "\n",
        "Which is the lambda of the unadjusted EWAS of current smoking? How does it change in adding covariates and surrogate variables?\n",
        "How many CpGs are associated with current smoking (after False Discovery Rate – FDR - correction) in the model adjusted by covariates and sva?\n",
        "How many of the FDR CpGs show higher methylation and how many lower methylation?\n",
        "Which is the top 1 CpG? In which chromosome is located?\n",
        "çUnadjusted: 2.44, adjusted for covariates: 2.22 and adjusted for covariates + sva: 1.51\n",
        "289\n",
        "164 show a negative effect and 125 show a positive effect\n",
        "cg05575921, it is located in chromosome 5"
      ],
      "metadata": {
        "id": "-re722wCUUC9"
      }
    },
    {
      "cell_type": "markdown",
      "source": [
        "# 4 Downstream analyiss\n",
        "\n",
        "\n",
        "also it cvan be done with online tools eFORGE is used to identify cell-type or tissue-type specific signals in epigenomic data by looking at the overlap between differentially methylated positions (DMPs) with DNase I hypersensitive sites (DHSs)\n",
        "\n",
        "EWAS Catalog is a huge database of EWAS results. We can submit the names of our top CpGs to see the last published information about them"
      ],
      "metadata": {
        "id": "BwEWXbEhU49v"
      }
    },
    {
      "cell_type": "code",
      "source": [
        "library(IlluminaHumanMethylation450kanno.ilmn12.hg19)\n",
        "library(clusterProfiler)\n",
        "library(org.Hs.eg.db)\n",
        "library(enrichplot)\n",
        "library(DOSE)"
      ],
      "metadata": {
        "id": "08Su8gJ6U9nG"
      },
      "execution_count": null,
      "outputs": []
    },
    {
      "cell_type": "markdown",
      "source": [
        "## 4.1 Annotation\n",
        "Once we have obtained a list with the CpGs that are significant in our analysis, we need to locate them in the genome and try to know which structures surround them. The annotation consists in obtaining this information:\n",
        "\n",
        "First we load the annotation from IlluminaHumanMethylation450kanno.ilmn12.hg19 R package and select the columns of interest\n",
        "\n",
        "anot her option is to go to ...... (ebpage)"
      ],
      "metadata": {
        "id": "7ni26h0_U-J9"
      }
    },
    {
      "cell_type": "code",
      "source": [
        "data(\"IlluminaHumanMethylation450kanno.ilmn12.hg19\")\n",
        "annotation.table<- getAnnotation(IlluminaHumanMethylation450kanno.ilmn12.hg19)\n",
        "dim(annotation.table)"
      ],
      "metadata": {
        "id": "28GNRcB4Vsif"
      },
      "execution_count": null,
      "outputs": []
    },
    {
      "cell_type": "code",
      "source": [
        "annotation.table<-as.data.frame(annotation.table[,c(\"chr\",\"pos\",\"strand\",\n",
        "                                                    \"Name\",\"Islands_Name\",\n",
        "                                                    \"Relation_to_Island\",\n",
        "                                                    \"UCSC_RefGene_Name\",\n",
        "                                                    \"UCSC_RefGene_Group\")])\n",
        "head(annotation.table)"
      ],
      "metadata": {
        "id": "2YhLKmMGVu9Y"
      },
      "execution_count": null,
      "outputs": []
    },
    {
      "cell_type": "markdown",
      "source": [
        "Merge our significant metaEWAS results with the annotation.\n",
        "\n"
      ],
      "metadata": {
        "id": "G-5_A1xjVAH9"
      }
    },
    {
      "cell_type": "code",
      "source": [
        "metaEWAS.ann<-merge(metaEWAS.FDRsig, annotation.table,by.x=\"probe\",by.y=\"Name\")\n",
        "metaEWAS.ann.ord<-metaEWAS.ann[order(metaEWAS.ann$p.fe),]\n",
        "\n",
        "head(metaEWAS.ann.ord)"
      ],
      "metadata": {
        "id": "oebyFlHqVwz4"
      },
      "execution_count": null,
      "outputs": []
    },
    {
      "cell_type": "markdown",
      "source": [
        "Create list of Genes for Enrichment and save list of FDR CpGs and FDR genes\n",
        "\n"
      ],
      "metadata": {
        "id": "CSpzQp3OVzzg"
      }
    },
    {
      "cell_type": "code",
      "source": [
        "ann.genes.current<-metaEWAS.ann.ord$UCSC_RefGene_Name\n",
        "ann.genes.current <- unlist(lapply(strsplit(ann.genes.current, \";\"), unique))"
      ],
      "metadata": {
        "id": "TwC7xtCSVz5g"
      },
      "execution_count": null,
      "outputs": []
    },
    {
      "cell_type": "markdown",
      "source": [
        "## 4.2. Enrichment\n",
        "he idea is to compare the list of genes that overlap our CpGs with the list of all the human genes that are anotated in specific databases. With this, we can see if our list of genes is a random subset or no.\n",
        "\n",
        "First of all we convert Gene Symbols to Ensembl and Entrez Gene IDs to use them later"
      ],
      "metadata": {
        "id": "3JejtZDZV-rd"
      }
    },
    {
      "cell_type": "code",
      "source": [
        "ids <- bitr(ann.genes.current, fromType=\"SYMBOL\", toType=c(\"ENSEMBL\", \"ENTREZID\"), OrgDb=\"org.Hs.eg.db\")\n",
        "head(ids)"
      ],
      "metadata": {
        "id": "wBKzfC1eWDtt"
      },
      "execution_count": null,
      "outputs": []
    },
    {
      "cell_type": "markdown",
      "source": [
        "### 4.2.1. GO terms\n",
        "We will first work with the Gene Ontology (GO) database, that allows us to see if a specific gene function is overrepresented in our gene list. We need to obtain the list of all human genes that are curated in GO."
      ],
      "metadata": {
        "id": "MwFyZTAvV-0X"
      }
    },
    {
      "cell_type": "code",
      "source": [
        "df = as.data.frame(org.Hs.egGO)\n",
        "go_gene_list = unique(sort(df$gene_id))\n",
        "ans.go <- enrichGO(gene = ids$ENTREZID,\n",
        "                   ont = \"BP\",\n",
        "                   OrgDb =\"org.Hs.eg.db\",\n",
        "                   universe = go_gene_list,\n",
        "                   readable=TRUE,\n",
        "                   pvalueCutoff = 0.05)\n",
        "\n",
        "tab.go <- as.data.frame(ans.go)\n",
        "tab.go<- subset(tab.go, Count>5)\n",
        "head(tab.go)"
      ],
      "metadata": {
        "id": "lMHlhXqFWHSD"
      },
      "execution_count": null,
      "outputs": []
    },
    {
      "cell_type": "markdown",
      "source": [
        "Finally we can perform different type of plots to see the results in a graphical way\n",
        "\n"
      ],
      "metadata": {
        "id": "LPiyy1BjWLBl"
      }
    },
    {
      "cell_type": "code",
      "source": [
        "p1 <- barplot(ans.go, showCategory=10) +\n",
        "  ggtitle('Never vs Current Smokers') +\n",
        "  theme(plot.title = element_text(size = 18))\n",
        "p1"
      ],
      "metadata": {
        "id": "Bo2-ueAAWLHL"
      },
      "execution_count": null,
      "outputs": []
    },
    {
      "cell_type": "code",
      "source": [
        "ans.go <- pairwise_termsim(ans.go)\n",
        "p2 <- emapplot(ans.go, cex_label_category = 0.5, showCategory = 20) +\n",
        "  ggtitle('Never vs Current Smokers') +\n",
        "  theme(plot.title = element_text(size = 18))\n",
        "p2"
      ],
      "metadata": {
        "id": "dqAVVL_qWOXC"
      },
      "execution_count": null,
      "outputs": []
    },
    {
      "cell_type": "code",
      "source": [
        "p3 <- cnetplot(ans.go, circular = FALSE, colorEdge = TRUE, showCategory = 2)\n",
        "p3"
      ],
      "metadata": {
        "id": "6g5DVresWQvK"
      },
      "execution_count": null,
      "outputs": []
    },
    {
      "cell_type": "markdown",
      "source": [
        "### 4.2.2 Reactome"
      ],
      "metadata": {
        "id": "gkqTJtw8WWBe"
      }
    },
    {
      "cell_type": "code",
      "source": [
        "ans.react <- enrichPathway(gene=ids$ENTREZID,\n",
        "                           pvalueCutoff = 0.05,\n",
        "                           readable=TRUE)\n",
        "tab.react <- as.data.frame(ans.react)\n",
        "head(tab.react)"
      ],
      "metadata": {
        "id": "AT6Z1TK-WYu2"
      },
      "execution_count": null,
      "outputs": []
    },
    {
      "cell_type": "markdown",
      "source": [
        "In this case, it exists a function that allows us to graphically investigate each of the pathwaysto see how the genes interact between them. We need to prepare a named list with the entrez gene ids and their fold change"
      ],
      "metadata": {
        "id": "xYdigdCpWbNm"
      }
    },
    {
      "cell_type": "code",
      "source": [
        "ids_coef_df <- merge(ids, metaEWAS.ann.ord[,c('UCSC_RefGene_Name', 'coef.fe')],\n",
        "                     by.x = 'SYMBOL',\n",
        "                     by.y='UCSC_RefGene_Name')\n",
        "\n",
        "pathway_genes <- str_split(tab.react$geneID[[1]], '/')[[1]]\n",
        "\n",
        "ids_coef_df <- ids_coef_df[ids_coef_df$SYMBOL %in% pathway_genes,]\n",
        "ids_coef_df <- ids_coef_df[!duplicated(ids_coef_df$ENTREZID),]\n",
        "ids_coef <- ids_coef_df$coef.fe\n",
        "names(ids_coef) <- ids_coef_df$ENTREZID\n",
        "\n",
        "\n",
        "p3 <- viewPathway(\"Platelet activation, signaling and aggregation\",\n",
        "            readable = TRUE,\n",
        "            foldChange = ids_coef)\n",
        "p3"
      ],
      "metadata": {
        "id": "kr52NXnQWcYm"
      },
      "execution_count": null,
      "outputs": []
    },
    {
      "cell_type": "markdown",
      "source": [
        "If the net is too busy, we can re-plot keeping just the genes on our list (the coloured ones)"
      ],
      "metadata": {
        "id": "-6uV1wGyWgX9"
      }
    },
    {
      "cell_type": "code",
      "source": [
        "p3$data <- p3$data[!is.na(p3$data$color),]\n",
        "p3"
      ],
      "metadata": {
        "id": "DyMTCTH2WgeA"
      },
      "execution_count": null,
      "outputs": []
    },
    {
      "cell_type": "markdown",
      "source": [
        "t the end of the practice, please answer these questions:\n",
        "\n",
        "Which is the top 1 enriched GO term in current smokers? and in former smokers?\n",
        "Which are the enriched Reactome pathways in current smokers? and in former smokers?\n",
        "Which are the enriched tissues in current smokers? and informer smokers?"
      ],
      "metadata": {
        "id": "NMM5lgQEVANW"
      }
    },
    {
      "cell_type": "markdown",
      "source": [
        "For current smokers it is the regulation of neuron projection development. For former smokers it is embryonic organ development\n",
        "For current smokers it is Platelet activation, signaling and aggregation. For former smokers it is Neuronal System\n",
        "In current smokers they are blood and muscle. In former smokers they are blood and ESC"
      ],
      "metadata": {
        "id": "XH37UA4RUbYF"
      }
    },
    {
      "cell_type": "markdown",
      "source": [
        "** RECAP **\n",
        "Input: ExpressionSet with matrix of beta values + covariates dataframe (exposure, covariates, cells)\n",
        "Output (for current and former):\n",
        "- results dataframes (not adj, adj, adj and sva)\n",
        "- report (descriptive, QQ plot and lambda, Manhattan plot, Box plots)\n",
        "- Volcano plot and Manhattan plot"
      ],
      "metadata": {
        "id": "jtDlnQbktwqi"
      }
    }
  ]
}